{
 "cells": [
  {
   "cell_type": "markdown",
   "metadata": {},
   "source": [
    "# [第2章: UNIXコマンド](https://nlp100.github.io/ja/ch02.html)\n",
    "[popular-names.txt](https://nlp100.github.io/data/popular-names.txt)は，アメリカで生まれた赤ちゃんの「名前」「性別」「人数」「年」をタブ区切り形式で格納したファイルである．以下の処理を行うプログラムを作成し，[popular-names.txt](https://nlp100.github.io/data/popular-names.txt)を入力ファイルとして実行せよ．さらに，同様の処理をUNIXコマンドでも実行し，プログラムの実行結果を確認せよ．"
   ]
  },
  {
   "cell_type": "code",
   "execution_count": 1,
   "metadata": {},
   "outputs": [
    {
     "name": "stdout",
     "output_type": "stream",
     "text": [
      "Input/popular-names.txt\r\n"
     ]
    }
   ],
   "source": [
    "!ls Input/popular-names.txt"
   ]
  },
  {
   "cell_type": "markdown",
   "metadata": {},
   "source": [
    "## [10. 行数のカウント](https://nlp100.github.io/ja/ch02.html#10-%E8%A1%8C%E6%95%B0%E3%81%AE%E3%82%AB%E3%82%A6%E3%83%B3%E3%83%88)\n",
    "行数をカウントせよ．確認にはwcコマンドを用いよ．"
   ]
  },
  {
   "cell_type": "code",
   "execution_count": 2,
   "metadata": {},
   "outputs": [
    {
     "data": {
      "text/plain": [
       "2780"
      ]
     },
     "execution_count": 2,
     "metadata": {},
     "output_type": "execute_result"
    }
   ],
   "source": [
    "sum([1 for _ in open(\"Input/popular-names.txt\")])"
   ]
  },
  {
   "cell_type": "code",
   "execution_count": 3,
   "metadata": {},
   "outputs": [
    {
     "name": "stdout",
     "output_type": "stream",
     "text": [
      "2780 Input/popular-names.txt\r\n"
     ]
    }
   ],
   "source": [
    "!wc -l Input/popular-names.txt"
   ]
  },
  {
   "cell_type": "markdown",
   "metadata": {},
   "source": [
    "## [11. タブをスペースに置換](https://nlp100.github.io/ja/ch02.html#11-%E3%82%BF%E3%83%96%E3%82%92%E3%82%B9%E3%83%9A%E3%83%BC%E3%82%B9%E3%81%AB%E7%BD%AE%E6%8F%9B)\n",
    "タブ1文字につきスペース1文字に置換せよ．確認にはsedコマンド，trコマンド，もしくはexpandコマンドを用いよ．"
   ]
  },
  {
   "cell_type": "code",
   "execution_count": 4,
   "metadata": {},
   "outputs": [
    {
     "name": "stdout",
     "output_type": "stream",
     "text": [
      "Mary F 7065 1880\n",
      "Anna F 2604 1880\n",
      "Emma F 2003 1880\n",
      "Elizabeth F 1939 1880\n",
      "Minnie F 1746 1880\n",
      "Margaret F 1578 1880\n",
      "Ida F 1472 1880\n",
      "Alice F 1414 1880\n",
      "Bertha F 1320 1880\n",
      "Sarah F 1288 1880\n",
      "John M 9655 1880\n",
      "William M 9532 1880\n",
      "James M 5927 1880\n",
      "Charles M 5348 1880\n",
      "George M 5126 1880\n",
      "Frank M 3242 1880\n",
      "Joseph M 2632 1880\n",
      "Thomas M 2534 1880\n",
      "Henry M 2444 1880\n",
      "Robert M 2415 1880\n"
     ]
    }
   ],
   "source": [
    "with open(\"Input/popular-names.txt\") as f:\n",
    "    for i, line in enumerate(f):\n",
    "        if i < 20:\n",
    "            print(line.replace(\"\\t\", \" \"), end=\"\")"
   ]
  },
  {
   "cell_type": "code",
   "execution_count": 5,
   "metadata": {},
   "outputs": [
    {
     "name": "stdout",
     "output_type": "stream",
     "text": [
      "Mary F 7065 1880\r\n",
      "Anna F 2604 1880\r\n",
      "Emma F 2003 1880\r\n",
      "Elizabeth F 1939 1880\r\n",
      "Minnie F 1746 1880\r\n",
      "Margaret F 1578 1880\r\n",
      "Ida F 1472 1880\r\n",
      "Alice F 1414 1880\r\n",
      "Bertha F 1320 1880\r\n",
      "Sarah F 1288 1880\r\n",
      "John M 9655 1880\r\n",
      "William M 9532 1880\r\n",
      "James M 5927 1880\r\n",
      "Charles M 5348 1880\r\n",
      "George M 5126 1880\r\n",
      "Frank M 3242 1880\r\n",
      "Joseph M 2632 1880\r\n",
      "Thomas M 2534 1880\r\n",
      "Henry M 2444 1880\r\n",
      "Robert M 2415 1880\r\n"
     ]
    }
   ],
   "source": [
    "!sed -e \"s/\\t/ /g\" Input/popular-names.txt 2>/dev/null | head -20"
   ]
  },
  {
   "cell_type": "markdown",
   "metadata": {},
   "source": [
    "## [12. 1列目をcol1.txtに，2列目をcol2.txtに保存](https://nlp100.github.io/ja/ch02.html#12-1%E5%88%97%E7%9B%AE%E3%82%92col1txt%E3%81%AB2%E5%88%97%E7%9B%AE%E3%82%92col2txt%E3%81%AB%E4%BF%9D%E5%AD%98)\n",
    "各行の1列目だけを抜き出したものをcol1.txtに，2列目だけを抜き出したものをcol2.txtとしてファイルに保存せよ．確認にはcutコマンドを用いよ．"
   ]
  },
  {
   "cell_type": "code",
   "execution_count": 6,
   "metadata": {},
   "outputs": [],
   "source": [
    "col1_lines, col2_lines = [], []\n",
    "\n",
    "with open(\"Input/popular-names.txt\") as f:\n",
    "    for line in f:\n",
    "        col1_lines.append(line[0])\n",
    "        col2_lines.append(line[1])"
   ]
  },
  {
   "cell_type": "code",
   "execution_count": 7,
   "metadata": {},
   "outputs": [],
   "source": [
    "with open(\"Output/Chapter02/col1.txt\", mode=\"w\") as f:\n",
    "    f.write(\"\\n\".join(col1_lines))"
   ]
  },
  {
   "cell_type": "code",
   "execution_count": 8,
   "metadata": {},
   "outputs": [],
   "source": [
    "with open(\"Output/Chapter02/col2.txt\", mode=\"w\") as f:\n",
    "    f.write(\"\\n\".join(col2_lines))"
   ]
  },
  {
   "cell_type": "code",
   "execution_count": 9,
   "metadata": {},
   "outputs": [
    {
     "name": "stdout",
     "output_type": "stream",
     "text": [
      "M\n",
      "A\n",
      "E\n",
      "E\n",
      "M\n",
      "M\n",
      "I\n",
      "A\n",
      "B\n",
      "S\n",
      "J\n",
      "W\n",
      "J\n",
      "C\n",
      "G\n",
      "F\n",
      "J\n",
      "T\n",
      "H\n",
      "R\n"
     ]
    }
   ],
   "source": [
    "with open(\"Output/Chapter02/col1.txt\") as f:\n",
    "    for i, line in enumerate(f):\n",
    "        if i < 20:\n",
    "            print(line, end=\"\")"
   ]
  },
  {
   "cell_type": "code",
   "execution_count": 10,
   "metadata": {},
   "outputs": [
    {
     "name": "stdout",
     "output_type": "stream",
     "text": [
      "M\r\n",
      "A\r\n",
      "E\r\n",
      "E\r\n",
      "M\r\n",
      "M\r\n",
      "I\r\n",
      "A\r\n",
      "B\r\n",
      "S\r\n",
      "J\r\n",
      "W\r\n",
      "J\r\n",
      "C\r\n",
      "G\r\n",
      "F\r\n",
      "J\r\n",
      "T\r\n",
      "H\r\n",
      "R\r\n"
     ]
    }
   ],
   "source": [
    "!cut -c 1 Input/popular-names.txt | head -20"
   ]
  },
  {
   "cell_type": "code",
   "execution_count": 11,
   "metadata": {},
   "outputs": [
    {
     "name": "stdout",
     "output_type": "stream",
     "text": [
      "a\n",
      "n\n",
      "m\n",
      "l\n",
      "i\n",
      "a\n",
      "d\n",
      "l\n",
      "e\n",
      "a\n",
      "o\n",
      "i\n",
      "a\n",
      "h\n",
      "e\n",
      "r\n",
      "o\n",
      "h\n",
      "e\n",
      "o\n"
     ]
    }
   ],
   "source": [
    "with open(\"Output/Chapter02/col2.txt\") as f:\n",
    "    for i, line in enumerate(f):\n",
    "        if i < 20:\n",
    "            print(line, end=\"\")"
   ]
  },
  {
   "cell_type": "code",
   "execution_count": 12,
   "metadata": {},
   "outputs": [
    {
     "name": "stdout",
     "output_type": "stream",
     "text": [
      "a\r\n",
      "n\r\n",
      "m\r\n",
      "l\r\n",
      "i\r\n",
      "a\r\n",
      "d\r\n",
      "l\r\n",
      "e\r\n",
      "a\r\n",
      "o\r\n",
      "i\r\n",
      "a\r\n",
      "h\r\n",
      "e\r\n",
      "r\r\n",
      "o\r\n",
      "h\r\n",
      "e\r\n",
      "o\r\n"
     ]
    }
   ],
   "source": [
    "!cut -c 2 Input/popular-names.txt | head -20"
   ]
  },
  {
   "cell_type": "markdown",
   "metadata": {},
   "source": [
    "## [13. col1.txtとcol2.txtをマージ](https://nlp100.github.io/ja/ch02.html#13-col1txt%E3%81%A8col2txt%E3%82%92%E3%83%9E%E3%83%BC%E3%82%B8)\n",
    "12で作ったcol1.txtとcol2.txtを結合し，元のファイルの1列目と2列目をタブ区切りで並べたテキストファイルを作成せよ．確認にはpasteコマンドを用いよ．"
   ]
  },
  {
   "cell_type": "code",
   "execution_count": 13,
   "metadata": {},
   "outputs": [],
   "source": [
    "with open(\"Output/Chapter02/col1and2.txt\", mode=\"w\") as f:\n",
    "    for i, (col1_line, col2_line) in enumerate(zip(col1_lines, col2_lines)):\n",
    "        f.write(\"%s\\t%s\" % (col1_line, col2_line))\n",
    "        if i < len(col1_lines)-1:\n",
    "            f.write(\"\\n\")"
   ]
  },
  {
   "cell_type": "code",
   "execution_count": 14,
   "metadata": {},
   "outputs": [
    {
     "name": "stdout",
     "output_type": "stream",
     "text": [
      "M\ta\n",
      "A\tn\n",
      "E\tm\n",
      "E\tl\n",
      "M\ti\n",
      "M\ta\n",
      "I\td\n",
      "A\tl\n",
      "B\te\n",
      "S\ta\n",
      "J\to\n",
      "W\ti\n",
      "J\ta\n",
      "C\th\n",
      "G\te\n",
      "F\tr\n",
      "J\to\n",
      "T\th\n",
      "H\te\n",
      "R\to\n"
     ]
    }
   ],
   "source": [
    "with open(\"Output/Chapter02/col1and2.txt\") as f:\n",
    "    for i, line in enumerate(f):\n",
    "        if i < 20:\n",
    "            print(line, end=\"\")"
   ]
  },
  {
   "cell_type": "code",
   "execution_count": 15,
   "metadata": {},
   "outputs": [
    {
     "name": "stdout",
     "output_type": "stream",
     "text": [
      "M\ta\r\n",
      "A\tn\r\n",
      "E\tm\r\n",
      "E\tl\r\n",
      "M\ti\r\n",
      "M\ta\r\n",
      "I\td\r\n",
      "A\tl\r\n",
      "B\te\r\n",
      "S\ta\r\n",
      "J\to\r\n",
      "W\ti\r\n",
      "J\ta\r\n",
      "C\th\r\n",
      "G\te\r\n",
      "F\tr\r\n",
      "J\to\r\n",
      "T\th\r\n",
      "H\te\r\n",
      "R\to\r\n"
     ]
    }
   ],
   "source": [
    "!paste Output/Chapter02/col1.txt Output/Chapter02/col2.txt | head -20"
   ]
  },
  {
   "cell_type": "markdown",
   "metadata": {},
   "source": [
    "## [14. 先頭からN行を出力](https://nlp100.github.io/ja/ch02.html#14-%E5%85%88%E9%A0%AD%E3%81%8B%E3%82%89n%E8%A1%8C%E3%82%92%E5%87%BA%E5%8A%9B)\n",
    "自然数Nをコマンドライン引数などの手段で受け取り，入力のうち先頭のN行だけを表示せよ．確認にはheadコマンドを用いよ．"
   ]
  },
  {
   "cell_type": "code",
   "execution_count": 16,
   "metadata": {},
   "outputs": [],
   "source": [
    "def popular_names_head(n: int):\n",
    "    with open(\"Input/popular-names.txt\") as f:\n",
    "        for i, line in enumerate(f):\n",
    "            if i == n:\n",
    "                break\n",
    "            yield line.replace(\"\\n\", \"\")"
   ]
  },
  {
   "cell_type": "code",
   "execution_count": 17,
   "metadata": {},
   "outputs": [
    {
     "name": "stdout",
     "output_type": "stream",
     "text": [
      "Mary\tF\t7065\t1880\n",
      "Anna\tF\t2604\t1880\n",
      "Emma\tF\t2003\t1880\n",
      "Elizabeth\tF\t1939\t1880\n",
      "Minnie\tF\t1746\t1880\n",
      "Margaret\tF\t1578\t1880\n",
      "Ida\tF\t1472\t1880\n",
      "Alice\tF\t1414\t1880\n",
      "Bertha\tF\t1320\t1880\n",
      "Sarah\tF\t1288\t1880\n"
     ]
    }
   ],
   "source": [
    "for line in popular_names_head(10):\n",
    "    print(line)"
   ]
  },
  {
   "cell_type": "code",
   "execution_count": 18,
   "metadata": {},
   "outputs": [
    {
     "name": "stdout",
     "output_type": "stream",
     "text": [
      "Mary\tF\t7065\t1880\r\n",
      "Anna\tF\t2604\t1880\r\n",
      "Emma\tF\t2003\t1880\r\n",
      "Elizabeth\tF\t1939\t1880\r\n",
      "Minnie\tF\t1746\t1880\r\n",
      "Margaret\tF\t1578\t1880\r\n",
      "Ida\tF\t1472\t1880\r\n",
      "Alice\tF\t1414\t1880\r\n",
      "Bertha\tF\t1320\t1880\r\n",
      "Sarah\tF\t1288\t1880\r\n"
     ]
    }
   ],
   "source": [
    "!head -10 Input/popular-names.txt"
   ]
  },
  {
   "cell_type": "markdown",
   "metadata": {},
   "source": [
    "## [15. 末尾のN行を出力](https://nlp100.github.io/ja/ch02.html#15-%E6%9C%AB%E5%B0%BE%E3%81%AEn%E8%A1%8C%E3%82%92%E5%87%BA%E5%8A%9B)\n",
    "自然数Nをコマンドライン引数などの手段で受け取り，入力のうち末尾のN行だけを表示せよ．確認にはtailコマンドを用いよ．"
   ]
  },
  {
   "cell_type": "code",
   "execution_count": 19,
   "metadata": {},
   "outputs": [],
   "source": [
    "def popular_names_tail(n: int):\n",
    "    num = sum([1 for _ in open(\"Input/popular-names.txt\")])\n",
    "    with open(\"Input/popular-names.txt\") as f:\n",
    "        for i, line in enumerate(f):\n",
    "            if i < num-n:\n",
    "                continue\n",
    "            yield line.replace(\"\\n\", \"\")"
   ]
  },
  {
   "cell_type": "code",
   "execution_count": 20,
   "metadata": {},
   "outputs": [
    {
     "name": "stdout",
     "output_type": "stream",
     "text": [
      "Liam\tM\t19837\t2018\n",
      "Noah\tM\t18267\t2018\n",
      "William\tM\t14516\t2018\n",
      "James\tM\t13525\t2018\n",
      "Oliver\tM\t13389\t2018\n",
      "Benjamin\tM\t13381\t2018\n",
      "Elijah\tM\t12886\t2018\n",
      "Lucas\tM\t12585\t2018\n",
      "Mason\tM\t12435\t2018\n",
      "Logan\tM\t12352\t2018\n"
     ]
    }
   ],
   "source": [
    "for line in popular_names_tail(10):\n",
    "    print(line)"
   ]
  },
  {
   "cell_type": "code",
   "execution_count": 21,
   "metadata": {},
   "outputs": [
    {
     "name": "stdout",
     "output_type": "stream",
     "text": [
      "Liam\tM\t19837\t2018\r\n",
      "Noah\tM\t18267\t2018\r\n",
      "William\tM\t14516\t2018\r\n",
      "James\tM\t13525\t2018\r\n",
      "Oliver\tM\t13389\t2018\r\n",
      "Benjamin\tM\t13381\t2018\r\n",
      "Elijah\tM\t12886\t2018\r\n",
      "Lucas\tM\t12585\t2018\r\n",
      "Mason\tM\t12435\t2018\r\n",
      "Logan\tM\t12352\t2018\r\n"
     ]
    }
   ],
   "source": [
    "!tail -10 Input/popular-names.txt"
   ]
  },
  {
   "cell_type": "markdown",
   "metadata": {},
   "source": [
    "## [16. ファイルをN分割する](https://nlp100.github.io/ja/ch02.html#16-%E3%83%95%E3%82%A1%E3%82%A4%E3%83%AB%E3%82%92n%E5%88%86%E5%89%B2%E3%81%99%E3%82%8B)\n",
    "自然数Nをコマンドライン引数などの手段で受け取り，入力のファイルを行単位でN分割せよ．同様の処理をsplitコマンドで実現せよ．"
   ]
  },
  {
   "cell_type": "code",
   "execution_count": 22,
   "metadata": {},
   "outputs": [],
   "source": [
    "def popular_names_split(n: int):\n",
    "    with open(\"Input/popular-names.txt\") as f:\n",
    "        for i, line in enumerate(f):\n",
    "            yield line.replace(\"\\n\", \"\")\n",
    "            if (i+1)%n == 0:\n",
    "                yield \"\""
   ]
  },
  {
   "cell_type": "code",
   "execution_count": 23,
   "metadata": {},
   "outputs": [
    {
     "name": "stdout",
     "output_type": "stream",
     "text": [
      "Mary\tF\t7065\t1880\n",
      "Anna\tF\t2604\t1880\n",
      "Emma\tF\t2003\t1880\n",
      "Elizabeth\tF\t1939\t1880\n",
      "Minnie\tF\t1746\t1880\n",
      "\n",
      "Margaret\tF\t1578\t1880\n",
      "Ida\tF\t1472\t1880\n",
      "Alice\tF\t1414\t1880\n",
      "Bertha\tF\t1320\t1880\n",
      "Sarah\tF\t1288\t1880\n",
      "\n",
      "John\tM\t9655\t1880\n",
      "William\tM\t9532\t1880\n",
      "James\tM\t5927\t1880\n",
      "Charles\tM\t5348\t1880\n",
      "George\tM\t5126\t1880\n",
      "\n",
      "Frank\tM\t3242\t1880\n",
      "Joseph\tM\t2632\t1880\n"
     ]
    }
   ],
   "source": [
    "for i, line in enumerate(popular_names_split(5)):\n",
    "    if i < 20:\n",
    "        print(line)"
   ]
  },
  {
   "cell_type": "code",
   "execution_count": 24,
   "metadata": {},
   "outputs": [],
   "source": [
    "!split -l 5 Input/popular-names.txt Output/Chapter02/16.txt"
   ]
  },
  {
   "cell_type": "code",
   "execution_count": 25,
   "metadata": {},
   "outputs": [],
   "source": [
    "!for file in `ls Output/Chapter02/16.txt*`; do cat ${file}; echo; done > Output/Chapter02/split.txt"
   ]
  },
  {
   "cell_type": "code",
   "execution_count": 26,
   "metadata": {},
   "outputs": [
    {
     "name": "stdout",
     "output_type": "stream",
     "text": [
      "Mary\tF\t7065\t1880\r\n",
      "Anna\tF\t2604\t1880\r\n",
      "Emma\tF\t2003\t1880\r\n",
      "Elizabeth\tF\t1939\t1880\r\n",
      "Minnie\tF\t1746\t1880\r\n",
      "\r\n",
      "Margaret\tF\t1578\t1880\r\n",
      "Ida\tF\t1472\t1880\r\n",
      "Alice\tF\t1414\t1880\r\n",
      "Bertha\tF\t1320\t1880\r\n",
      "Sarah\tF\t1288\t1880\r\n",
      "\r\n",
      "John\tM\t9655\t1880\r\n",
      "William\tM\t9532\t1880\r\n",
      "James\tM\t5927\t1880\r\n",
      "Charles\tM\t5348\t1880\r\n",
      "George\tM\t5126\t1880\r\n",
      "\r\n",
      "Frank\tM\t3242\t1880\r\n",
      "Joseph\tM\t2632\t1880\r\n"
     ]
    }
   ],
   "source": [
    "!head -20 Output/Chapter02/split.txt"
   ]
  },
  {
   "cell_type": "markdown",
   "metadata": {},
   "source": [
    "## [17. １列目の文字列の異なり](https://nlp100.github.io/ja/ch02.html#17-%EF%BC%91%E5%88%97%E7%9B%AE%E3%81%AE%E6%96%87%E5%AD%97%E5%88%97%E3%81%AE%E7%95%B0%E3%81%AA%E3%82%8A)\n",
    "1列目の文字列の種類（異なる文字列の集合）を求めよ．確認にはcut, sort, uniqコマンドを用いよ．"
   ]
  },
  {
   "cell_type": "code",
   "execution_count": 27,
   "metadata": {},
   "outputs": [],
   "source": [
    "unique_words = set()\n",
    "\n",
    "with open(\"Output/Chapter02/col1.txt\") as f:\n",
    "    for line in f:\n",
    "        unique_words.add(line.replace(\"\\n\", \"\"))"
   ]
  },
  {
   "cell_type": "code",
   "execution_count": 28,
   "metadata": {},
   "outputs": [
    {
     "name": "stdout",
     "output_type": "stream",
     "text": [
      "A\n",
      "B\n",
      "C\n",
      "D\n",
      "E\n",
      "F\n",
      "G\n",
      "H\n",
      "I\n",
      "J\n",
      "K\n",
      "L\n",
      "M\n",
      "N\n",
      "O\n",
      "P\n",
      "R\n",
      "S\n",
      "T\n",
      "V\n",
      "W\n"
     ]
    }
   ],
   "source": [
    "for word in sorted(unique_words):\n",
    "    print(word)"
   ]
  },
  {
   "cell_type": "code",
   "execution_count": 29,
   "metadata": {},
   "outputs": [
    {
     "name": "stdout",
     "output_type": "stream",
     "text": [
      "A\r\n",
      "B\r\n",
      "C\r\n",
      "D\r\n",
      "E\r\n",
      "F\r\n",
      "G\r\n",
      "H\r\n",
      "I\r\n",
      "J\r\n",
      "K\r\n",
      "L\r\n",
      "M\r\n",
      "N\r\n",
      "O\r\n",
      "P\r\n",
      "R\r\n",
      "S\r\n",
      "T\r\n",
      "V\r\n",
      "W\r\n"
     ]
    }
   ],
   "source": [
    "!sort Output/Chapter02/col1.txt | uniq"
   ]
  },
  {
   "cell_type": "markdown",
   "metadata": {},
   "source": [
    "## [18. 各行を3コラム目の数値の降順にソート](https://nlp100.github.io/ja/ch02.html#18-%E5%90%84%E8%A1%8C%E3%82%923%E3%82%B3%E3%83%A9%E3%83%A0%E7%9B%AE%E3%81%AE%E6%95%B0%E5%80%A4%E3%81%AE%E9%99%8D%E9%A0%86%E3%81%AB%E3%82%BD%E3%83%BC%E3%83%88)\n",
    "各行を3コラム目の数値の逆順で整列せよ（注意: 各行の内容は変更せずに並び替えよ）．確認にはsortコマンドを用いよ（この問題はコマンドで実行した時の結果と合わなくてもよい）．"
   ]
  },
  {
   "cell_type": "code",
   "execution_count": 30,
   "metadata": {},
   "outputs": [],
   "source": [
    "def sort_population():\n",
    "    population2line = {}\n",
    "\n",
    "    with open(\"Input/popular-names.txt\") as f:\n",
    "        for line in f:\n",
    "            population = float(line.split(\"\\t\")[2])\n",
    "            if population not in population2line:\n",
    "                population2line[population] = []\n",
    "            population2line[population].append(line)\n",
    "\n",
    "    for population in sorted(population2line.keys(), reverse=True):\n",
    "        for line in population2line[population]:\n",
    "            yield line.replace(\"\\n\", \"\")"
   ]
  },
  {
   "cell_type": "code",
   "execution_count": 31,
   "metadata": {},
   "outputs": [
    {
     "name": "stdout",
     "output_type": "stream",
     "text": [
      "Linda\tF\t99689\t1947\n",
      "Linda\tF\t96211\t1948\n",
      "James\tM\t94757\t1947\n",
      "Michael\tM\t92704\t1957\n",
      "Robert\tM\t91640\t1947\n",
      "Linda\tF\t91016\t1949\n",
      "Michael\tM\t90656\t1956\n",
      "Michael\tM\t90517\t1958\n",
      "James\tM\t88584\t1948\n",
      "Michael\tM\t88528\t1954\n",
      "Michael\tM\t88327\t1955\n",
      "John\tM\t88319\t1947\n",
      "James\tM\t87436\t1946\n",
      "James\tM\t87261\t1951\n",
      "James\tM\t87063\t1952\n",
      "Michael\tM\t86917\t1961\n",
      "James\tM\t86857\t1949\n",
      "Robert\tM\t86604\t1952\n",
      "Robert\tM\t86351\t1951\n",
      "Robert\tM\t86298\t1954\n"
     ]
    }
   ],
   "source": [
    "for i, line in enumerate(sort_population()):\n",
    "    if i < 20:\n",
    "        print(line)"
   ]
  },
  {
   "cell_type": "code",
   "execution_count": 32,
   "metadata": {},
   "outputs": [
    {
     "name": "stdout",
     "output_type": "stream",
     "text": [
      "Linda\tF\t99689\t1947\r\n",
      "Linda\tF\t96211\t1948\r\n",
      "James\tM\t94757\t1947\r\n",
      "Michael\tM\t92704\t1957\r\n",
      "Robert\tM\t91640\t1947\r\n",
      "Linda\tF\t91016\t1949\r\n",
      "Michael\tM\t90656\t1956\r\n",
      "Michael\tM\t90517\t1958\r\n",
      "James\tM\t88584\t1948\r\n",
      "Michael\tM\t88528\t1954\r\n",
      "Michael\tM\t88327\t1955\r\n",
      "John\tM\t88319\t1947\r\n",
      "James\tM\t87436\t1946\r\n",
      "James\tM\t87261\t1951\r\n",
      "James\tM\t87063\t1952\r\n",
      "Michael\tM\t86917\t1961\r\n",
      "James\tM\t86857\t1949\r\n",
      "Robert\tM\t86604\t1952\r\n",
      "Robert\tM\t86351\t1951\r\n",
      "Robert\tM\t86298\t1954\r\n"
     ]
    }
   ],
   "source": [
    "!sort -k 3 -b -n -r Input/popular-names.txt 2>/dev/null | head -20"
   ]
  },
  {
   "cell_type": "markdown",
   "metadata": {},
   "source": [
    "## [19. 各行の1コラム目の文字列の出現頻度を求め，出現頻度の高い順に並べる](https://nlp100.github.io/ja/ch02.html#19-%E5%90%84%E8%A1%8C%E3%81%AE1%E3%82%B3%E3%83%A9%E3%83%A0%E7%9B%AE%E3%81%AE%E6%96%87%E5%AD%97%E5%88%97%E3%81%AE%E5%87%BA%E7%8F%BE%E9%A0%BB%E5%BA%A6%E3%82%92%E6%B1%82%E3%82%81%E5%87%BA%E7%8F%BE%E9%A0%BB%E5%BA%A6%E3%81%AE%E9%AB%98%E3%81%84%E9%A0%86%E3%81%AB%E4%B8%A6%E3%81%B9%E3%82%8B)\n",
    "各行の1列目の文字列の出現頻度を求め，その高い順に並べて表示せよ．確認にはcut, uniq, sortコマンドを用いよ．"
   ]
  },
  {
   "cell_type": "code",
   "execution_count": 33,
   "metadata": {},
   "outputs": [],
   "source": [
    "def sort_1st_char_frequency():\n",
    "    char2times = {}\n",
    "\n",
    "    with open(\"Output/Chapter02/col1.txt\") as f:\n",
    "        for line in f:\n",
    "            char = line.replace(\"\\n\", \"\")\n",
    "            if char not in char2times:\n",
    "                char2times[char] = 0\n",
    "            char2times[char] += 1\n",
    "\n",
    "    return sorted(char2times.items(), key=lambda x: x[1], reverse=True)"
   ]
  },
  {
   "cell_type": "code",
   "execution_count": 34,
   "metadata": {},
   "outputs": [
    {
     "name": "stdout",
     "output_type": "stream",
     "text": [
      "    448 J\n",
      "    407 M\n",
      "    211 A\n",
      "    211 E\n",
      "    211 R\n",
      "    188 D\n",
      "    163 C\n",
      "    144 S\n",
      "    112 W\n",
      "    106 H\n",
      "    104 B\n",
      "    83 T\n",
      "    78 F\n",
      "    64 L\n",
      "    63 G\n",
      "    55 N\n",
      "    39 P\n",
      "    37 K\n",
      "    23 I\n",
      "    20 O\n",
      "    13 V\n"
     ]
    }
   ],
   "source": [
    "for char, times in sort_1st_char_frequency():\n",
    "    print(\"    %d %s\" % (times, char))"
   ]
  },
  {
   "cell_type": "code",
   "execution_count": 35,
   "metadata": {},
   "outputs": [
    {
     "name": "stdout",
     "output_type": "stream",
     "text": [
      "    448 J\r\n",
      "    407 M\r\n",
      "    211 R\r\n",
      "    211 E\r\n",
      "    211 A\r\n",
      "    188 D\r\n",
      "    163 C\r\n",
      "    144 S\r\n",
      "    112 W\r\n",
      "    106 H\r\n",
      "    104 B\r\n",
      "     83 T\r\n",
      "     78 F\r\n",
      "     64 L\r\n",
      "     63 G\r\n",
      "     55 N\r\n",
      "     39 P\r\n",
      "     37 K\r\n",
      "     23 I\r\n",
      "     20 O\r\n",
      "     13 V\r\n"
     ]
    }
   ],
   "source": [
    "!cut -c 1 Input/popular-names.txt | sort | uniq -c | sort -r"
   ]
  }
 ],
 "metadata": {
  "kernelspec": {
   "display_name": "Python 3",
   "language": "python",
   "name": "python3"
  },
  "language_info": {
   "codemirror_mode": {
    "name": "ipython",
    "version": 3
   },
   "file_extension": ".py",
   "mimetype": "text/x-python",
   "name": "python",
   "nbconvert_exporter": "python",
   "pygments_lexer": "ipython3",
   "version": "3.6.9"
  }
 },
 "nbformat": 4,
 "nbformat_minor": 4
}
