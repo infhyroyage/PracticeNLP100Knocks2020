{
 "cells": [
  {
   "cell_type": "markdown",
   "metadata": {},
   "source": [
    "# [第4章: 形態素解析](https://nlp100.github.io/ja/ch04.html)\n",
    "夏目漱石の小説『吾輩は猫である』の文章（[neko.txt](https://nlp100.github.io/data/neko.txt)）をMeCabを使って形態素解析し，その結果をneko.txt.mecabというファイルに保存せよ．このファイルを用いて，以下の問に対応するプログラムを実装せよ．\n",
    "\n",
    "なお，問題37, 38, 39は[matplotlib](http://matplotlib.org/)もしくは[Gnuplot](http://www.gnuplot.info/)を用いるとよい．"
   ]
  },
  {
   "cell_type": "code",
   "execution_count": 1,
   "metadata": {},
   "outputs": [
    {
     "name": "stdout",
     "output_type": "stream",
     "text": [
      "Input/neko.txt\r\n"
     ]
    }
   ],
   "source": [
    "!ls Input/neko.txt"
   ]
  },
  {
   "cell_type": "code",
   "execution_count": 2,
   "metadata": {},
   "outputs": [],
   "source": [
    "!mecab Input/neko.txt > Output/Chapter04/neko.txt.mecab"
   ]
  },
  {
   "cell_type": "markdown",
   "metadata": {},
   "source": [
    "## [30. 形態素解析結果の読み込み](https://nlp100.github.io/ja/ch04.html#30-%E5%BD%A2%E6%85%8B%E7%B4%A0%E8%A7%A3%E6%9E%90%E7%B5%90%E6%9E%9C%E3%81%AE%E8%AA%AD%E3%81%BF%E8%BE%BC%E3%81%BF)\n",
    "形態素解析結果（neko.txt.mecab）を読み込むプログラムを実装せよ．ただし，各形態素は表層形（surface），基本形（base），品詞（pos），品詞細分類1（pos1）をキーとするマッピング型に格納し，1文を形態素（マッピング型）のリストとして表現せよ．第4章の残りの問題では，ここで作ったプログラムを活用せよ．"
   ]
  },
  {
   "cell_type": "code",
   "execution_count": 3,
   "metadata": {},
   "outputs": [],
   "source": [
    "sentences = []\n",
    "\n",
    "with open(\"Output/Chapter04/neko.txt.mecab\") as neko_mecab:\n",
    "    sentence = []\n",
    "    for line in neko_mecab:\n",
    "        if line == \"\\n\" or line == \"　\t記号,空白,*,*,*,*,　,　,　\\n\":\n",
    "            continue\n",
    "        elif line == \"EOS\\n\":\n",
    "            sentences.append(sentence)\n",
    "            sentence = []\n",
    "        else:\n",
    "            # 表層形\\t品詞,品詞細分類1,品詞細分類2,品詞細分類3,活用型,活用形,原形,読み,発音\n",
    "            foo = line.split(\"\\t\")\n",
    "            bar = foo[1].split(\",\")\n",
    "            morpheme = {}\n",
    "            morpheme[\"surface\"] = foo[0]\n",
    "            morpheme[\"base\"] = \"*\" if \"*\\n\" == bar[6] else bar[6]\n",
    "            morpheme[\"pos\"] = bar[0]\n",
    "            morpheme[\"pos1\"] = bar[1]\n",
    "            sentence.append(morpheme)"
   ]
  },
  {
   "cell_type": "markdown",
   "metadata": {},
   "source": [
    "## [31. 動詞](https://nlp100.github.io/ja/ch04.html#31-%E5%8B%95%E8%A9%9E)\n",
    "動詞の表層形をすべて抽出せよ．"
   ]
  },
  {
   "cell_type": "code",
   "execution_count": 4,
   "metadata": {},
   "outputs": [],
   "source": [
    "surfaces_verb = set()\n",
    "\n",
    "for sentence in sentences:\n",
    "    for morpheme in sentence:\n",
    "        if morpheme[\"pos\"] == \"動詞\":\n",
    "            surfaces_verb.add(morpheme[\"surface\"])"
   ]
  },
  {
   "cell_type": "code",
   "execution_count": 5,
   "metadata": {},
   "outputs": [
    {
     "data": {
      "text/plain": [
       "['思い切っ',\n",
       " '絞',\n",
       " 'かたどっ',\n",
       " '見下し',\n",
       " '浮べ',\n",
       " '引き上げる',\n",
       " 'ぼっ',\n",
       " 'れよ',\n",
       " '泳ぐ',\n",
       " 'かえし',\n",
       " 'やみ',\n",
       " 'しから',\n",
       " '移っ',\n",
       " 'ぶら下がっ',\n",
       " '這入れ',\n",
       " 'ちまっ',\n",
       " '含ん',\n",
       " 'さり',\n",
       " '漂う',\n",
       " '向く']"
      ]
     },
     "execution_count": 5,
     "metadata": {},
     "output_type": "execute_result"
    }
   ],
   "source": [
    "list(surfaces_verb)[:20]"
   ]
  },
  {
   "cell_type": "markdown",
   "metadata": {},
   "source": [
    "## [32. 動詞の原形](https://nlp100.github.io/ja/ch04.html#32-%E5%8B%95%E8%A9%9E%E3%81%AE%E5%8E%9F%E5%BD%A2)\n",
    "動詞の原形をすべて抽出せよ．"
   ]
  },
  {
   "cell_type": "code",
   "execution_count": 6,
   "metadata": {},
   "outputs": [],
   "source": [
    "bases_verb = set()\n",
    "\n",
    "for sentence in sentences:\n",
    "    for morpheme in sentence:\n",
    "        if morpheme[\"pos\"] == \"動詞\":\n",
    "            bases_verb.add(morpheme[\"base\"])"
   ]
  },
  {
   "cell_type": "code",
   "execution_count": 7,
   "metadata": {},
   "outputs": [
    {
     "data": {
      "text/plain": [
       "['しごく',\n",
       " 'どける',\n",
       " '引き上げる',\n",
       " '廻れる',\n",
       " '掬う',\n",
       " '泳ぐ',\n",
       " '来たす',\n",
       " 'われる',\n",
       " 'ちょろまかす',\n",
       " '漂う',\n",
       " '向く',\n",
       " '及ぼす',\n",
       " '供える',\n",
       " '分ける',\n",
       " '酔っ払う',\n",
       " '受け取る',\n",
       " '痛める',\n",
       " 'かかえる',\n",
       " '響く',\n",
       " '仕込む']"
      ]
     },
     "execution_count": 7,
     "metadata": {},
     "output_type": "execute_result"
    }
   ],
   "source": [
    "list(bases_verb)[:20]"
   ]
  },
  {
   "cell_type": "markdown",
   "metadata": {},
   "source": [
    "## [33. 「AのB」](https://nlp100.github.io/ja/ch04.html#33-a%E3%81%AEb)\n",
    "2つの名詞が「の」で連結されている名詞句を抽出せよ．"
   ]
  },
  {
   "cell_type": "code",
   "execution_count": 8,
   "metadata": {},
   "outputs": [],
   "source": [
    "import re"
   ]
  },
  {
   "cell_type": "code",
   "execution_count": 9,
   "metadata": {},
   "outputs": [],
   "source": [
    "surfaces_noun = set()\n",
    "\n",
    "for sentence in sentences:\n",
    "    for morpheme in sentence:\n",
    "        if morpheme[\"pos\"] == \"名詞\":\n",
    "            surfaces_noun.add(morpheme[\"base\"])"
   ]
  },
  {
   "cell_type": "code",
   "execution_count": 10,
   "metadata": {},
   "outputs": [],
   "source": [
    "noun_no_nouns = set()\n",
    "\n",
    "for sentence in sentences:\n",
    "    for morpheme in sentence:\n",
    "        surface = morpheme[\"base\"]\n",
    "        if \"の\" not in surface:\n",
    "            continue\n",
    "        match = re.search(r\"(.*)の(.*)\", surface)\n",
    "        if match.group(1) in surfaces_noun and match.group(2) in surfaces_noun:\n",
    "            noun_no_nouns.add(surface)"
   ]
  },
  {
   "cell_type": "code",
   "execution_count": 11,
   "metadata": {},
   "outputs": [
    {
     "data": {
      "text/plain": [
       "['山の芋',\n",
       " '床の間',\n",
       " '腋の下',\n",
       " '板の間',\n",
       " '日の出',\n",
       " '身の毛',\n",
       " 'この間',\n",
       " '火の手',\n",
       " '天の河',\n",
       " '二の腕',\n",
       " 'その他',\n",
       " 'この世',\n",
       " '岩の上',\n",
       " '山の上',\n",
       " 'そのまま',\n",
       " '男の子',\n",
       " '香の物',\n",
       " '馬の骨',\n",
       " '年の功',\n",
       " '水の上']"
      ]
     },
     "execution_count": 11,
     "metadata": {},
     "output_type": "execute_result"
    }
   ],
   "source": [
    "list(noun_no_nouns)[:20]"
   ]
  },
  {
   "cell_type": "markdown",
   "metadata": {},
   "source": [
    "## [34. 名詞の連接](https://nlp100.github.io/ja/ch04.html#34-%E5%90%8D%E8%A9%9E%E3%81%AE%E9%80%A3%E6%8E%A5)\n",
    "名詞の連接（連続して出現する名詞）を最長一致で抽出せよ．"
   ]
  },
  {
   "cell_type": "code",
   "execution_count": 12,
   "metadata": {},
   "outputs": [],
   "source": [
    "concats_noun = set()\n",
    "\n",
    "for sentence in sentences:\n",
    "    idx = 0\n",
    "    while idx < len(sentence)-1:\n",
    "        if sentence[idx][\"pos\"] != \"名詞\" or sentence[idx+1][\"pos\"] != \"名詞\":\n",
    "            idx += 1\n",
    "            continue\n",
    "\n",
    "        concat_noun = sentence[idx][\"surface\"] + sentence[idx+1][\"surface\"]\n",
    "        idx += 2\n",
    "        while idx < len(sentence) and sentence[idx][\"pos\"] == \"名詞\":\n",
    "            concat_noun += sentence[idx][\"surface\"]\n",
    "            idx += 1\n",
    "        concats_noun.add(concat_noun)"
   ]
  },
  {
   "cell_type": "code",
   "execution_count": 13,
   "metadata": {},
   "outputs": [
    {
     "data": {
      "text/plain": [
       "['きがごと',\n",
       " '方専門',\n",
       " 'の何',\n",
       " '五六日',\n",
       " '一蛙',\n",
       " '帽子屋',\n",
       " '妻君難',\n",
       " '周囲附近',\n",
       " '皺苦茶',\n",
       " '意味不明',\n",
       " '——資格',\n",
       " '三七二十一日',\n",
       " '一息つき',\n",
       " '六畳敷',\n",
       " '——そう自由',\n",
       " '険突',\n",
       " '人当時有名',\n",
       " 'ハハハハこれ',\n",
       " '七分三分の割合',\n",
       " '間板']"
      ]
     },
     "execution_count": 13,
     "metadata": {},
     "output_type": "execute_result"
    }
   ],
   "source": [
    "list(concats_noun)[:20]"
   ]
  },
  {
   "cell_type": "markdown",
   "metadata": {},
   "source": [
    "## [35. 単語の出現頻度](https://nlp100.github.io/ja/ch04.html#35-%E5%8D%98%E8%AA%9E%E3%81%AE%E5%87%BA%E7%8F%BE%E9%A0%BB%E5%BA%A6)\n",
    "文章中に出現する単語とその出現頻度を求め，出現頻度の高い順に並べよ．"
   ]
  },
  {
   "cell_type": "code",
   "execution_count": 14,
   "metadata": {
    "scrolled": true
   },
   "outputs": [],
   "source": [
    "frequencies = {}\n",
    "\n",
    "for sentence in sentences:\n",
    "    for morpheme in sentence:\n",
    "        base = morpheme[\"base\"]\n",
    "        if base in frequencies:\n",
    "            frequencies[base] += 1\n",
    "        else:\n",
    "            frequencies[base] = 1\n",
    "\n",
    "frequencies = sorted(frequencies.items(),\n",
    "                     key=lambda x:x[1],\n",
    "                     reverse=True)"
   ]
  },
  {
   "cell_type": "code",
   "execution_count": 15,
   "metadata": {},
   "outputs": [
    {
     "data": {
      "text/plain": [
       "[('の', 9194),\n",
       " ('。', 7486),\n",
       " ('て', 6848),\n",
       " ('、', 6772),\n",
       " ('は', 6420),\n",
       " ('に', 6243),\n",
       " ('を', 6071),\n",
       " ('だ', 5975),\n",
       " ('と', 5508),\n",
       " ('が', 5337),\n",
       " ('た', 4267),\n",
       " ('する', 3657),\n",
       " ('「', 3231),\n",
       " ('」', 3225),\n",
       " ('ない', 3052),\n",
       " ('も', 2479),\n",
       " ('ある', 2320),\n",
       " ('*', 2191),\n",
       " ('で', 2081),\n",
       " ('から', 2031)]"
      ]
     },
     "execution_count": 15,
     "metadata": {},
     "output_type": "execute_result"
    }
   ],
   "source": [
    "frequencies[:20]"
   ]
  },
  {
   "cell_type": "markdown",
   "metadata": {},
   "source": [
    "## [36. 頻度上位10語](https://nlp100.github.io/ja/ch04.html#36-%E9%A0%BB%E5%BA%A6%E4%B8%8A%E4%BD%8D10%E8%AA%9E)\n",
    "出現頻度が高い10語とその出現頻度をグラフ（例えば棒グラフなど）で表示せよ．"
   ]
  },
  {
   "cell_type": "code",
   "execution_count": 16,
   "metadata": {},
   "outputs": [],
   "source": [
    "import matplotlib.pyplot as plt\n",
    "import pandas as pd\n",
    "import seaborn as sns"
   ]
  },
  {
   "cell_type": "code",
   "execution_count": 17,
   "metadata": {},
   "outputs": [],
   "source": [
    "%matplotlib inline"
   ]
  },
  {
   "cell_type": "code",
   "execution_count": 18,
   "metadata": {},
   "outputs": [],
   "source": [
    "sns.set(style=\"darkgrid\", context=\"notebook\", palette=\"muted\")"
   ]
  },
  {
   "cell_type": "code",
   "execution_count": 19,
   "metadata": {},
   "outputs": [],
   "source": [
    "frequencies_top10 = pd.DataFrame({\n",
    "    \"単語\": [frequencies[i][0] for i in range(10)],\n",
    "    \"出現頻度\": [frequencies[i][1] for i in range(10)],\n",
    "})"
   ]
  },
  {
   "cell_type": "code",
   "execution_count": 20,
   "metadata": {},
   "outputs": [
    {
     "data": {
      "text/html": [
       "<div>\n",
       "<style scoped>\n",
       "    .dataframe tbody tr th:only-of-type {\n",
       "        vertical-align: middle;\n",
       "    }\n",
       "\n",
       "    .dataframe tbody tr th {\n",
       "        vertical-align: top;\n",
       "    }\n",
       "\n",
       "    .dataframe thead th {\n",
       "        text-align: right;\n",
       "    }\n",
       "</style>\n",
       "<table border=\"1\" class=\"dataframe\">\n",
       "  <thead>\n",
       "    <tr style=\"text-align: right;\">\n",
       "      <th></th>\n",
       "      <th>単語</th>\n",
       "      <th>出現頻度</th>\n",
       "    </tr>\n",
       "  </thead>\n",
       "  <tbody>\n",
       "    <tr>\n",
       "      <th>0</th>\n",
       "      <td>の</td>\n",
       "      <td>9194</td>\n",
       "    </tr>\n",
       "    <tr>\n",
       "      <th>1</th>\n",
       "      <td>。</td>\n",
       "      <td>7486</td>\n",
       "    </tr>\n",
       "    <tr>\n",
       "      <th>2</th>\n",
       "      <td>て</td>\n",
       "      <td>6848</td>\n",
       "    </tr>\n",
       "    <tr>\n",
       "      <th>3</th>\n",
       "      <td>、</td>\n",
       "      <td>6772</td>\n",
       "    </tr>\n",
       "    <tr>\n",
       "      <th>4</th>\n",
       "      <td>は</td>\n",
       "      <td>6420</td>\n",
       "    </tr>\n",
       "    <tr>\n",
       "      <th>5</th>\n",
       "      <td>に</td>\n",
       "      <td>6243</td>\n",
       "    </tr>\n",
       "    <tr>\n",
       "      <th>6</th>\n",
       "      <td>を</td>\n",
       "      <td>6071</td>\n",
       "    </tr>\n",
       "    <tr>\n",
       "      <th>7</th>\n",
       "      <td>だ</td>\n",
       "      <td>5975</td>\n",
       "    </tr>\n",
       "    <tr>\n",
       "      <th>8</th>\n",
       "      <td>と</td>\n",
       "      <td>5508</td>\n",
       "    </tr>\n",
       "    <tr>\n",
       "      <th>9</th>\n",
       "      <td>が</td>\n",
       "      <td>5337</td>\n",
       "    </tr>\n",
       "  </tbody>\n",
       "</table>\n",
       "</div>"
      ],
      "text/plain": [
       "  単語  出現頻度\n",
       "0  の  9194\n",
       "1  。  7486\n",
       "2  て  6848\n",
       "3  、  6772\n",
       "4  は  6420\n",
       "5  に  6243\n",
       "6  を  6071\n",
       "7  だ  5975\n",
       "8  と  5508\n",
       "9  が  5337"
      ]
     },
     "execution_count": 20,
     "metadata": {},
     "output_type": "execute_result"
    }
   ],
   "source": [
    "frequencies_top10"
   ]
  },
  {
   "cell_type": "code",
   "execution_count": 21,
   "metadata": {},
   "outputs": [
    {
     "data": {
      "text/plain": [
       "<seaborn.axisgrid.FacetGrid at 0x7f56ba74a240>"
      ]
     },
     "execution_count": 21,
     "metadata": {},
     "output_type": "execute_result"
    },
    {
     "data": {
      "image/png": "[encoded data removed]",
      "text/plain": [
       "<Figure size 360x360 with 1 Axes>"
      ]
     },
     "metadata": {},
     "output_type": "display_data"
    }
   ],
   "source": [
    "sns.catplot(x=\"単語\", y=\"出現頻度\", data=frequencies_top10, kind=\"bar\")"
   ]
  },
  {
   "cell_type": "markdown",
   "metadata": {},
   "source": [
    "## [37. 「猫」と共起頻度の高い上位10語](https://nlp100.github.io/ja/ch04.html#37-%E7%8C%AB%E3%81%A8%E5%85%B1%E8%B5%B7%E9%A0%BB%E5%BA%A6%E3%81%AE%E9%AB%98%E3%81%84%E4%B8%8A%E4%BD%8D10%E8%AA%9E)\n",
    "「猫」とよく共起する（共起頻度が高い）10語とその出現頻度をグラフ（例えば棒グラフなど）で表示せよ．"
   ]
  },
  {
   "cell_type": "code",
   "execution_count": 22,
   "metadata": {},
   "outputs": [],
   "source": [
    "cooccurrences = {}\n",
    "\n",
    "for sentence in sentences:\n",
    "    if not any([morpheme[\"base\"] == \"猫\" for morpheme in sentence]):\n",
    "        continue\n",
    "\n",
    "    for morpheme in sentence:\n",
    "        base = morpheme[\"base\"]\n",
    "        if base != \"猫\" and base in cooccurrences:\n",
    "            cooccurrences[base] += 1\n",
    "        elif base != \"猫\":\n",
    "            cooccurrences[base] = 1\n",
    "\n",
    "cooccurrences = sorted(cooccurrences.items(),\n",
    "                       key=lambda x:x[1],\n",
    "                       reverse=True)"
   ]
  },
  {
   "cell_type": "code",
   "execution_count": 23,
   "metadata": {},
   "outputs": [],
   "source": [
    "cooccurrences_top10 = pd.DataFrame({\n",
    "    \"単語\": [cooccurrences[i][0] for i in range(10)],\n",
    "    \"共起頻度\": [cooccurrences[i][1] for i in range(10)],\n",
    "})"
   ]
  },
  {
   "cell_type": "code",
   "execution_count": 24,
   "metadata": {},
   "outputs": [
    {
     "data": {
      "text/html": [
       "<div>\n",
       "<style scoped>\n",
       "    .dataframe tbody tr th:only-of-type {\n",
       "        vertical-align: middle;\n",
       "    }\n",
       "\n",
       "    .dataframe tbody tr th {\n",
       "        vertical-align: top;\n",
       "    }\n",
       "\n",
       "    .dataframe thead th {\n",
       "        text-align: right;\n",
       "    }\n",
       "</style>\n",
       "<table border=\"1\" class=\"dataframe\">\n",
       "  <thead>\n",
       "    <tr style=\"text-align: right;\">\n",
       "      <th></th>\n",
       "      <th>単語</th>\n",
       "      <th>共起頻度</th>\n",
       "    </tr>\n",
       "  </thead>\n",
       "  <tbody>\n",
       "    <tr>\n",
       "      <th>0</th>\n",
       "      <td>の</td>\n",
       "      <td>391</td>\n",
       "    </tr>\n",
       "    <tr>\n",
       "      <th>1</th>\n",
       "      <td>は</td>\n",
       "      <td>272</td>\n",
       "    </tr>\n",
       "    <tr>\n",
       "      <th>2</th>\n",
       "      <td>、</td>\n",
       "      <td>252</td>\n",
       "    </tr>\n",
       "    <tr>\n",
       "      <th>3</th>\n",
       "      <td>に</td>\n",
       "      <td>250</td>\n",
       "    </tr>\n",
       "    <tr>\n",
       "      <th>4</th>\n",
       "      <td>を</td>\n",
       "      <td>232</td>\n",
       "    </tr>\n",
       "    <tr>\n",
       "      <th>5</th>\n",
       "      <td>だ</td>\n",
       "      <td>231</td>\n",
       "    </tr>\n",
       "    <tr>\n",
       "      <th>6</th>\n",
       "      <td>て</td>\n",
       "      <td>229</td>\n",
       "    </tr>\n",
       "    <tr>\n",
       "      <th>7</th>\n",
       "      <td>。</td>\n",
       "      <td>209</td>\n",
       "    </tr>\n",
       "    <tr>\n",
       "      <th>8</th>\n",
       "      <td>と</td>\n",
       "      <td>202</td>\n",
       "    </tr>\n",
       "    <tr>\n",
       "      <th>9</th>\n",
       "      <td>が</td>\n",
       "      <td>180</td>\n",
       "    </tr>\n",
       "  </tbody>\n",
       "</table>\n",
       "</div>"
      ],
      "text/plain": [
       "  単語  共起頻度\n",
       "0  の   391\n",
       "1  は   272\n",
       "2  、   252\n",
       "3  に   250\n",
       "4  を   232\n",
       "5  だ   231\n",
       "6  て   229\n",
       "7  。   209\n",
       "8  と   202\n",
       "9  が   180"
      ]
     },
     "execution_count": 24,
     "metadata": {},
     "output_type": "execute_result"
    }
   ],
   "source": [
    "cooccurrences_top10"
   ]
  },
  {
   "cell_type": "code",
   "execution_count": 25,
   "metadata": {},
   "outputs": [
    {
     "data": {
      "text/plain": [
       "<seaborn.axisgrid.FacetGrid at 0x7f56cedc5588>"
      ]
     },
     "execution_count": 25,
     "metadata": {},
     "output_type": "execute_result"
    },
    {
     "data": {
      "image/png": "[encoded data removed]",
      "text/plain": [
       "<Figure size 360x360 with 1 Axes>"
      ]
     },
     "metadata": {},
     "output_type": "display_data"
    }
   ],
   "source": [
    "sns.catplot(x=\"単語\", y=\"共起頻度\", data=cooccurrences_top10, kind=\"bar\")"
   ]
  },
  {
   "cell_type": "markdown",
   "metadata": {},
   "source": [
    "## [38. ヒストグラム](https://nlp100.github.io/ja/ch04.html#38-%E3%83%92%E3%82%B9%E3%83%88%E3%82%B0%E3%83%A9%E3%83%A0)\n",
    "単語の出現頻度のヒストグラム（横軸に出現頻度，縦軸に出現頻度をとる単語の種類数を棒グラフで表したもの）を描け．"
   ]
  },
  {
   "cell_type": "code",
   "execution_count": 26,
   "metadata": {},
   "outputs": [],
   "source": [
    "frequency2count = {}\n",
    "\n",
    "for frequency in frequencies:\n",
    "    if frequency[1] in frequency2count:\n",
    "        frequency2count[frequency[1]] += 1\n",
    "    else:\n",
    "        frequency2count[frequency[1]] = 1\n",
    "\n",
    "frequency2count = sorted(frequency2count.items(),\n",
    "                         key=lambda x:x[0],\n",
    "                         reverse=True)"
   ]
  },
  {
   "cell_type": "code",
   "execution_count": 27,
   "metadata": {},
   "outputs": [],
   "source": [
    "data_count = pd.DataFrame({\n",
    "    \"出現頻度\": [frequency[0] for frequency in frequency2count],\n",
    "    \"単語の種類数\": [count[1] for count in frequency2count],\n",
    "})"
   ]
  },
  {
   "cell_type": "code",
   "execution_count": 28,
   "metadata": {},
   "outputs": [
    {
     "data": {
      "text/html": [
       "<div>\n",
       "<style scoped>\n",
       "    .dataframe tbody tr th:only-of-type {\n",
       "        vertical-align: middle;\n",
       "    }\n",
       "\n",
       "    .dataframe tbody tr th {\n",
       "        vertical-align: top;\n",
       "    }\n",
       "\n",
       "    .dataframe thead th {\n",
       "        text-align: right;\n",
       "    }\n",
       "</style>\n",
       "<table border=\"1\" class=\"dataframe\">\n",
       "  <thead>\n",
       "    <tr style=\"text-align: right;\">\n",
       "      <th></th>\n",
       "      <th>出現頻度</th>\n",
       "      <th>単語の種類数</th>\n",
       "    </tr>\n",
       "  </thead>\n",
       "  <tbody>\n",
       "    <tr>\n",
       "      <th>0</th>\n",
       "      <td>9194</td>\n",
       "      <td>1</td>\n",
       "    </tr>\n",
       "    <tr>\n",
       "      <th>1</th>\n",
       "      <td>7486</td>\n",
       "      <td>1</td>\n",
       "    </tr>\n",
       "    <tr>\n",
       "      <th>2</th>\n",
       "      <td>6848</td>\n",
       "      <td>1</td>\n",
       "    </tr>\n",
       "    <tr>\n",
       "      <th>3</th>\n",
       "      <td>6772</td>\n",
       "      <td>1</td>\n",
       "    </tr>\n",
       "    <tr>\n",
       "      <th>4</th>\n",
       "      <td>6420</td>\n",
       "      <td>1</td>\n",
       "    </tr>\n",
       "    <tr>\n",
       "      <th>5</th>\n",
       "      <td>6243</td>\n",
       "      <td>1</td>\n",
       "    </tr>\n",
       "    <tr>\n",
       "      <th>6</th>\n",
       "      <td>6071</td>\n",
       "      <td>1</td>\n",
       "    </tr>\n",
       "    <tr>\n",
       "      <th>7</th>\n",
       "      <td>5975</td>\n",
       "      <td>1</td>\n",
       "    </tr>\n",
       "    <tr>\n",
       "      <th>8</th>\n",
       "      <td>5508</td>\n",
       "      <td>1</td>\n",
       "    </tr>\n",
       "    <tr>\n",
       "      <th>9</th>\n",
       "      <td>5337</td>\n",
       "      <td>1</td>\n",
       "    </tr>\n",
       "    <tr>\n",
       "      <th>10</th>\n",
       "      <td>4267</td>\n",
       "      <td>1</td>\n",
       "    </tr>\n",
       "    <tr>\n",
       "      <th>11</th>\n",
       "      <td>3657</td>\n",
       "      <td>1</td>\n",
       "    </tr>\n",
       "    <tr>\n",
       "      <th>12</th>\n",
       "      <td>3231</td>\n",
       "      <td>1</td>\n",
       "    </tr>\n",
       "    <tr>\n",
       "      <th>13</th>\n",
       "      <td>3225</td>\n",
       "      <td>1</td>\n",
       "    </tr>\n",
       "    <tr>\n",
       "      <th>14</th>\n",
       "      <td>3052</td>\n",
       "      <td>1</td>\n",
       "    </tr>\n",
       "    <tr>\n",
       "      <th>15</th>\n",
       "      <td>2479</td>\n",
       "      <td>1</td>\n",
       "    </tr>\n",
       "    <tr>\n",
       "      <th>16</th>\n",
       "      <td>2320</td>\n",
       "      <td>1</td>\n",
       "    </tr>\n",
       "    <tr>\n",
       "      <th>17</th>\n",
       "      <td>2191</td>\n",
       "      <td>1</td>\n",
       "    </tr>\n",
       "    <tr>\n",
       "      <th>18</th>\n",
       "      <td>2081</td>\n",
       "      <td>1</td>\n",
       "    </tr>\n",
       "    <tr>\n",
       "      <th>19</th>\n",
       "      <td>2031</td>\n",
       "      <td>1</td>\n",
       "    </tr>\n",
       "  </tbody>\n",
       "</table>\n",
       "</div>"
      ],
      "text/plain": [
       "    出現頻度  単語の種類数\n",
       "0   9194       1\n",
       "1   7486       1\n",
       "2   6848       1\n",
       "3   6772       1\n",
       "4   6420       1\n",
       "5   6243       1\n",
       "6   6071       1\n",
       "7   5975       1\n",
       "8   5508       1\n",
       "9   5337       1\n",
       "10  4267       1\n",
       "11  3657       1\n",
       "12  3231       1\n",
       "13  3225       1\n",
       "14  3052       1\n",
       "15  2479       1\n",
       "16  2320       1\n",
       "17  2191       1\n",
       "18  2081       1\n",
       "19  2031       1"
      ]
     },
     "execution_count": 28,
     "metadata": {},
     "output_type": "execute_result"
    }
   ],
   "source": [
    "data_count.head(20)"
   ]
  },
  {
   "cell_type": "code",
   "execution_count": 29,
   "metadata": {},
   "outputs": [
    {
     "data": {
      "text/plain": [
       "<seaborn.axisgrid.FacetGrid at 0x7f56b7f47f60>"
      ]
     },
     "execution_count": 29,
     "metadata": {},
     "output_type": "execute_result"
    },
    {
     "data": {
      "image/png": "[encoded data removed]",
      "text/plain": [
       "<Figure size 360x360 with 1 Axes>"
      ]
     },
     "metadata": {},
     "output_type": "display_data"
    }
   ],
   "source": [
    "sns.relplot(x=\"出現頻度\", y=\"単語の種類数\", data=data_count, kind=\"line\")"
   ]
  },
  {
   "cell_type": "markdown",
   "metadata": {},
   "source": [
    "## [39. Zipfの法則](https://nlp100.github.io/ja/ch04.html#39-zipf%E3%81%AE%E6%B3%95%E5%89%87)\n",
    "単語の出現頻度順位を横軸，その出現頻度を縦軸として，両対数グラフをプロットせよ．"
   ]
  },
  {
   "cell_type": "code",
   "execution_count": 30,
   "metadata": {},
   "outputs": [],
   "source": [
    "from math import log"
   ]
  },
  {
   "cell_type": "code",
   "execution_count": 31,
   "metadata": {},
   "outputs": [],
   "source": [
    "rank_log = []\n",
    "count_log = []\n",
    "count = 0\n",
    "\n",
    "for i, frequency in enumerate(frequencies):\n",
    "    if frequency[1] != count:\n",
    "        rank = i + 1\n",
    "        count = frequency[1]\n",
    "        rank_log.append(log(rank))\n",
    "        count_log.append(log(count))"
   ]
  },
  {
   "cell_type": "code",
   "execution_count": 32,
   "metadata": {},
   "outputs": [],
   "source": [
    "data_zipf = pd.DataFrame({\n",
    "    \"log(出現頻度順位)\": rank_log,\n",
    "    \"log(出現頻度)\": count_log,\n",
    "})"
   ]
  },
  {
   "cell_type": "code",
   "execution_count": 33,
   "metadata": {},
   "outputs": [
    {
     "data": {
      "text/html": [
       "<div>\n",
       "<style scoped>\n",
       "    .dataframe tbody tr th:only-of-type {\n",
       "        vertical-align: middle;\n",
       "    }\n",
       "\n",
       "    .dataframe tbody tr th {\n",
       "        vertical-align: top;\n",
       "    }\n",
       "\n",
       "    .dataframe thead th {\n",
       "        text-align: right;\n",
       "    }\n",
       "</style>\n",
       "<table border=\"1\" class=\"dataframe\">\n",
       "  <thead>\n",
       "    <tr style=\"text-align: right;\">\n",
       "      <th></th>\n",
       "      <th>log(出現頻度順位)</th>\n",
       "      <th>log(出現頻度)</th>\n",
       "    </tr>\n",
       "  </thead>\n",
       "  <tbody>\n",
       "    <tr>\n",
       "      <th>0</th>\n",
       "      <td>0.000000</td>\n",
       "      <td>9.126306</td>\n",
       "    </tr>\n",
       "    <tr>\n",
       "      <th>1</th>\n",
       "      <td>0.693147</td>\n",
       "      <td>8.920790</td>\n",
       "    </tr>\n",
       "    <tr>\n",
       "      <th>2</th>\n",
       "      <td>1.098612</td>\n",
       "      <td>8.831712</td>\n",
       "    </tr>\n",
       "    <tr>\n",
       "      <th>3</th>\n",
       "      <td>1.386294</td>\n",
       "      <td>8.820552</td>\n",
       "    </tr>\n",
       "    <tr>\n",
       "      <th>4</th>\n",
       "      <td>1.609438</td>\n",
       "      <td>8.767173</td>\n",
       "    </tr>\n",
       "    <tr>\n",
       "      <th>...</th>\n",
       "      <td>...</td>\n",
       "      <td>...</td>\n",
       "    </tr>\n",
       "    <tr>\n",
       "      <th>236</th>\n",
       "      <td>7.867489</td>\n",
       "      <td>1.609438</td>\n",
       "    </tr>\n",
       "    <tr>\n",
       "      <th>237</th>\n",
       "      <td>8.029433</td>\n",
       "      <td>1.386294</td>\n",
       "    </tr>\n",
       "    <tr>\n",
       "      <th>238</th>\n",
       "      <td>8.208764</td>\n",
       "      <td>1.098612</td>\n",
       "    </tr>\n",
       "    <tr>\n",
       "      <th>239</th>\n",
       "      <td>8.440312</td>\n",
       "      <td>0.693147</td>\n",
       "    </tr>\n",
       "    <tr>\n",
       "      <th>240</th>\n",
       "      <td>8.785081</td>\n",
       "      <td>0.000000</td>\n",
       "    </tr>\n",
       "  </tbody>\n",
       "</table>\n",
       "<p>241 rows × 2 columns</p>\n",
       "</div>"
      ],
      "text/plain": [
       "     log(出現頻度順位)  log(出現頻度)\n",
       "0       0.000000   9.126306\n",
       "1       0.693147   8.920790\n",
       "2       1.098612   8.831712\n",
       "3       1.386294   8.820552\n",
       "4       1.609438   8.767173\n",
       "..           ...        ...\n",
       "236     7.867489   1.609438\n",
       "237     8.029433   1.386294\n",
       "238     8.208764   1.098612\n",
       "239     8.440312   0.693147\n",
       "240     8.785081   0.000000\n",
       "\n",
       "[241 rows x 2 columns]"
      ]
     },
     "execution_count": 33,
     "metadata": {},
     "output_type": "execute_result"
    }
   ],
   "source": [
    "data_zipf"
   ]
  },
  {
   "cell_type": "code",
   "execution_count": 34,
   "metadata": {},
   "outputs": [
    {
     "data": {
      "text/plain": [
       "<seaborn.axisgrid.FacetGrid at 0x7f56b7e97748>"
      ]
     },
     "execution_count": 34,
     "metadata": {},
     "output_type": "execute_result"
    },
    {
     "data": {
      "image/png": "[encoded data removed]",
      "text/plain": [
       "<Figure size 360x360 with 1 Axes>"
      ]
     },
     "metadata": {},
     "output_type": "display_data"
    }
   ],
   "source": [
    "sns.relplot(x=\"log(出現頻度順位)\", y=\"log(出現頻度)\", data=data_zipf, kind=\"line\")"
   ]
  }
 ],
 "metadata": {
  "kernelspec": {
   "display_name": "Python 3",
   "language": "python",
   "name": "python3"
  },
  "language_info": {
   "codemirror_mode": {
    "name": "ipython",
    "version": 3
   },
   "file_extension": ".py",
   "mimetype": "text/x-python",
   "name": "python",
   "nbconvert_exporter": "python",
   "pygments_lexer": "ipython3",
   "version": "3.6.9"
  }
 },
 "nbformat": 4,
 "nbformat_minor": 4
}
