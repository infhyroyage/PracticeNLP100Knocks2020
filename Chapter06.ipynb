{
 "cells": [
  {
   "cell_type": "markdown",
   "metadata": {},
   "source": [
    "# [第6章: 機械学習](https://nlp100.github.io/ja/ch06.html)\n",
    "本章では，Fabio Gasparetti氏が公開している[News Aggregator Data Set](https://archive.ics.uci.edu/ml/datasets/News+Aggregator)を用い，ニュース記事の見出しを「ビジネス」「科学技術」「エンターテイメント」「健康」のカテゴリに分類するタスク（カテゴリ分類）に取り組む．"
   ]
  },
  {
   "cell_type": "markdown",
   "metadata": {},
   "source": [
    "## [50. データの入手・整形Permalink](https://nlp100.github.io/ja/ch06.html#50-%E3%83%87%E3%83%BC%E3%82%BF%E3%81%AE%E5%85%A5%E6%89%8B%E6%95%B4%E5%BD%A2)\n",
    "[News Aggregator Data Set](https://archive.ics.uci.edu/ml/datasets/News+Aggregator)をダウンロードし、以下の要領で学習データ（`train.txt`），検証データ（`valid.txt`），評価データ（`test.txt`）を作成せよ．\n",
    "1. ダウンロードしたzipファイルを解凍し，`readme.txt`の説明を読む．\n",
    "2. 情報源（publisher）が”Reuters”, “Huffington Post”, “Businessweek”, “Contactmusic.com”, “Daily Mail”の事例（記事）のみを抽出する．\n",
    "3. 抽出された事例をランダムに並び替える．\n",
    "4. 抽出された事例の80%を学習データ，残りの10%ずつを検証データと評価データに分割し，それぞれ`train.txt`，`valid.txt`，`test.txt`というファイル名で保存する．ファイルには，１行に１事例を書き出すこととし，カテゴリ名と記事見出しのタブ区切り形式とせよ（このファイルは後に問題70で再利用する）．\n",
    "\n",
    "学習データと評価データを作成したら，各カテゴリの事例数を確認せよ．"
   ]
  },
  {
   "cell_type": "code",
   "execution_count": 1,
   "metadata": {},
   "outputs": [
    {
     "name": "stdout",
     "output_type": "stream",
     "text": [
      "Input/newsCorpora.csv\r\n"
     ]
    }
   ],
   "source": [
    "!ls Input/newsCorpora.csv"
   ]
  },
  {
   "cell_type": "code",
   "execution_count": 2,
   "metadata": {},
   "outputs": [],
   "source": [
    "import pandas as pd"
   ]
  },
  {
   "cell_type": "code",
   "execution_count": 3,
   "metadata": {},
   "outputs": [
    {
     "data": {
      "text/html": [
       "<div>\n",
       "<style scoped>\n",
       "    .dataframe tbody tr th:only-of-type {\n",
       "        vertical-align: middle;\n",
       "    }\n",
       "\n",
       "    .dataframe tbody tr th {\n",
       "        vertical-align: top;\n",
       "    }\n",
       "\n",
       "    .dataframe thead th {\n",
       "        text-align: right;\n",
       "    }\n",
       "</style>\n",
       "<table border=\"1\" class=\"dataframe\">\n",
       "  <thead>\n",
       "    <tr style=\"text-align: right;\">\n",
       "      <th></th>\n",
       "      <th>ID</th>\n",
       "      <th>TITLE</th>\n",
       "      <th>URL</th>\n",
       "      <th>PUBLISHER</th>\n",
       "      <th>CATEGORY</th>\n",
       "      <th>STORY</th>\n",
       "      <th>HOSTNAME</th>\n",
       "      <th>TIMESTAMP</th>\n",
       "    </tr>\n",
       "  </thead>\n",
       "  <tbody>\n",
       "    <tr>\n",
       "      <th>12</th>\n",
       "      <td>13</td>\n",
       "      <td>Europe reaches crunch point on banking union</td>\n",
       "      <td>http://in.reuters.com/article/2014/03/10/eu-ba...</td>\n",
       "      <td>Reuters</td>\n",
       "      <td>b</td>\n",
       "      <td>dPhGU51DcrolUIMxbRm0InaHGA2XM</td>\n",
       "      <td>in.reuters.com</td>\n",
       "      <td>1394470501755</td>\n",
       "    </tr>\n",
       "    <tr>\n",
       "      <th>13</th>\n",
       "      <td>14</td>\n",
       "      <td>ECB FOCUS-Stronger euro drowns out ECB's messa...</td>\n",
       "      <td>http://in.reuters.com/article/2014/03/10/ecb-p...</td>\n",
       "      <td>Reuters</td>\n",
       "      <td>b</td>\n",
       "      <td>dPhGU51DcrolUIMxbRm0InaHGA2XM</td>\n",
       "      <td>in.reuters.com</td>\n",
       "      <td>1394470501948</td>\n",
       "    </tr>\n",
       "    <tr>\n",
       "      <th>19</th>\n",
       "      <td>20</td>\n",
       "      <td>Euro Anxieties Wane as Bunds Top Treasuries, S...</td>\n",
       "      <td>http://www.businessweek.com/news/2014-03-10/ge...</td>\n",
       "      <td>Businessweek</td>\n",
       "      <td>b</td>\n",
       "      <td>dPhGU51DcrolUIMxbRm0InaHGA2XM</td>\n",
       "      <td>www.businessweek.com</td>\n",
       "      <td>1394470503148</td>\n",
       "    </tr>\n",
       "    <tr>\n",
       "      <th>20</th>\n",
       "      <td>21</td>\n",
       "      <td>Noyer Says Strong Euro Creates Unwarranted Eco...</td>\n",
       "      <td>http://www.businessweek.com/news/2014-03-10/no...</td>\n",
       "      <td>Businessweek</td>\n",
       "      <td>b</td>\n",
       "      <td>dPhGU51DcrolUIMxbRm0InaHGA2XM</td>\n",
       "      <td>www.businessweek.com</td>\n",
       "      <td>1394470503366</td>\n",
       "    </tr>\n",
       "    <tr>\n",
       "      <th>29</th>\n",
       "      <td>30</td>\n",
       "      <td>REFILE-Bad loan triggers key feature in ECB ba...</td>\n",
       "      <td>http://in.reuters.com/article/2014/03/10/euroz...</td>\n",
       "      <td>Reuters</td>\n",
       "      <td>b</td>\n",
       "      <td>dPhGU51DcrolUIMxbRm0InaHGA2XM</td>\n",
       "      <td>in.reuters.com</td>\n",
       "      <td>1394470505070</td>\n",
       "    </tr>\n",
       "  </tbody>\n",
       "</table>\n",
       "</div>"
      ],
      "text/plain": [
       "    ID                                              TITLE  \\\n",
       "12  13       Europe reaches crunch point on banking union   \n",
       "13  14  ECB FOCUS-Stronger euro drowns out ECB's messa...   \n",
       "19  20  Euro Anxieties Wane as Bunds Top Treasuries, S...   \n",
       "20  21  Noyer Says Strong Euro Creates Unwarranted Eco...   \n",
       "29  30  REFILE-Bad loan triggers key feature in ECB ba...   \n",
       "\n",
       "                                                  URL     PUBLISHER CATEGORY  \\\n",
       "12  http://in.reuters.com/article/2014/03/10/eu-ba...       Reuters        b   \n",
       "13  http://in.reuters.com/article/2014/03/10/ecb-p...       Reuters        b   \n",
       "19  http://www.businessweek.com/news/2014-03-10/ge...  Businessweek        b   \n",
       "20  http://www.businessweek.com/news/2014-03-10/no...  Businessweek        b   \n",
       "29  http://in.reuters.com/article/2014/03/10/euroz...       Reuters        b   \n",
       "\n",
       "                            STORY              HOSTNAME      TIMESTAMP  \n",
       "12  dPhGU51DcrolUIMxbRm0InaHGA2XM        in.reuters.com  1394470501755  \n",
       "13  dPhGU51DcrolUIMxbRm0InaHGA2XM        in.reuters.com  1394470501948  \n",
       "19  dPhGU51DcrolUIMxbRm0InaHGA2XM  www.businessweek.com  1394470503148  \n",
       "20  dPhGU51DcrolUIMxbRm0InaHGA2XM  www.businessweek.com  1394470503366  \n",
       "29  dPhGU51DcrolUIMxbRm0InaHGA2XM        in.reuters.com  1394470505070  "
      ]
     },
     "execution_count": 3,
     "metadata": {},
     "output_type": "execute_result"
    }
   ],
   "source": [
    "# 2.\n",
    "df = pd.read_table(\"Input/newsCorpora.csv\",\n",
    "                   names=(\"ID\", \"TITLE\", \"URL\", \"PUBLISHER\", \"CATEGORY\", \"STORY\", \"HOSTNAME\", \"TIMESTAMP\"))\n",
    "df = df[df[\"PUBLISHER\"].isin([\"Reuters\", \"Huffington Post\", \"Businessweek\", \"Contactmusic.com\", \"Daily Mail\"])]\n",
    "df.head(5)"
   ]
  },
  {
   "cell_type": "code",
   "execution_count": 4,
   "metadata": {},
   "outputs": [
    {
     "data": {
      "text/html": [
       "<div>\n",
       "<style scoped>\n",
       "    .dataframe tbody tr th:only-of-type {\n",
       "        vertical-align: middle;\n",
       "    }\n",
       "\n",
       "    .dataframe tbody tr th {\n",
       "        vertical-align: top;\n",
       "    }\n",
       "\n",
       "    .dataframe thead th {\n",
       "        text-align: right;\n",
       "    }\n",
       "</style>\n",
       "<table border=\"1\" class=\"dataframe\">\n",
       "  <thead>\n",
       "    <tr style=\"text-align: right;\">\n",
       "      <th></th>\n",
       "      <th>ID</th>\n",
       "      <th>TITLE</th>\n",
       "      <th>URL</th>\n",
       "      <th>PUBLISHER</th>\n",
       "      <th>CATEGORY</th>\n",
       "      <th>STORY</th>\n",
       "      <th>HOSTNAME</th>\n",
       "      <th>TIMESTAMP</th>\n",
       "    </tr>\n",
       "  </thead>\n",
       "  <tbody>\n",
       "    <tr>\n",
       "      <th>0</th>\n",
       "      <td>219009</td>\n",
       "      <td>Pamela Anderson swaps pixie cut for long exten...</td>\n",
       "      <td>http://www.dailymail.co.uk/tvshowbiz/article-2...</td>\n",
       "      <td>Daily Mail</td>\n",
       "      <td>e</td>\n",
       "      <td>dqVOzSR6wswC3KMbJmSz6vfIbh0sM</td>\n",
       "      <td>www.dailymail.co.uk</td>\n",
       "      <td>1400459604154</td>\n",
       "    </tr>\n",
       "    <tr>\n",
       "      <th>1</th>\n",
       "      <td>71193</td>\n",
       "      <td>UPDATE 2-Euro zone inflation drops to lowest s...</td>\n",
       "      <td>http://www.reuters.com/article/2014/03/31/euro...</td>\n",
       "      <td>Reuters</td>\n",
       "      <td>b</td>\n",
       "      <td>d4X9eAjxdXsfdZMCYElnANaPvMRNM</td>\n",
       "      <td>www.reuters.com</td>\n",
       "      <td>1396286287015</td>\n",
       "    </tr>\n",
       "    <tr>\n",
       "      <th>2</th>\n",
       "      <td>276648</td>\n",
       "      <td>RPT-Fitch affirms Aneka Gas Industri at 'A-(id...</td>\n",
       "      <td>http://in.reuters.com/article/2014/06/11/fitch...</td>\n",
       "      <td>Reuters</td>\n",
       "      <td>b</td>\n",
       "      <td>dAZC0aRMk1ONyvMUjTyEB_iZmrZLM</td>\n",
       "      <td>in.reuters.com</td>\n",
       "      <td>1402654001555</td>\n",
       "    </tr>\n",
       "    <tr>\n",
       "      <th>3</th>\n",
       "      <td>398540</td>\n",
       "      <td>FOREX-Dollar sits tight near six-month high ah...</td>\n",
       "      <td>http://in.reuters.com/article/2014/07/29/marke...</td>\n",
       "      <td>Reuters</td>\n",
       "      <td>b</td>\n",
       "      <td>dnm3lDxHwNg5cHMjrmBt-YZVfC8ZM</td>\n",
       "      <td>in.reuters.com</td>\n",
       "      <td>1406714427512</td>\n",
       "    </tr>\n",
       "    <tr>\n",
       "      <th>4</th>\n",
       "      <td>351236</td>\n",
       "      <td>Despite Stabbing At Meek Mill's BET Pre-Party,...</td>\n",
       "      <td>http://www.contactmusic.com/article/bet-awards...</td>\n",
       "      <td>Contactmusic.com</td>\n",
       "      <td>e</td>\n",
       "      <td>dH1n5nW6X6xNjwMIL0H2ry9UyfIfM</td>\n",
       "      <td>www.contactmusic.com</td>\n",
       "      <td>1404393924266</td>\n",
       "    </tr>\n",
       "  </tbody>\n",
       "</table>\n",
       "</div>"
      ],
      "text/plain": [
       "       ID                                              TITLE  \\\n",
       "0  219009  Pamela Anderson swaps pixie cut for long exten...   \n",
       "1   71193  UPDATE 2-Euro zone inflation drops to lowest s...   \n",
       "2  276648  RPT-Fitch affirms Aneka Gas Industri at 'A-(id...   \n",
       "3  398540  FOREX-Dollar sits tight near six-month high ah...   \n",
       "4  351236  Despite Stabbing At Meek Mill's BET Pre-Party,...   \n",
       "\n",
       "                                                 URL         PUBLISHER  \\\n",
       "0  http://www.dailymail.co.uk/tvshowbiz/article-2...        Daily Mail   \n",
       "1  http://www.reuters.com/article/2014/03/31/euro...           Reuters   \n",
       "2  http://in.reuters.com/article/2014/06/11/fitch...           Reuters   \n",
       "3  http://in.reuters.com/article/2014/07/29/marke...           Reuters   \n",
       "4  http://www.contactmusic.com/article/bet-awards...  Contactmusic.com   \n",
       "\n",
       "  CATEGORY                          STORY              HOSTNAME      TIMESTAMP  \n",
       "0        e  dqVOzSR6wswC3KMbJmSz6vfIbh0sM   www.dailymail.co.uk  1400459604154  \n",
       "1        b  d4X9eAjxdXsfdZMCYElnANaPvMRNM       www.reuters.com  1396286287015  \n",
       "2        b  dAZC0aRMk1ONyvMUjTyEB_iZmrZLM        in.reuters.com  1402654001555  \n",
       "3        b  dnm3lDxHwNg5cHMjrmBt-YZVfC8ZM        in.reuters.com  1406714427512  \n",
       "4        e  dH1n5nW6X6xNjwMIL0H2ry9UyfIfM  www.contactmusic.com  1404393924266  "
      ]
     },
     "execution_count": 4,
     "metadata": {},
     "output_type": "execute_result"
    }
   ],
   "source": [
    "# 3.\n",
    "df = df.sample(frac=1, random_state=50).reset_index(drop=True)\n",
    "df.head(5)"
   ]
  },
  {
   "cell_type": "code",
   "execution_count": 5,
   "metadata": {},
   "outputs": [],
   "source": [
    "# 4.\n",
    "row = len(df)\n",
    "\n",
    "df_train = df[:int(row*0.8)][[\"CATEGORY\", \"TITLE\"]]\n",
    "df_train.to_csv(\"Output/Chapter06/train.txt\", sep=\"\\t\", header=False, index=False)\n",
    "\n",
    "df_valid = df[int(row*0.8):int(row*0.9)][[\"CATEGORY\", \"TITLE\"]]\n",
    "df_valid.to_csv(\"Output/Chapter06/valid.txt\", sep=\"\\t\", header=False, index=False)\n",
    "\n",
    "df_test = df[int(row*0.9):][[\"CATEGORY\", \"TITLE\"]]\n",
    "df_test.to_csv(\"Output/Chapter06/test.txt\", sep=\"\\t\", header=False, index=False)"
   ]
  },
  {
   "cell_type": "code",
   "execution_count": 6,
   "metadata": {},
   "outputs": [
    {
     "data": {
      "text/plain": [
       "'total:13340, train:10672, valid:1334, test:1334'"
      ]
     },
     "execution_count": 6,
     "metadata": {},
     "output_type": "execute_result"
    }
   ],
   "source": [
    "args = (row, len(df_train), len(df_valid), len(df_test))\n",
    "\"total:%d, train:%d, valid:%d, test:%d\" % args"
   ]
  },
  {
   "cell_type": "markdown",
   "metadata": {},
   "source": [
    "## [51. 特徴量抽出](https://nlp100.github.io/ja/ch06.html#51-%E7%89%B9%E5%BE%B4%E9%87%8F%E6%8A%BD%E5%87%BA)\n",
    "学習データ，検証データ，評価データから特徴量を抽出し，それぞれ`train.feature.txt`，`valid.feature.txt`，`test.feature.txt`というファイル名で保存せよ． なお，カテゴリ分類に有用そうな特徴量は各自で自由に設計せよ．記事の見出しを単語列に変換したものが最低限のベースラインとなるであろう．"
   ]
  },
  {
   "cell_type": "markdown",
   "metadata": {},
   "source": [
    "## [52. 学習](https://nlp100.github.io/ja/ch06.html#52-%E5%AD%A6%E7%BF%92)\n",
    "51で構築した学習データを用いて，ロジスティック回帰モデルを学習せよ．"
   ]
  },
  {
   "cell_type": "markdown",
   "metadata": {},
   "source": [
    "## [53. 予測](https://nlp100.github.io/ja/ch06.html#53-%E4%BA%88%E6%B8%AC)\n",
    "52で学習したロジスティック回帰モデルを用い，与えられた記事見出しからカテゴリとその予測確率を計算するプログラムを実装せよ．"
   ]
  },
  {
   "cell_type": "markdown",
   "metadata": {},
   "source": [
    "## [54. 正解率の計測](https://nlp100.github.io/ja/ch06.html#54-%E6%AD%A3%E8%A7%A3%E7%8E%87%E3%81%AE%E8%A8%88%E6%B8%AC)\n",
    "52で学習したロジスティック回帰モデルの正解率を，学習データおよび評価データ上で計測せよ．"
   ]
  },
  {
   "cell_type": "markdown",
   "metadata": {},
   "source": [
    "## [55. 混同行列の作成](https://nlp100.github.io/ja/ch06.html#55-%E6%B7%B7%E5%90%8C%E8%A1%8C%E5%88%97%E3%81%AE%E4%BD%9C%E6%88%90)\n",
    "52で学習したロジスティック回帰モデルの混同行列（confusion matrix）を，学習データおよび評価データ上で作成せよ．"
   ]
  },
  {
   "cell_type": "markdown",
   "metadata": {},
   "source": [
    "## [56. 適合率，再現率，F1スコアの計測](https://nlp100.github.io/ja/ch06.html#56-%E9%81%A9%E5%90%88%E7%8E%87%E5%86%8D%E7%8F%BE%E7%8E%87f1%E3%82%B9%E3%82%B3%E3%82%A2%E3%81%AE%E8%A8%88%E6%B8%AC)\n",
    "52で学習したロジスティック回帰モデルの適合率，再現率，F1スコアを，評価データ上で計測せよ．カテゴリごとに適合率，再現率，F1スコアを求め，カテゴリごとの性能をマイクロ平均（micro-average）とマクロ平均（macro-average）で統合せよ．"
   ]
  },
  {
   "cell_type": "markdown",
   "metadata": {},
   "source": [
    "## [57. 特徴量の重みの確認](https://nlp100.github.io/ja/ch06.html#57-%E7%89%B9%E5%BE%B4%E9%87%8F%E3%81%AE%E9%87%8D%E3%81%BF%E3%81%AE%E7%A2%BA%E8%AA%8D)\n",
    "52で学習したロジスティック回帰モデルの中で，重みの高い特徴量トップ10と，重みの低い特徴量トップ10を確認せよ．"
   ]
  },
  {
   "cell_type": "markdown",
   "metadata": {},
   "source": [
    "## [58. 正則化パラメータの変更](https://nlp100.github.io/ja/ch06.html#58-%E6%AD%A3%E5%89%87%E5%8C%96%E3%83%91%E3%83%A9%E3%83%A1%E3%83%BC%E3%82%BF%E3%81%AE%E5%A4%89%E6%9B%B4)\n",
    "ロジスティック回帰モデルを学習するとき，正則化パラメータを調整することで，学習時の過学習（overfitting）の度合いを制御できる．異なる正則化パラメータでロジスティック回帰モデルを学習し，学習データ，検証データ，および評価データ上の正解率を求めよ．実験の結果は，正則化パラメータを横軸，正解率を縦軸としたグラフにまとめよ．"
   ]
  },
  {
   "cell_type": "markdown",
   "metadata": {},
   "source": [
    "## [59. ハイパーパラメータの探索](https://nlp100.github.io/ja/ch06.html#59-%E3%83%8F%E3%82%A4%E3%83%91%E3%83%BC%E3%83%91%E3%83%A9%E3%83%A1%E3%83%BC%E3%82%BF%E3%81%AE%E6%8E%A2%E7%B4%A2)\n",
    "学習アルゴリズムや学習パラメータを変えながら，カテゴリ分類モデルを学習せよ．検証データ上の正解率が最も高くなる学習アルゴリズム・パラメータを求めよ．また，その学習アルゴリズム・パラメータを用いたときの評価データ上の正解率を求めよ．"
   ]
  }
 ],
 "metadata": {
  "kernelspec": {
   "display_name": "Python 3",
   "language": "python",
   "name": "python3"
  },
  "language_info": {
   "codemirror_mode": {
    "name": "ipython",
    "version": 3
   },
   "file_extension": ".py",
   "mimetype": "text/x-python",
   "name": "python",
   "nbconvert_exporter": "python",
   "pygments_lexer": "ipython3",
   "version": "3.6.9"
  }
 },
 "nbformat": 4,
 "nbformat_minor": 2
}
