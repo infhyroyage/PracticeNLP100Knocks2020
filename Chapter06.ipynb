{
 "cells": [
  {
   "cell_type": "markdown",
   "metadata": {},
   "source": [
    "# [第6章: 機械学習](https://nlp100.github.io/ja/ch06.html)\n",
    "本章では，Fabio Gasparetti氏が公開している[News Aggregator Data Set](https://archive.ics.uci.edu/ml/datasets/News+Aggregator)を用い，ニュース記事の見出しを「ビジネス」「科学技術」「エンターテイメント」「健康」のカテゴリに分類するタスク（カテゴリ分類）に取り組む．"
   ]
  },
  {
   "cell_type": "markdown",
   "metadata": {},
   "source": [
    "## [50. データの入手・整形](https://nlp100.github.io/ja/ch06.html#50-%E3%83%87%E3%83%BC%E3%82%BF%E3%81%AE%E5%85%A5%E6%89%8B%E6%95%B4%E5%BD%A2)\n",
    "[News Aggregator Data Set](https://archive.ics.uci.edu/ml/datasets/News+Aggregator)をダウンロードし、以下の要領で学習データ（`train.txt`），検証データ（`valid.txt`），評価データ（`test.txt`）を作成せよ．\n",
    "1. ダウンロードしたzipファイルを解凍し，`readme.txt`の説明を読む．\n",
    "2. 情報源（publisher）が”Reuters”, “Huffington Post”, “Businessweek”, “Contactmusic.com”, “Daily Mail”の事例（記事）のみを抽出する．\n",
    "3. 抽出された事例をランダムに並び替える．\n",
    "4. 抽出された事例の80%を学習データ，残りの10%ずつを検証データと評価データに分割し，それぞれ`train.txt`，`valid.txt`，`test.txt`というファイル名で保存する．ファイルには，１行に１事例を書き出すこととし，カテゴリ名と記事見出しのタブ区切り形式とせよ（このファイルは後に問題70で再利用する）．\n",
    "\n",
    "学習データと評価データを作成したら，各カテゴリの事例数を確認せよ．"
   ]
  },
  {
   "cell_type": "code",
   "execution_count": 1,
   "metadata": {},
   "outputs": [
    {
     "name": "stdout",
     "output_type": "stream",
     "text": [
      "Input/newsCorpora.csv\r\n"
     ]
    }
   ],
   "source": [
    "!ls Input/newsCorpora.csv"
   ]
  },
  {
   "cell_type": "code",
   "execution_count": 2,
   "metadata": {},
   "outputs": [],
   "source": [
    "import pandas as pd"
   ]
  },
  {
   "cell_type": "code",
   "execution_count": 3,
   "metadata": {},
   "outputs": [
    {
     "data": {
      "text/html": [
       "<div>\n",
       "<style scoped>\n",
       "    .dataframe tbody tr th:only-of-type {\n",
       "        vertical-align: middle;\n",
       "    }\n",
       "\n",
       "    .dataframe tbody tr th {\n",
       "        vertical-align: top;\n",
       "    }\n",
       "\n",
       "    .dataframe thead th {\n",
       "        text-align: right;\n",
       "    }\n",
       "</style>\n",
       "<table border=\"1\" class=\"dataframe\">\n",
       "  <thead>\n",
       "    <tr style=\"text-align: right;\">\n",
       "      <th></th>\n",
       "      <th>ID</th>\n",
       "      <th>TITLE</th>\n",
       "      <th>URL</th>\n",
       "      <th>PUBLISHER</th>\n",
       "      <th>CATEGORY</th>\n",
       "      <th>STORY</th>\n",
       "      <th>HOSTNAME</th>\n",
       "      <th>TIMESTAMP</th>\n",
       "    </tr>\n",
       "  </thead>\n",
       "  <tbody>\n",
       "    <tr>\n",
       "      <th>12</th>\n",
       "      <td>13</td>\n",
       "      <td>Europe reaches crunch point on banking union</td>\n",
       "      <td>http://in.reuters.com/article/2014/03/10/eu-ba...</td>\n",
       "      <td>Reuters</td>\n",
       "      <td>b</td>\n",
       "      <td>dPhGU51DcrolUIMxbRm0InaHGA2XM</td>\n",
       "      <td>in.reuters.com</td>\n",
       "      <td>1394470501755</td>\n",
       "    </tr>\n",
       "    <tr>\n",
       "      <th>13</th>\n",
       "      <td>14</td>\n",
       "      <td>ECB FOCUS-Stronger euro drowns out ECB's messa...</td>\n",
       "      <td>http://in.reuters.com/article/2014/03/10/ecb-p...</td>\n",
       "      <td>Reuters</td>\n",
       "      <td>b</td>\n",
       "      <td>dPhGU51DcrolUIMxbRm0InaHGA2XM</td>\n",
       "      <td>in.reuters.com</td>\n",
       "      <td>1394470501948</td>\n",
       "    </tr>\n",
       "    <tr>\n",
       "      <th>19</th>\n",
       "      <td>20</td>\n",
       "      <td>Euro Anxieties Wane as Bunds Top Treasuries, S...</td>\n",
       "      <td>http://www.businessweek.com/news/2014-03-10/ge...</td>\n",
       "      <td>Businessweek</td>\n",
       "      <td>b</td>\n",
       "      <td>dPhGU51DcrolUIMxbRm0InaHGA2XM</td>\n",
       "      <td>www.businessweek.com</td>\n",
       "      <td>1394470503148</td>\n",
       "    </tr>\n",
       "    <tr>\n",
       "      <th>20</th>\n",
       "      <td>21</td>\n",
       "      <td>Noyer Says Strong Euro Creates Unwarranted Eco...</td>\n",
       "      <td>http://www.businessweek.com/news/2014-03-10/no...</td>\n",
       "      <td>Businessweek</td>\n",
       "      <td>b</td>\n",
       "      <td>dPhGU51DcrolUIMxbRm0InaHGA2XM</td>\n",
       "      <td>www.businessweek.com</td>\n",
       "      <td>1394470503366</td>\n",
       "    </tr>\n",
       "    <tr>\n",
       "      <th>29</th>\n",
       "      <td>30</td>\n",
       "      <td>REFILE-Bad loan triggers key feature in ECB ba...</td>\n",
       "      <td>http://in.reuters.com/article/2014/03/10/euroz...</td>\n",
       "      <td>Reuters</td>\n",
       "      <td>b</td>\n",
       "      <td>dPhGU51DcrolUIMxbRm0InaHGA2XM</td>\n",
       "      <td>in.reuters.com</td>\n",
       "      <td>1394470505070</td>\n",
       "    </tr>\n",
       "  </tbody>\n",
       "</table>\n",
       "</div>"
      ],
      "text/plain": [
       "    ID                                              TITLE  \\\n",
       "12  13       Europe reaches crunch point on banking union   \n",
       "13  14  ECB FOCUS-Stronger euro drowns out ECB's messa...   \n",
       "19  20  Euro Anxieties Wane as Bunds Top Treasuries, S...   \n",
       "20  21  Noyer Says Strong Euro Creates Unwarranted Eco...   \n",
       "29  30  REFILE-Bad loan triggers key feature in ECB ba...   \n",
       "\n",
       "                                                  URL     PUBLISHER CATEGORY  \\\n",
       "12  http://in.reuters.com/article/2014/03/10/eu-ba...       Reuters        b   \n",
       "13  http://in.reuters.com/article/2014/03/10/ecb-p...       Reuters        b   \n",
       "19  http://www.businessweek.com/news/2014-03-10/ge...  Businessweek        b   \n",
       "20  http://www.businessweek.com/news/2014-03-10/no...  Businessweek        b   \n",
       "29  http://in.reuters.com/article/2014/03/10/euroz...       Reuters        b   \n",
       "\n",
       "                            STORY              HOSTNAME      TIMESTAMP  \n",
       "12  dPhGU51DcrolUIMxbRm0InaHGA2XM        in.reuters.com  1394470501755  \n",
       "13  dPhGU51DcrolUIMxbRm0InaHGA2XM        in.reuters.com  1394470501948  \n",
       "19  dPhGU51DcrolUIMxbRm0InaHGA2XM  www.businessweek.com  1394470503148  \n",
       "20  dPhGU51DcrolUIMxbRm0InaHGA2XM  www.businessweek.com  1394470503366  \n",
       "29  dPhGU51DcrolUIMxbRm0InaHGA2XM        in.reuters.com  1394470505070  "
      ]
     },
     "execution_count": 3,
     "metadata": {},
     "output_type": "execute_result"
    }
   ],
   "source": [
    "# 2.\n",
    "df = pd.read_table(\"Input/newsCorpora.csv\",\n",
    "                   names=(\"ID\", \"TITLE\", \"URL\", \"PUBLISHER\", \"CATEGORY\", \"STORY\", \"HOSTNAME\", \"TIMESTAMP\"),\n",
    "                   quoting=3)\n",
    "df = df[df[\"PUBLISHER\"].isin([\"Reuters\", \"Huffington Post\", \"Businessweek\", \"Contactmusic.com\", \"Daily Mail\"])]\n",
    "df.head(5)"
   ]
  },
  {
   "cell_type": "code",
   "execution_count": 4,
   "metadata": {},
   "outputs": [
    {
     "data": {
      "text/html": [
       "<div>\n",
       "<style scoped>\n",
       "    .dataframe tbody tr th:only-of-type {\n",
       "        vertical-align: middle;\n",
       "    }\n",
       "\n",
       "    .dataframe tbody tr th {\n",
       "        vertical-align: top;\n",
       "    }\n",
       "\n",
       "    .dataframe thead th {\n",
       "        text-align: right;\n",
       "    }\n",
       "</style>\n",
       "<table border=\"1\" class=\"dataframe\">\n",
       "  <thead>\n",
       "    <tr style=\"text-align: right;\">\n",
       "      <th></th>\n",
       "      <th>ID</th>\n",
       "      <th>TITLE</th>\n",
       "      <th>URL</th>\n",
       "      <th>PUBLISHER</th>\n",
       "      <th>CATEGORY</th>\n",
       "      <th>STORY</th>\n",
       "      <th>HOSTNAME</th>\n",
       "      <th>TIMESTAMP</th>\n",
       "    </tr>\n",
       "  </thead>\n",
       "  <tbody>\n",
       "    <tr>\n",
       "      <th>0</th>\n",
       "      <td>290630</td>\n",
       "      <td>Report: Ukraine president proposing cease-fire</td>\n",
       "      <td>http://www.businessweek.com/ap/2014-06-16/repo...</td>\n",
       "      <td>Businessweek</td>\n",
       "      <td>b</td>\n",
       "      <td>ddj5NjVPliMvgHMxoJt8jgDPRCu4M</td>\n",
       "      <td>www.businessweek.com</td>\n",
       "      <td>1402927990143</td>\n",
       "    </tr>\n",
       "    <tr>\n",
       "      <th>1</th>\n",
       "      <td>1882</td>\n",
       "      <td>Gas up 2 cents in Rhode Island to $3.57 a gallon</td>\n",
       "      <td>http://www.businessweek.com/ap/2014-03-10/gas-...</td>\n",
       "      <td>Businessweek</td>\n",
       "      <td>t</td>\n",
       "      <td>dQ1hBSN6YmfxF9Mwn5_M8L421ikbM</td>\n",
       "      <td>www.businessweek.com</td>\n",
       "      <td>1394511426338</td>\n",
       "    </tr>\n",
       "    <tr>\n",
       "      <th>2</th>\n",
       "      <td>357017</td>\n",
       "      <td>GLOBAL MARKETS-World stocks hold at all-time h...</td>\n",
       "      <td>http://www.reuters.com/article/2014/07/04/mark...</td>\n",
       "      <td>Reuters</td>\n",
       "      <td>b</td>\n",
       "      <td>d4CAA3sZwGJo-lMLgwwsVuqKsBvVM</td>\n",
       "      <td>www.reuters.com</td>\n",
       "      <td>1404520680866</td>\n",
       "    </tr>\n",
       "    <tr>\n",
       "      <th>3</th>\n",
       "      <td>173855</td>\n",
       "      <td>American dollar hits a wall as China prepares ...</td>\n",
       "      <td>http://www.dailymail.co.uk/news/article-261680...</td>\n",
       "      <td>Daily Mail</td>\n",
       "      <td>b</td>\n",
       "      <td>dW6XF7JpT9ZPxCMYR-8h8rlx4PQfM</td>\n",
       "      <td>www.dailymail.co.uk</td>\n",
       "      <td>1398869352646</td>\n",
       "    </tr>\n",
       "    <tr>\n",
       "      <th>4</th>\n",
       "      <td>175976</td>\n",
       "      <td>With The \"Episode VIi\" Cast, JJ Abrams Is Bank...</td>\n",
       "      <td>http://www.contactmusic.com/article/star-wars-...</td>\n",
       "      <td>Contactmusic.com</td>\n",
       "      <td>e</td>\n",
       "      <td>dcM-0hWNTH6q4MMXsh0qF0FQcc2IM</td>\n",
       "      <td>www.contactmusic.com</td>\n",
       "      <td>1398881678390</td>\n",
       "    </tr>\n",
       "  </tbody>\n",
       "</table>\n",
       "</div>"
      ],
      "text/plain": [
       "       ID                                              TITLE  \\\n",
       "0  290630     Report: Ukraine president proposing cease-fire   \n",
       "1    1882   Gas up 2 cents in Rhode Island to $3.57 a gallon   \n",
       "2  357017  GLOBAL MARKETS-World stocks hold at all-time h...   \n",
       "3  173855  American dollar hits a wall as China prepares ...   \n",
       "4  175976  With The \"Episode VIi\" Cast, JJ Abrams Is Bank...   \n",
       "\n",
       "                                                 URL         PUBLISHER  \\\n",
       "0  http://www.businessweek.com/ap/2014-06-16/repo...      Businessweek   \n",
       "1  http://www.businessweek.com/ap/2014-03-10/gas-...      Businessweek   \n",
       "2  http://www.reuters.com/article/2014/07/04/mark...           Reuters   \n",
       "3  http://www.dailymail.co.uk/news/article-261680...        Daily Mail   \n",
       "4  http://www.contactmusic.com/article/star-wars-...  Contactmusic.com   \n",
       "\n",
       "  CATEGORY                          STORY              HOSTNAME      TIMESTAMP  \n",
       "0        b  ddj5NjVPliMvgHMxoJt8jgDPRCu4M  www.businessweek.com  1402927990143  \n",
       "1        t  dQ1hBSN6YmfxF9Mwn5_M8L421ikbM  www.businessweek.com  1394511426338  \n",
       "2        b  d4CAA3sZwGJo-lMLgwwsVuqKsBvVM       www.reuters.com  1404520680866  \n",
       "3        b  dW6XF7JpT9ZPxCMYR-8h8rlx4PQfM   www.dailymail.co.uk  1398869352646  \n",
       "4        e  dcM-0hWNTH6q4MMXsh0qF0FQcc2IM  www.contactmusic.com  1398881678390  "
      ]
     },
     "execution_count": 4,
     "metadata": {},
     "output_type": "execute_result"
    }
   ],
   "source": [
    "# 3.\n",
    "df = df.sample(frac=1, random_state=50).reset_index(drop=True)\n",
    "df.head(5)"
   ]
  },
  {
   "cell_type": "code",
   "execution_count": 5,
   "metadata": {},
   "outputs": [],
   "source": [
    "# 4.\n",
    "row = len(df)\n",
    "\n",
    "df_train = df[:int(row*0.8)][[\"CATEGORY\", \"TITLE\"]]\n",
    "df_train.to_csv(\"Output/Chapter06/train.txt\", sep=\"\\t\", header=False, index=False)\n",
    "\n",
    "df_valid = df[int(row*0.8):int(row*0.9)][[\"CATEGORY\", \"TITLE\"]]\n",
    "df_valid.to_csv(\"Output/Chapter06/valid.txt\", sep=\"\\t\", header=False, index=False)\n",
    "\n",
    "df_test = df[int(row*0.9):][[\"CATEGORY\", \"TITLE\"]]\n",
    "df_test.to_csv(\"Output/Chapter06/test.txt\", sep=\"\\t\", header=False, index=False)"
   ]
  },
  {
   "cell_type": "code",
   "execution_count": 6,
   "metadata": {},
   "outputs": [
    {
     "data": {
      "text/plain": [
       "'total:13356, train:10684, valid:1336, test:1336'"
      ]
     },
     "execution_count": 6,
     "metadata": {},
     "output_type": "execute_result"
    }
   ],
   "source": [
    "args = (row, len(df_train), len(df_valid), len(df_test))\n",
    "\"total:%d, train:%d, valid:%d, test:%d\" % args"
   ]
  },
  {
   "cell_type": "markdown",
   "metadata": {},
   "source": [
    "## [51. 特徴量抽出](https://nlp100.github.io/ja/ch06.html#51-%E7%89%B9%E5%BE%B4%E9%87%8F%E6%8A%BD%E5%87%BA)\n",
    "学習データ，検証データ，評価データから特徴量を抽出し，それぞれ`train.feature.txt`，`valid.feature.txt`，`test.feature.txt`というファイル名で保存せよ． なお，カテゴリ分類に有用そうな特徴量は各自で自由に設計せよ．記事の見出しを単語列に変換したものが最低限のベースラインとなるであろう．"
   ]
  },
  {
   "cell_type": "code",
   "execution_count": 7,
   "metadata": {},
   "outputs": [],
   "source": [
    "from nltk.stem.porter import PorterStemmer\n",
    "from sklearn.feature_extraction.text import ENGLISH_STOP_WORDS"
   ]
  },
  {
   "cell_type": "code",
   "execution_count": 8,
   "metadata": {},
   "outputs": [],
   "source": [
    "# 記事の見出しの単語列から、ストップワード除去後にステミング処理したものを、ここでの特徴量とする\n",
    "stop_words = list(ENGLISH_STOP_WORDS)\n",
    "porter = PorterStemmer()"
   ]
  },
  {
   "cell_type": "code",
   "execution_count": 9,
   "metadata": {},
   "outputs": [],
   "source": [
    "def extract_features(file_type: str):\n",
    "    if file_type != \"train\" and file_type != \"valid\" and file_type != \"test\":\n",
    "        raise ValueError(\"file_type:%s\" % file_type)\n",
    "\n",
    "    in_path = \"Output/Chapter06/%s.txt\" % file_type\n",
    "    out_path = \"Output/Chapter06/%s.feature.txt\" % file_type\n",
    "\n",
    "    with open(in_path) as f, open(out_path, \"w\") as f_feature:\n",
    "        for line in f:\n",
    "            words = []\n",
    "\n",
    "            for word in line.split(\"\\t\")[1].split():\n",
    "                if word not in stop_words:\n",
    "                    words.append(porter.stem(word))\n",
    "\n",
    "            args = (line.split(\"\\t\")[0], \" \".join(words))\n",
    "            f_feature.write(\"%s\\t%s\\n\" % args)"
   ]
  },
  {
   "cell_type": "code",
   "execution_count": 10,
   "metadata": {},
   "outputs": [
    {
     "name": "stdout",
     "output_type": "stream",
     "text": [
      "CPU times: user 1.95 s, sys: 3.53 ms, total: 1.96 s\n",
      "Wall time: 1.96 s\n"
     ]
    }
   ],
   "source": [
    "%%time\n",
    "extract_features(\"train\")\n",
    "extract_features(\"valid\")\n",
    "extract_features(\"test\")"
   ]
  },
  {
   "cell_type": "markdown",
   "metadata": {},
   "source": [
    "## [52. 学習](https://nlp100.github.io/ja/ch06.html#52-%E5%AD%A6%E7%BF%92)\n",
    "51で構築した学習データを用いて，ロジスティック回帰モデルを学習せよ．"
   ]
  },
  {
   "cell_type": "code",
   "execution_count": 11,
   "metadata": {},
   "outputs": [],
   "source": [
    "import numpy as np\n",
    "from sklearn.feature_extraction.text import TfidfVectorizer\n",
    "from sklearn.linear_model import LogisticRegression"
   ]
  },
  {
   "cell_type": "code",
   "execution_count": 12,
   "metadata": {},
   "outputs": [],
   "source": [
    "# ここでは、tf-idfによるベクトル化により、コーパスから学習データを作成\n",
    "X_train, y_train, tf_idf = None, None, TfidfVectorizer()\n",
    "\n",
    "with open(\"Output/Chapter06/train.feature.txt\") as f:\n",
    "    labels, features = [], []\n",
    "\n",
    "    for line in f:\n",
    "        elements = line.split(\"\\t\")\n",
    "        labels.append(elements[0])\n",
    "        features.append(elements[1].replace(\"\\n\", \"\"))\n",
    "\n",
    "    tf_idf.fit(features)\n",
    "    X_train = tf_idf.transform(features)\n",
    "    y_train = np.array(labels)"
   ]
  },
  {
   "cell_type": "code",
   "execution_count": 13,
   "metadata": {},
   "outputs": [
    {
     "data": {
      "text/plain": [
       "<10684x10785 sparse matrix of type '<class 'numpy.float64'>'\n",
       "\twith 91587 stored elements in Compressed Sparse Row format>"
      ]
     },
     "execution_count": 13,
     "metadata": {},
     "output_type": "execute_result"
    }
   ],
   "source": [
    "X_train"
   ]
  },
  {
   "cell_type": "code",
   "execution_count": 14,
   "metadata": {},
   "outputs": [
    {
     "data": {
      "text/plain": [
       "(10684,)"
      ]
     },
     "execution_count": 14,
     "metadata": {},
     "output_type": "execute_result"
    }
   ],
   "source": [
    "y_train.shape"
   ]
  },
  {
   "cell_type": "code",
   "execution_count": 15,
   "metadata": {},
   "outputs": [
    {
     "name": "stdout",
     "output_type": "stream",
     "text": [
      "CPU times: user 2.22 s, sys: 2.36 s, total: 4.58 s\n",
      "Wall time: 1.17 s\n"
     ]
    },
    {
     "data": {
      "text/plain": [
       "LogisticRegression(C=1.0, class_weight=None, dual=False, fit_intercept=True,\n",
       "                   intercept_scaling=1, l1_ratio=None, max_iter=1000,\n",
       "                   multi_class='auto', n_jobs=None, penalty='l2',\n",
       "                   random_state=52, solver='lbfgs', tol=0.0001, verbose=0,\n",
       "                   warm_start=False)"
      ]
     },
     "execution_count": 15,
     "metadata": {},
     "output_type": "execute_result"
    }
   ],
   "source": [
    "%%time\n",
    "model_52 = LogisticRegression(max_iter=1000, random_state=52)\n",
    "model_52.fit(X_train, y_train)"
   ]
  },
  {
   "cell_type": "markdown",
   "metadata": {},
   "source": [
    "## [53. 予測](https://nlp100.github.io/ja/ch06.html#53-%E4%BA%88%E6%B8%AC)\n",
    "52で学習したロジスティック回帰モデルを用い，与えられた記事見出しからカテゴリとその予測確率を計算するプログラムを実装せよ．"
   ]
  },
  {
   "cell_type": "code",
   "execution_count": 16,
   "metadata": {},
   "outputs": [],
   "source": [
    "def calc_category_prediction(title: str):\n",
    "    X = tf_idf.transform([title])\n",
    "    pred = model_52.predict(X)[0]\n",
    "    probs = model_52.predict_proba(X)[0]\n",
    "    return pred, max(probs)"
   ]
  },
  {
   "cell_type": "code",
   "execution_count": 17,
   "metadata": {},
   "outputs": [
    {
     "name": "stdout",
     "output_type": "stream",
     "text": [
      "report: ukrain presid propos cease-fir\n",
      " -> Label:b\n",
      " -> Predict:b\n",
      " -> Probability:87.179122%\n",
      "\n",
      "ga 2 cent rhode island $3.57 gallon\n",
      " -> Label:t\n",
      " -> Predict:t\n",
      " -> Probability:45.728191%\n",
      "\n",
      "global markets-world stock hold all-tim high bumper week\n",
      " -> Label:b\n",
      " -> Predict:b\n",
      " -> Probability:92.318818%\n",
      "\n",
      "american dollar hit wall china prepar leap place world' ...\n",
      " -> Label:b\n",
      " -> Predict:b\n",
      " -> Probability:90.112721%\n",
      "\n",
      "\"with the \"\"episod vii\"\" cast, JJ abram Is bank On emerg young talent ...\"\n",
      " -> Label:e\n",
      " -> Predict:e\n",
      " -> Probability:84.046417%\n",
      "\n",
      "jame franco - jame franco laugh off instagram controversi In saturday ...\n",
      " -> Label:e\n",
      " -> Predict:e\n",
      " -> Probability:89.745006%\n",
      "\n",
      "miley cyru sit topless get blond hair trim reveal flashback ...\n",
      " -> Label:e\n",
      " -> Predict:e\n",
      " -> Probability:93.813616%\n",
      "\n",
      "robert pattinson - robert pattinson homeless\n",
      " -> Label:e\n",
      " -> Predict:e\n",
      " -> Probability:87.316650%\n",
      "\n",
      "yahoo! keep win with alibaba (and lose everywher else)\n",
      " -> Label:t\n",
      " -> Predict:e\n",
      " -> Probability:48.087043%\n",
      "\n",
      "powerad drop controversi bromin veget oil ingredi\n",
      " -> Label:b\n",
      " -> Predict:b\n",
      " -> Probability:78.346432%\n",
      "\n"
     ]
    }
   ],
   "source": [
    "with open(\"Output/Chapter06/train.feature.txt\") as f:\n",
    "    for i, line in enumerate(f):\n",
    "        if i == 10:\n",
    "            break\n",
    "\n",
    "        elements = line.split(\"\\t\")\n",
    "        label = elements[0]\n",
    "        title = elements[1].replace(\"\\n\", \"\")\n",
    "        pred, prob = calc_category_prediction(title)\n",
    "\n",
    "        print(title)\n",
    "        print(\" -> Label:%s\" % label)\n",
    "        print(\" -> Predict:%s\" % pred)\n",
    "        print(\" -> Probability:%f%%\" % (prob*100.0))\n",
    "        print()"
   ]
  },
  {
   "cell_type": "markdown",
   "metadata": {},
   "source": [
    "## [54. 正解率の計測](https://nlp100.github.io/ja/ch06.html#54-%E6%AD%A3%E8%A7%A3%E7%8E%87%E3%81%AE%E8%A8%88%E6%B8%AC)\n",
    "52で学習したロジスティック回帰モデルの正解率を，学習データおよび評価データ上で計測せよ．"
   ]
  },
  {
   "cell_type": "code",
   "execution_count": 18,
   "metadata": {},
   "outputs": [],
   "source": [
    "from sklearn.metrics import accuracy_score"
   ]
  },
  {
   "cell_type": "code",
   "execution_count": 19,
   "metadata": {},
   "outputs": [],
   "source": [
    "X_test, y_test = None, None\n",
    "\n",
    "with open(\"Output/Chapter06/test.feature.txt\") as f:\n",
    "    features, labels = [], []\n",
    "\n",
    "    for line in f:\n",
    "        elements = line.split(\"\\t\")\n",
    "        label = elements[0]\n",
    "        title = elements[1].replace(\"\\n\", \"\")\n",
    "        features.append(title)\n",
    "        labels.append(label)\n",
    "\n",
    "    X_test = tf_idf.transform(features)\n",
    "    y_test = np.array(labels)"
   ]
  },
  {
   "cell_type": "code",
   "execution_count": 20,
   "metadata": {},
   "outputs": [
    {
     "name": "stdout",
     "output_type": "stream",
     "text": [
      "Accuracy(Train):94.440285%, Accuracy(Test):89.296407%\n"
     ]
    }
   ],
   "source": [
    "accuracy_train = model_52.score(X_train, y_train) * 100.0\n",
    "accuracy_test = model_52.score(X_test, y_test) * 100.0\n",
    "\n",
    "args = (accuracy_train, accuracy_test)\n",
    "print(\"Accuracy(Train):%f%%, Accuracy(Test):%f%%\" % args)"
   ]
  },
  {
   "cell_type": "markdown",
   "metadata": {},
   "source": [
    "## [55. 混同行列の作成](https://nlp100.github.io/ja/ch06.html#55-%E6%B7%B7%E5%90%8C%E8%A1%8C%E5%88%97%E3%81%AE%E4%BD%9C%E6%88%90)\n",
    "52で学習したロジスティック回帰モデルの混同行列（confusion matrix）を，学習データおよび評価データ上で作成せよ．"
   ]
  },
  {
   "cell_type": "code",
   "execution_count": 21,
   "metadata": {},
   "outputs": [],
   "source": [
    "import matplotlib.pyplot as plt\n",
    "import seaborn as sns\n",
    "from sklearn.metrics import confusion_matrix"
   ]
  },
  {
   "cell_type": "code",
   "execution_count": 22,
   "metadata": {},
   "outputs": [],
   "source": [
    "%matplotlib inline"
   ]
  },
  {
   "cell_type": "code",
   "execution_count": 23,
   "metadata": {},
   "outputs": [],
   "source": [
    "sns.set(style=\"darkgrid\", context=\"notebook\", palette=\"muted\")"
   ]
  },
  {
   "cell_type": "code",
   "execution_count": 24,
   "metadata": {},
   "outputs": [
    {
     "name": "stdout",
     "output_type": "stream",
     "text": [
      "CPU times: user 8.97 s, sys: 5.23 ms, total: 8.98 s\n",
      "Wall time: 8.98 s\n"
     ]
    }
   ],
   "source": [
    "%%time\n",
    "y_pred_train = None\n",
    "\n",
    "with open(\"Output/Chapter06/train.feature.txt\") as f:\n",
    "    preds = []\n",
    "\n",
    "    for line in f:\n",
    "        title = line.split(\"\\t\")[1].replace(\"\\n\", \"\")\n",
    "        pred, _ = calc_category_prediction(title)\n",
    "        preds.append(pred)\n",
    "    \n",
    "    y_pred_train = np.array(preds)"
   ]
  },
  {
   "cell_type": "code",
   "execution_count": 25,
   "metadata": {},
   "outputs": [
    {
     "data": {
      "text/plain": [
       "<matplotlib.axes._subplots.AxesSubplot at 0x7f3701393828>"
      ]
     },
     "execution_count": 25,
     "metadata": {},
     "output_type": "execute_result"
    },
    {
     "data": {
      "image/png": "[encoded data removed]",
      "text/plain": [
       "<Figure size 432x288 with 2 Axes>"
      ]
     },
     "metadata": {},
     "output_type": "display_data"
    }
   ],
   "source": [
    "cm_train = pd.DataFrame(confusion_matrix(y_train, y_pred_train),\n",
    "                     columns=np.unique(y_train),\n",
    "                     index=np.unique(y_train))\n",
    "cm_train.index.name = \"True Label(Train)\"\n",
    "cm_train.columns.name = \"Predict Label(Train)\"\n",
    "sns.heatmap(cm_train, annot=True, cmap=\"Blues\", fmt=\"d\")"
   ]
  },
  {
   "cell_type": "code",
   "execution_count": 26,
   "metadata": {},
   "outputs": [
    {
     "name": "stdout",
     "output_type": "stream",
     "text": [
      "CPU times: user 1.13 s, sys: 0 ns, total: 1.13 s\n",
      "Wall time: 1.13 s\n"
     ]
    }
   ],
   "source": [
    "%%time\n",
    "y_pred_test = None\n",
    "\n",
    "with open(\"Output/Chapter06/test.feature.txt\") as f:\n",
    "    preds = []\n",
    "\n",
    "    for line in f:\n",
    "        title = line.split(\"\\t\")[1].replace(\"\\n\", \"\")\n",
    "        pred, _ = calc_category_prediction(title)\n",
    "        preds.append(pred)\n",
    "    \n",
    "    y_pred_test = np.array(preds)"
   ]
  },
  {
   "cell_type": "code",
   "execution_count": 27,
   "metadata": {},
   "outputs": [
    {
     "data": {
      "text/plain": [
       "<matplotlib.axes._subplots.AxesSubplot at 0x7f36ff456748>"
      ]
     },
     "execution_count": 27,
     "metadata": {},
     "output_type": "execute_result"
    },
    {
     "data": {
      "image/png": "[encoded data removed]",
      "text/plain": [
       "<Figure size 432x288 with 2 Axes>"
      ]
     },
     "metadata": {},
     "output_type": "display_data"
    }
   ],
   "source": [
    "cm_test = pd.DataFrame(confusion_matrix(y_test, y_pred_test),\n",
    "                     columns=np.unique(y_test),\n",
    "                     index=np.unique(y_test))\n",
    "cm_test.index.name = \"True Label(Test)\"\n",
    "cm_test.columns.name = \"Predict Label(Test)\"\n",
    "sns.heatmap(cm_test, annot=True, cmap=\"Reds\", fmt=\"d\")"
   ]
  },
  {
   "cell_type": "markdown",
   "metadata": {},
   "source": [
    "## [56. 適合率，再現率，F1スコアの計測](https://nlp100.github.io/ja/ch06.html#56-%E9%81%A9%E5%90%88%E7%8E%87%E5%86%8D%E7%8F%BE%E7%8E%87f1%E3%82%B9%E3%82%B3%E3%82%A2%E3%81%AE%E8%A8%88%E6%B8%AC)\n",
    "52で学習したロジスティック回帰モデルの適合率，再現率，F1スコアを，評価データ上で計測せよ．カテゴリごとに適合率，再現率，F1スコアを求め，カテゴリごとの性能をマイクロ平均（micro-average）とマクロ平均（macro-average）で統合せよ．"
   ]
  },
  {
   "cell_type": "code",
   "execution_count": 28,
   "metadata": {},
   "outputs": [],
   "source": [
    "from sklearn.metrics import classification_report"
   ]
  },
  {
   "cell_type": "code",
   "execution_count": 29,
   "metadata": {},
   "outputs": [
    {
     "name": "stdout",
     "output_type": "stream",
     "text": [
      "              precision    recall  f1-score   support\n",
      "\n",
      "           b       0.90      0.94      0.92       548\n",
      "           e       0.88      0.98      0.93       544\n",
      "\n",
      "   micro avg       0.89      0.96      0.92      1092\n",
      "   macro avg       0.89      0.96      0.92      1092\n",
      "weighted avg       0.89      0.96      0.92      1092\n",
      "\n"
     ]
    }
   ],
   "source": [
    "print(classification_report(y_test, y_pred_test, labels=[\"b\", \"e\"]))"
   ]
  },
  {
   "cell_type": "code",
   "execution_count": 30,
   "metadata": {},
   "outputs": [
    {
     "name": "stdout",
     "output_type": "stream",
     "text": [
      "              precision    recall  f1-score   support\n",
      "\n",
      "           b       0.90      0.94      0.92       548\n",
      "           m       0.96      0.54      0.69        95\n",
      "\n",
      "   micro avg       0.91      0.88      0.89       643\n",
      "   macro avg       0.93      0.74      0.80       643\n",
      "weighted avg       0.91      0.88      0.88       643\n",
      "\n"
     ]
    }
   ],
   "source": [
    "print(classification_report(y_test, y_pred_test, labels=[\"b\", \"m\"]))"
   ]
  },
  {
   "cell_type": "code",
   "execution_count": 31,
   "metadata": {},
   "outputs": [
    {
     "name": "stdout",
     "output_type": "stream",
     "text": [
      "              precision    recall  f1-score   support\n",
      "\n",
      "           b       0.90      0.94      0.92       548\n",
      "           t       0.87      0.63      0.73       149\n",
      "\n",
      "   micro avg       0.90      0.87      0.88       697\n",
      "   macro avg       0.89      0.78      0.83       697\n",
      "weighted avg       0.89      0.87      0.88       697\n",
      "\n"
     ]
    }
   ],
   "source": [
    "print(classification_report(y_test, y_pred_test, labels=[\"b\", \"t\"]))"
   ]
  },
  {
   "cell_type": "code",
   "execution_count": 32,
   "metadata": {},
   "outputs": [
    {
     "name": "stdout",
     "output_type": "stream",
     "text": [
      "              precision    recall  f1-score   support\n",
      "\n",
      "           e       0.88      0.98      0.93       544\n",
      "           m       0.96      0.54      0.69        95\n",
      "\n",
      "   micro avg       0.89      0.92      0.90       639\n",
      "   macro avg       0.92      0.76      0.81       639\n",
      "weighted avg       0.89      0.92      0.89       639\n",
      "\n"
     ]
    }
   ],
   "source": [
    "print(classification_report(y_test, y_pred_test, labels=[\"e\", \"m\"]))"
   ]
  },
  {
   "cell_type": "code",
   "execution_count": 33,
   "metadata": {},
   "outputs": [
    {
     "name": "stdout",
     "output_type": "stream",
     "text": [
      "              precision    recall  f1-score   support\n",
      "\n",
      "           e       0.88      0.98      0.93       544\n",
      "           t       0.87      0.63      0.73       149\n",
      "\n",
      "   micro avg       0.88      0.91      0.89       693\n",
      "   macro avg       0.88      0.81      0.83       693\n",
      "weighted avg       0.88      0.91      0.89       693\n",
      "\n"
     ]
    }
   ],
   "source": [
    "print(classification_report(y_test, y_pred_test, labels=[\"e\", \"t\"]))"
   ]
  },
  {
   "cell_type": "code",
   "execution_count": 34,
   "metadata": {},
   "outputs": [
    {
     "name": "stdout",
     "output_type": "stream",
     "text": [
      "              precision    recall  f1-score   support\n",
      "\n",
      "           m       0.96      0.54      0.69        95\n",
      "           t       0.87      0.63      0.73       149\n",
      "\n",
      "   micro avg       0.90      0.59      0.72       244\n",
      "   macro avg       0.92      0.58      0.71       244\n",
      "weighted avg       0.91      0.59      0.72       244\n",
      "\n"
     ]
    }
   ],
   "source": [
    "print(classification_report(y_test, y_pred_test, labels=[\"m\", \"t\"]))"
   ]
  },
  {
   "cell_type": "markdown",
   "metadata": {},
   "source": [
    "## [57. 特徴量の重みの確認](https://nlp100.github.io/ja/ch06.html#57-%E7%89%B9%E5%BE%B4%E9%87%8F%E3%81%AE%E9%87%8D%E3%81%BF%E3%81%AE%E7%A2%BA%E8%AA%8D)\n",
    "52で学習したロジスティック回帰モデルの中で，重みの高い特徴量トップ10と，重みの低い特徴量トップ10を確認せよ．"
   ]
  },
  {
   "cell_type": "code",
   "execution_count": 35,
   "metadata": {},
   "outputs": [
    {
     "data": {
      "text/plain": [
       "(10785,)"
      ]
     },
     "execution_count": 35,
     "metadata": {},
     "output_type": "execute_result"
    }
   ],
   "source": [
    "indices = np.argsort(model_52.coef_[0])\n",
    "indices.shape"
   ]
  },
  {
   "cell_type": "code",
   "execution_count": 36,
   "metadata": {},
   "outputs": [
    {
     "name": "stdout",
     "output_type": "stream",
     "text": [
      "[Best 10 Features]\n",
      "No.1\t: bank\t(coef=3.705186)\n",
      "No.2\t: fed\t(coef=3.402060)\n",
      "No.3\t: china\t(coef=3.387817)\n",
      "No.4\t: ecb\t(coef=3.051126)\n",
      "No.5\t: euro\t(coef=2.730670)\n",
      "No.6\t: stock\t(coef=2.607249)\n",
      "No.7\t: profit\t(coef=2.591152)\n",
      "No.8\t: dollar\t(coef=2.564355)\n",
      "No.9\t: ukrain\t(coef=2.509525)\n",
      "No.10\t: updat\t(coef=2.470160)\n"
     ]
    }
   ],
   "source": [
    "print(\"[Best 10 Features]\")\n",
    "for i in range(-1, -11, -1):\n",
    "    best_idx = indices[i]\n",
    "    best_feature = [k for k, v in tf_idf.vocabulary_.items() if v == best_idx]\n",
    "\n",
    "    args = (-i, best_feature[0], model_52.coef_[0][best_idx])\n",
    "    print(\"No.%s\\t: %s\\t(coef=%f)\" % args)"
   ]
  },
  {
   "cell_type": "code",
   "execution_count": 37,
   "metadata": {},
   "outputs": [
    {
     "name": "stdout",
     "output_type": "stream",
     "text": [
      "[Worst 10 Features]\n",
      "No.1\t: the\t(coef=-2.217059)\n",
      "No.2\t: and\t(coef=-2.000252)\n",
      "No.3\t: of\t(coef=-1.937303)\n",
      "No.4\t: ebola\t(coef=-1.752573)\n",
      "No.5\t: googl\t(coef=-1.739170)\n",
      "No.6\t: kardashian\t(coef=-1.703979)\n",
      "No.7\t: star\t(coef=-1.641904)\n",
      "No.8\t: in\t(coef=-1.609478)\n",
      "No.9\t: facebook\t(coef=-1.578345)\n",
      "No.10\t: aereo\t(coef=-1.572312)\n"
     ]
    }
   ],
   "source": [
    "print(\"[Worst 10 Features]\")\n",
    "for i in range(10):\n",
    "    worst_idx = indices[i]\n",
    "    worst_feature = [k for k, v in tf_idf.vocabulary_.items() if v == worst_idx]\n",
    "\n",
    "    args = (i+1, worst_feature[0], model_52.coef_[0][worst_idx])\n",
    "    print(\"No.%s\\t: %s\\t(coef=%f)\" % args)"
   ]
  },
  {
   "cell_type": "markdown",
   "metadata": {},
   "source": [
    "## [58. 正則化パラメータの変更](https://nlp100.github.io/ja/ch06.html#58-%E6%AD%A3%E5%89%87%E5%8C%96%E3%83%91%E3%83%A9%E3%83%A1%E3%83%BC%E3%82%BF%E3%81%AE%E5%A4%89%E6%9B%B4)\n",
    "ロジスティック回帰モデルを学習するとき，正則化パラメータを調整することで，学習時の過学習（overfitting）の度合いを制御できる．異なる正則化パラメータでロジスティック回帰モデルを学習し，学習データ，検証データ，および評価データ上の正解率を求めよ．実験の結果は，正則化パラメータを横軸，正解率を縦軸としたグラフにまとめよ．"
   ]
  },
  {
   "cell_type": "code",
   "execution_count": 39,
   "metadata": {},
   "outputs": [],
   "source": [
    "X_valid, y_valid = None, None\n",
    "\n",
    "with open(\"Output/Chapter06/valid.feature.txt\") as f:\n",
    "    features, labels = [], []\n",
    "\n",
    "    for line in f:\n",
    "        elements = line.split(\"\\t\")\n",
    "        label = elements[0]\n",
    "        title = elements[1].replace(\"\\n\", \"\")\n",
    "        features.append(title)\n",
    "        labels.append(label)\n",
    "\n",
    "    X_valid = tf_idf.transform(features)\n",
    "    y_valid = np.array(labels)"
   ]
  },
  {
   "cell_type": "code",
   "execution_count": 58,
   "metadata": {},
   "outputs": [
    {
     "name": "stdout",
     "output_type": "stream",
     "text": [
      "[LogisticRegression]\n",
      "regularization:0.001000, train:99.962561%, valid:91.766467%, test:91.092814%\n",
      "regularization:0.010000, train:99.962561%, valid:91.841317%, test:91.392216%\n",
      "regularization:0.100000, train:99.803444%, valid:91.541916%, test:91.616766%\n",
      "regularization:1.000000, train:94.440285%, valid:88.922156%, test:89.296407%\n",
      "regularization:10.000000, train:79.361662%, valid:78.368263%, test:78.293413%\n",
      "regularization:100.000000, train:77.115313%, valid:75.898204%, test:77.245509%\n",
      "regularization:1000.000000, train:43.813179%, valid:45.134731%, test:42.589820%\n",
      "CPU times: user 22 s, sys: 24.7 s, total: 46.7 s\n",
      "Wall time: 11.7 s\n"
     ]
    }
   ],
   "source": [
    "%%time\n",
    "regularizations = [10.0**exponent for exponent in range(-3, 4)]\n",
    "accuracies_train, accuracies_valid, accuracies_test = [], [], []\n",
    "\n",
    "print(\"[LogisticRegression]\")\n",
    "for regularization in regularizations:\n",
    "    model = LogisticRegression(C=1.0/regularization, max_iter=1000, random_state=58)\n",
    "    model.fit(X_train, y_train)\n",
    "\n",
    "    accuracy_train = model.score(X_train, y_train) * 100.0\n",
    "    accuracies_train.append(accuracy_train)\n",
    "    accuracy_valid = model.score(X_valid, y_valid) * 100.0\n",
    "    accuracies_valid.append(accuracy_valid)\n",
    "    accuracy_test = model.score(X_test, y_test) * 100.0\n",
    "    accuracies_test.append(accuracy_test)\n",
    "\n",
    "    args = (regularization, accuracy_train, accuracy_valid, accuracy_test)\n",
    "    print(\"regularization:%f, train:%f%%, valid:%f%%, test:%f%%\" % args)"
   ]
  },
  {
   "cell_type": "code",
   "execution_count": 59,
   "metadata": {},
   "outputs": [
    {
     "data": {
      "text/plain": [
       "<seaborn.axisgrid.FacetGrid at 0x7f370298be10>"
      ]
     },
     "execution_count": 59,
     "metadata": {},
     "output_type": "execute_result"
    },
    {
     "data": {
      "image/png": "[encoded data removed]",
      "text/plain": [
       "<Figure size 454.6x360 with 1 Axes>"
      ]
     },
     "metadata": {},
     "output_type": "display_data"
    }
   ],
   "source": [
    "df_58 = pd.DataFrame({\n",
    "        \"$log_{10}$(正則化パラメータ)\": np.log10(np.tile(regularizations, 3)),\n",
    "        \"正解率[%]\": np.concatenate((accuracies_train, accuracies_valid, accuracies_test)),\n",
    "        \"種別\": np.concatenate((np.tile(\"学習データ\", 7), np.tile(\"検証データ\", 7), np.tile(\"評価データ\", 7))),\n",
    "})\n",
    "sns.relplot(x=\"$log_{10}$(正則化パラメータ)\", y=\"正解率[%]\", hue=\"種別\", data=df_58, kind=\"line\")"
   ]
  },
  {
   "cell_type": "markdown",
   "metadata": {},
   "source": [
    "## [59. ハイパーパラメータの探索](https://nlp100.github.io/ja/ch06.html#59-%E3%83%8F%E3%82%A4%E3%83%91%E3%83%BC%E3%83%91%E3%83%A9%E3%83%A1%E3%83%BC%E3%82%BF%E3%81%AE%E6%8E%A2%E7%B4%A2)\n",
    "学習アルゴリズムや学習パラメータを変えながら，カテゴリ分類モデルを学習せよ．検証データ上の正解率が最も高くなる学習アルゴリズム・パラメータを求めよ．また，その学習アルゴリズム・パラメータを用いたときの評価データ上の正解率を求めよ．"
   ]
  },
  {
   "cell_type": "code",
   "execution_count": 68,
   "metadata": {},
   "outputs": [],
   "source": [
    "from itertools import product\n",
    "from sklearn.multiclass import OneVsRestClassifier\n",
    "from sklearn.preprocessing import MaxAbsScaler\n",
    "from sklearn.svm import LinearSVC"
   ]
  },
  {
   "cell_type": "code",
   "execution_count": 72,
   "metadata": {},
   "outputs": [
    {
     "name": "stdout",
     "output_type": "stream",
     "text": [
      "[LinearSVC]\n",
      "C:0.01, gamma:0.01, valid:77.020958%\n",
      "C:0.01, gamma:0.10, valid:76.197605%\n",
      "C:0.01, gamma:1.00, valid:64.221557%\n",
      "C:0.01, gamma:10.00, valid:44.311377%\n",
      "C:0.01, gamma:100.00, valid:44.311377%\n",
      "C:0.10, gamma:0.01, valid:77.020958%\n",
      "C:0.10, gamma:0.10, valid:78.068862%\n",
      "C:0.10, gamma:1.00, valid:64.221557%\n",
      "C:0.10, gamma:10.00, valid:44.311377%\n",
      "C:0.10, gamma:100.00, valid:44.311377%\n",
      "C:1.00, gamma:0.01, valid:81.362275%\n",
      "C:1.00, gamma:0.10, valid:90.344311%\n",
      "C:1.00, gamma:1.00, valid:63.398204%\n",
      "C:1.00, gamma:10.00, valid:44.386228%\n",
      "C:1.00, gamma:100.00, valid:44.311377%\n",
      "C:10.00, gamma:0.01, valid:91.766467%\n",
      "C:10.00, gamma:0.10, valid:92.739521%\n",
      "C:10.00, gamma:1.00, valid:65.793413%\n",
      "C:10.00, gamma:10.00, valid:44.461078%\n",
      "C:10.00, gamma:100.00, valid:44.311377%\n",
      "C:100.00, gamma:0.01, valid:92.140719%\n",
      "C:100.00, gamma:0.10, valid:92.739521%\n",
      "C:100.00, gamma:1.00, valid:65.793413%\n",
      "C:100.00, gamma:10.00, valid:44.461078%\n",
      "C:100.00, gamma:100.00, valid:44.311377%\n",
      "CPU times: user 34min 51s, sys: 634 ms, total: 34min 51s\n",
      "Wall time: 34min 51s\n"
     ]
    },
    {
     "data": {
      "text/plain": [
       "{'accuracy': 92.73952095808383,\n",
       " 'C': 10.0,\n",
       " 'gamma': 0.1,\n",
       " 'classifier': OneVsRestClassifier(estimator=SVC(C=10.0, break_ties=False, cache_size=200,\n",
       "                                   class_weight=None, coef0=0.0,\n",
       "                                   decision_function_shape='ovr', degree=3,\n",
       "                                   gamma=0.1, kernel='rbf', max_iter=-1,\n",
       "                                   probability=False, random_state=59,\n",
       "                                   shrinking=True, tol=0.001, verbose=False),\n",
       "                     n_jobs=None)}"
      ]
     },
     "execution_count": 72,
     "metadata": {},
     "output_type": "execute_result"
    }
   ],
   "source": [
    "%%time\n",
    "Cs = [10.0**exponent for exponent in range(-2, 3)]\n",
    "gammas = [10.0**exponent for exponent in range(-2, 3)]\n",
    "best_param = {\"accuracy\": 0.0, \"C\": -1.0, \"gamma\": -1.0, \"classifier\": None}\n",
    "\n",
    "# 0-1の間にスケール\n",
    "scaler = MaxAbsScaler().fit(X_train)\n",
    "\n",
    "# 多クラスSVM(one-vs-rest)\n",
    "print(\"[LinearSVC]\")\n",
    "for C, gamma in product(Cs, gammas):\n",
    "    model = SVC(C=C, kernel='rbf', gamma=gamma, random_state=59)\n",
    "    classifier = OneVsRestClassifier(model)\n",
    "    classifier.fit(scaler.transform(X_train), y_train)\n",
    "    accuracy = classifier.score(scaler.transform(X_valid), y_valid) * 100.0\n",
    "\n",
    "    args = (C, gamma, accuracy)\n",
    "    print(\"C:%0.2f, gamma:%0.2f, valid:%f%%\" % args)\n",
    "    \n",
    "    if best_param[\"accuracy\"] < accuracy:\n",
    "        best_param[\"accuracy\"] = accuracy\n",
    "        best_param[\"C\"] = C\n",
    "        best_param[\"gamma\"] = gamma\n",
    "        best_param[\"classifier\"] = classifier\n",
    "\n",
    "best_param"
   ]
  },
  {
   "cell_type": "code",
   "execution_count": 74,
   "metadata": {},
   "outputs": [
    {
     "name": "stdout",
     "output_type": "stream",
     "text": [
      "CPU times: user 20.4 s, sys: 16.3 ms, total: 20.4 s\n",
      "Wall time: 20.4 s\n"
     ]
    },
    {
     "data": {
      "text/plain": [
       "'[Best Accuracy] train:99.953201%, valid:92.739521%, test:92.440120%'"
      ]
     },
     "execution_count": 74,
     "metadata": {},
     "output_type": "execute_result"
    }
   ],
   "source": [
    "%%time\n",
    "args = (\n",
    "    best_param[\"classifier\"].score(scaler.transform(X_train), y_train) * 100.0,\n",
    "    best_param[\"classifier\"].score(scaler.transform(X_valid), y_valid) * 100.0,\n",
    "    best_param[\"classifier\"].score(scaler.transform(X_test), y_test) * 100.0,\n",
    ")\n",
    "\"[Best Accuracy] train:%f%%, valid:%f%%, test:%f%%\" % args"
   ]
  }
 ],
 "metadata": {
  "kernelspec": {
   "display_name": "Python 3",
   "language": "python",
   "name": "python3"
  },
  "language_info": {
   "codemirror_mode": {
    "name": "ipython",
    "version": 3
   },
   "file_extension": ".py",
   "mimetype": "text/x-python",
   "name": "python",
   "nbconvert_exporter": "python",
   "pygments_lexer": "ipython3",
   "version": "3.6.9"
  }
 },
 "nbformat": 4,
 "nbformat_minor": 2
}
