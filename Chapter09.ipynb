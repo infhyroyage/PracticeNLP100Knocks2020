{
 "cells": [
  {
   "cell_type": "markdown",
   "metadata": {},
   "source": [
    "# 第9章: RNN, CNN"
   ]
  },
  {
   "cell_type": "markdown",
   "metadata": {},
   "source": [
    "## 80. ID番号への変換\n",
    "問題51で構築した学習データ中の単語にユニークなID番号を付与したい．学習データ中で最も頻出する単語に`1`，2番目に頻出する単語に`2`，……といった方法で，学習データ中で2回以上出現する単語にID番号を付与せよ．そして，与えられた単語列に対して，ID番号の列を返す関数を実装せよ．ただし，出現頻度が2回未満の単語のID番号はすべて`0`とせよ．"
   ]
  },
  {
   "cell_type": "code",
   "execution_count": 1,
   "metadata": {},
   "outputs": [
    {
     "name": "stdout",
     "output_type": "stream",
     "text": [
      "Output/Chapter06/test.feature.txt   Output/Chapter06/valid.feature.txt\r\n",
      "Output/Chapter06/train.feature.txt\r\n"
     ]
    }
   ],
   "source": [
    "!ls Output/Chapter06/*.feature.txt"
   ]
  },
  {
   "cell_type": "code",
   "execution_count": 2,
   "metadata": {},
   "outputs": [],
   "source": [
    "from operator import itemgetter"
   ]
  },
  {
   "cell_type": "code",
   "execution_count": 3,
   "metadata": {},
   "outputs": [],
   "source": [
    "def create_word2count():\n",
    "    word2count = {}\n",
    "    once_words = set()\n",
    "\n",
    "    def _create_word2count_file(f):\n",
    "        for line in f:\n",
    "            words = line.replace(\"\\n\", \"\").split(\"\\t\")[1].split()\n",
    "            for word in words:\n",
    "                if word in word2count:\n",
    "                    word2count[word] += 1\n",
    "                elif word in once_words:\n",
    "                    word2count[word] = 2\n",
    "                    once_words.remove(word)\n",
    "                else:\n",
    "                    once_words.add(word)\n",
    "\n",
    "    with open(\"Output/Chapter06/train.feature.txt\") as f:\n",
    "        _create_word2count_file(f)\n",
    "\n",
    "    with open(\"Output/Chapter06/valid.feature.txt\") as f:\n",
    "        _create_word2count_file(f)\n",
    "\n",
    "    with open(\"Output/Chapter06/test.feature.txt\") as f:\n",
    "        _create_word2count_file(f)\n",
    "\n",
    "    word2count_sorted = sorted(word2count.items(), reverse=True, key=itemgetter(1,0))\n",
    "    return {k: v for k, v in word2count_sorted}"
   ]
  },
  {
   "cell_type": "code",
   "execution_count": 4,
   "metadata": {},
   "outputs": [],
   "source": [
    "word2count = create_word2count()"
   ]
  },
  {
   "cell_type": "code",
   "execution_count": 5,
   "metadata": {},
   "outputs": [],
   "source": [
    "def sentence2ids(sentence: str):\n",
    "    return [list(word2count.keys()).index(word) + 1 if word in word2count else 0\n",
    "            for word in sentence.split()]"
   ]
  },
  {
   "cell_type": "code",
   "execution_count": 6,
   "metadata": {},
   "outputs": [
    {
     "data": {
      "text/plain": [
       "[3, 0, 999, 2390, 5, 6330, 1098, 163]"
      ]
     },
     "execution_count": 6,
     "metadata": {},
     "output_type": "execute_result"
    }
   ],
   "source": [
    "# Test\n",
    "sentence2ids(\"updat 2-at&t threaten sit US spectrum auction rule\")"
   ]
  },
  {
   "cell_type": "markdown",
   "metadata": {},
   "source": [
    "## 81. RNNによる予測\n",
    "ID番号で表現された単語列$\\boldsymbol{x} = (x_1, x_2, \\dots, x_T)$がある．ただし，$T$は単語列の長さ，$x_t \\in \\mathbb{R}^{V}$は単語のID番号のone-hot表記である（$V$は単語の総数である）．再帰型ニューラルネットワーク（RNN: Recurrent Neural Network）を用い，単語列$\\boldsymbol{x}$からカテゴリ$y$を予測するモデルとして，次式を実装せよ．\n",
    "$$\n",
    "\\overrightarrow{h}_0 = 0, \\overrightarrow{h}_t = \\overrightarrow{\\mathrm{RNN}}(\\mathrm{emb}(x_t), \\overrightarrow{h}_{t-1}), y = \\mathrm{softmax}(W^{(yh)} \\overrightarrow{h}_T + b^{(y)})\n",
    "$$\n",
    "ただし，$\\mathrm{emb}(x) \\in \\mathbb{R}^{d_w}$は単語埋め込み（単語のone-hot表記から単語ベクトルに変換する関数），$\\overrightarrow{h}_t \\in \\mathbb{R}^{d_h}$は時刻$t$の隠れ状態ベクトル，$\\overrightarrow{\\mathrm{RNN}}(x,h)$は入力$x$と前時刻の隠れ状態$h$から次状態を計算するRNNユニット，$W^{(yh)} \\in \\mathbb{R}^{L \\times d_h}$は隠れ状態ベクトルからカテゴリを予測するための行列，$b^{(y)} \\in \\mathbb{R}^{L}$はバイアス項である（$d_w, d_h, L$はそれぞれ，単語埋め込みの次元数，隠れ状態ベクトルの次元数，ラベル数である）．RNNユニット$\\overrightarrow{\\mathrm{RNN}}(x,h)$には様々な構成が考えられるが，典型例として次式が挙げられる．\n",
    "$$\n",
    "\\overrightarrow{\\mathrm{RNN}}(x,h) = g(W^{(hx)} x + W^{(hh)}h + b^{(h)})\n",
    "$$\n",
    "ただし，$W^{(hx)} \\in \\mathbb{R}^{d_h \\times d_w}，W^{(hh)} \\in \\mathbb{R}^{d_h \\times d_h}, b^{(h)} \\in \\mathbb{R}^{d_h}$はRNNユニットのパラメータ，$g$は活性化関数（例えば$\\tanh$やReLUなど）である．\n",
    "\n",
    "なお，この問題ではパラメータの学習を行わず，ランダムに初期化されたパラメータで$y$を計算するだけでよい．次元数などのハイパーパラメータは，$d_w = 300, d_h=50$など，適当な値に設定せよ（以降の問題でも同様である）．"
   ]
  },
  {
   "cell_type": "code",
   "execution_count": 7,
   "metadata": {},
   "outputs": [],
   "source": [
    "import numpy as np\n",
    "import random\n",
    "import torch"
   ]
  },
  {
   "cell_type": "code",
   "execution_count": 8,
   "metadata": {},
   "outputs": [
    {
     "data": {
      "text/plain": [
       "<torch._C.Generator at 0x7f2dd637db30>"
      ]
     },
     "execution_count": 8,
     "metadata": {},
     "output_type": "execute_result"
    }
   ],
   "source": [
    "random.seed(81)\n",
    "np.random.seed(81)\n",
    "torch.manual_seed(81)"
   ]
  },
  {
   "cell_type": "code",
   "execution_count": 9,
   "metadata": {},
   "outputs": [
    {
     "data": {
      "text/plain": [
       "8698"
      ]
     },
     "execution_count": 9,
     "metadata": {},
     "output_type": "execute_result"
    }
   ],
   "source": [
    "labels = [\"b\", \"t\", \"e\", \"m\"]\n",
    "V = len(word2count) + 1 # +1は出現回数1回のID番号0の分を追加している\n",
    "d_w = 300\n",
    "d_h = 50\n",
    "V"
   ]
  },
  {
   "cell_type": "code",
   "execution_count": 10,
   "metadata": {},
   "outputs": [],
   "source": [
    "class NewsAggregatorDataset(torch.utils.data.Dataset):\n",
    "    def __init__(self, type_str: str):\n",
    "        if type_str not in [\"train\", \"valid\", \"test\"]:\n",
    "            raise ValueError(\"Invalid type_str:%s\" % type_str)\n",
    "\n",
    "        in_path = \"Output/Chapter06/%s.feature.txt\" % type_str\n",
    "        self.x_data, self.y_data = [], []\n",
    "\n",
    "        with open(in_path) as f:\n",
    "            for line in f:\n",
    "                elements = line.replace(\"\\n\", \"\").split(\"\\t\")\n",
    "                self.x_data.append(torch.tensor(sentence2ids(elements[1]),\n",
    "                                                dtype=torch.int64))\n",
    "                self.y_data.append(torch.tensor(labels.index(elements[0]),\n",
    "                                                dtype=torch.int64))\n",
    "\n",
    "    def __len__(self):\n",
    "        return len(self.y_data)\n",
    "\n",
    "    def __getitem__(self, idx):\n",
    "        return self.x_data[idx], self.y_data[idx]\n",
    "\n",
    "    def to(device: torch.device):\n",
    "        self.x_data = [x.to(device) for x in self.x_data]\n",
    "        self.y_data = [y.to(device) for y in self.y_data]"
   ]
  },
  {
   "cell_type": "code",
   "execution_count": 11,
   "metadata": {},
   "outputs": [
    {
     "name": "stdout",
     "output_type": "stream",
     "text": [
      "CPU times: user 10.4 s, sys: 149 ms, total: 10.5 s\n",
      "Wall time: 10.2 s\n"
     ]
    }
   ],
   "source": [
    "%%time\n",
    "dataset_train = NewsAggregatorDataset(\"train\")\n",
    "dataset_valid = NewsAggregatorDataset(\"valid\")\n",
    "dataset_test = NewsAggregatorDataset(\"test\")"
   ]
  },
  {
   "cell_type": "code",
   "execution_count": 12,
   "metadata": {},
   "outputs": [],
   "source": [
    "class Network81(torch.nn.Module):\n",
    "    def __init__(self):\n",
    "        super(Network81, self).__init__()\n",
    "\n",
    "        # (batch,T,V) -> (batch,T,d_w)\n",
    "        self.emb = torch.nn.Embedding(num_embeddings=V,\n",
    "                                      embedding_dim=d_w)\n",
    "        # (batch,T,d_w), (batch,1,d_h) -> (batch,T,d_h), (batch,1,d_h)\n",
    "        self.rnn = torch.nn.RNN(input_size=d_w,\n",
    "                                hidden_size=d_h,\n",
    "                                batch_first=True)\n",
    "        # (batch,d_h) -> (batch,4)\n",
    "        self.affine = torch.nn.Linear(in_features=d_h,\n",
    "                                      out_features=4)\n",
    "        self.log_softmax = torch.nn.LogSoftmax(dim=-1)\n",
    "\n",
    "    def forward(self, x, h0):\n",
    "        # (batch,T) -> (batch,T,d_w)\n",
    "        x = self.emb(x)\n",
    "        # (batch,T,d_w), (batch,1,d_h) -> (batch,T,d_h), (batch,1,d_h)\n",
    "        _, hn = self.rnn(x, h0)\n",
    "        # (batch,1,d_h) -> (batch,d_h)\n",
    "        hn = torch.squeeze(hn, 1)\n",
    "        # (batch,d_h) -> (batch,4)\n",
    "        x = self.affine(hn)\n",
    "        return self.log_softmax(x)"
   ]
  },
  {
   "cell_type": "code",
   "execution_count": 13,
   "metadata": {},
   "outputs": [],
   "source": [
    "network = Network81()"
   ]
  },
  {
   "cell_type": "code",
   "execution_count": 14,
   "metadata": {
    "scrolled": true
   },
   "outputs": [
    {
     "name": "stdout",
     "output_type": "stream",
     "text": [
      "tensor([[0.3053, 0.2050, 0.3143, 0.1754]], grad_fn=<ExpBackward>)\n"
     ]
    }
   ],
   "source": [
    "for x_in, _ in torch.utils.data.DataLoader(dataset_test, batch_size=1):\n",
    "    h0 = torch.zeros(1, 1, d_h)\n",
    "    y = network(x_in, h0)\n",
    "    y = torch.exp(y)\n",
    "    print(y)\n",
    "    break"
   ]
  },
  {
   "cell_type": "markdown",
   "metadata": {},
   "source": [
    "## 82. 確率的勾配降下法による学習\n",
    "確率的勾配降下法（SGD: Stochastic Gradient Descent）を用いて，問題81で構築したモデルを学習せよ．訓練データ上の損失と正解率，評価データ上の損失と正解率を表示しながらモデルを学習し，適当な基準（例えば10エポックなど）で終了させよ．"
   ]
  },
  {
   "cell_type": "code",
   "execution_count": 15,
   "metadata": {},
   "outputs": [],
   "source": [
    "import matplotlib.pyplot as plt\n",
    "import pandas as pd\n",
    "import seaborn as sns"
   ]
  },
  {
   "cell_type": "code",
   "execution_count": 16,
   "metadata": {},
   "outputs": [
    {
     "data": {
      "text/plain": [
       "<torch._C.Generator at 0x7f2dd637db30>"
      ]
     },
     "execution_count": 16,
     "metadata": {},
     "output_type": "execute_result"
    }
   ],
   "source": [
    "random.seed(82)\n",
    "np.random.seed(82)\n",
    "torch.manual_seed(82)"
   ]
  },
  {
   "cell_type": "code",
   "execution_count": 17,
   "metadata": {},
   "outputs": [],
   "source": [
    "%matplotlib inline"
   ]
  },
  {
   "cell_type": "code",
   "execution_count": 18,
   "metadata": {},
   "outputs": [],
   "source": [
    "sns.set(style=\"darkgrid\", context=\"notebook\", palette=\"muted\")"
   ]
  },
  {
   "cell_type": "code",
   "execution_count": 19,
   "metadata": {},
   "outputs": [],
   "source": [
    "loader_train = torch.utils.data.DataLoader(dataset_train,\n",
    "                                           batch_size=1,\n",
    "                                           shuffle=True)\n",
    "loader_valid = torch.utils.data.DataLoader(dataset_valid,\n",
    "                                           batch_size=1,\n",
    "                                           shuffle=True)\n",
    "network, epoch, lr = Network81(), 10, 0.05"
   ]
  },
  {
   "cell_type": "code",
   "execution_count": 20,
   "metadata": {},
   "outputs": [
    {
     "name": "stdout",
     "output_type": "stream",
     "text": [
      "Epoch:1/10,Loss:1677.313,Training Accuracy:53.00%,Validation Accuracy:62.50%\n",
      "Epoch:2/10,Loss:1832.675,Training Accuracy:57.66%,Validation Accuracy:59.51%\n",
      "Epoch:3/10,Loss:2100.950,Training Accuracy:60.35%,Validation Accuracy:42.22%\n",
      "Epoch:4/10,Loss:1578.757,Training Accuracy:61.42%,Validation Accuracy:63.55%\n",
      "Epoch:5/10,Loss:1690.090,Training Accuracy:61.39%,Validation Accuracy:60.55%\n",
      "Epoch:6/10,Loss:1792.233,Training Accuracy:62.51%,Validation Accuracy:59.06%\n",
      "Epoch:7/10,Loss:1791.270,Training Accuracy:60.12%,Validation Accuracy:63.17%\n",
      "Epoch:8/10,Loss:1939.560,Training Accuracy:59.01%,Validation Accuracy:58.83%\n",
      "Epoch:9/10,Loss:1784.198,Training Accuracy:59.59%,Validation Accuracy:53.07%\n",
      "Epoch:10/10,Loss:1907.828,Training Accuracy:59.37%,Validation Accuracy:51.80%\n",
      "CPU times: user 8min 39s, sys: 4.34 s, total: 8min 43s\n",
      "Wall time: 8min 40s\n"
     ]
    }
   ],
   "source": [
    "%%time\n",
    "result = {\"Epoch\" : [],\n",
    "          \"Type\" : [],\n",
    "          \"Loss\" : [],\n",
    "          \"Accuracy\" : []}\n",
    "\n",
    "for e in range(1, epoch+1):\n",
    "    criterion = torch.nn.NLLLoss()\n",
    "    optimizer = torch.optim.SGD(network.parameters(), lr=lr)\n",
    "    loss_sum, correct_sum = 0.0, 0\n",
    "\n",
    "    for x_in, y in loader_train:\n",
    "        network.zero_grad()\n",
    "        h0 = torch.zeros(1, 1, d_h)\n",
    "        x_out = network(x_in, h0)\n",
    "        loss = criterion(x_out, y)\n",
    "        loss.backward()\n",
    "        optimizer.step()\n",
    "\n",
    "        loss_sum += loss.item() * x_in.shape[0]\n",
    "        x_pred = torch.argmax(x_out, dim=1)\n",
    "        correct_sum += int(torch.sum(x_pred==y))\n",
    "\n",
    "    accuracy_train = 100.0 * correct_sum / len(dataset_train)\n",
    "    result[\"Epoch\"].append(e)\n",
    "    result[\"Type\"].append(\"Training\")\n",
    "    result[\"Loss\"].append(loss_sum)\n",
    "    result[\"Accuracy\"].append(accuracy_train)\n",
    "\n",
    "    loss_sum, correct_sum = 0.0, 0\n",
    "\n",
    "    for x_in, y in loader_valid:\n",
    "        network.zero_grad()\n",
    "        h0 = torch.zeros(1, 1, d_h)\n",
    "        x_out = network(x_in, h0)\n",
    "        loss = criterion(x_out, y)\n",
    "\n",
    "        loss_sum += loss.item() * x_in.shape[0]\n",
    "        x_pred = torch.argmax(x_out, dim=1)\n",
    "        correct_sum += int(torch.sum(x_pred==y))\n",
    "\n",
    "    accuracy_valid = 100.0 * correct_sum / len(dataset_valid)\n",
    "    result[\"Epoch\"].append(e)\n",
    "    result[\"Type\"].append(\"Validation\")\n",
    "    result[\"Loss\"].append(loss_sum)\n",
    "    result[\"Accuracy\"].append(accuracy_valid)\n",
    "\n",
    "    args = (e, epoch, loss_sum, accuracy_train, accuracy_valid)\n",
    "    print_str = \"Epoch:%d/%d,Loss:%.3f,Training Accuracy:%.2f%%,Validation Accuracy:%.2f%%\"\n",
    "    print(print_str % args)"
   ]
  },
  {
   "cell_type": "code",
   "execution_count": 21,
   "metadata": {},
   "outputs": [
    {
     "data": {
      "text/plain": [
       "<seaborn.axisgrid.FacetGrid at 0x7f2d75bf2f10>"
      ]
     },
     "execution_count": 21,
     "metadata": {},
     "output_type": "execute_result"
    },
    {
     "data": {
      "image/png": "[encoded data removed]",
      "text/plain": [
       "<Figure size 454.225x360 with 1 Axes>"
      ]
     },
     "metadata": {},
     "output_type": "display_data"
    }
   ],
   "source": [
    "sns.relplot(x=\"Epoch\",\n",
    "            y=\"Loss\",\n",
    "            hue=\"Type\",\n",
    "            kind=\"line\",\n",
    "            data=pd.DataFrame(result))"
   ]
  },
  {
   "cell_type": "code",
   "execution_count": 22,
   "metadata": {},
   "outputs": [
    {
     "data": {
      "text/plain": [
       "<seaborn.axisgrid.FacetGrid at 0x7f2d75bf20d0>"
      ]
     },
     "execution_count": 22,
     "metadata": {},
     "output_type": "execute_result"
    },
    {
     "data": {
      "image/png": "[encoded data removed]",
      "text/plain": [
       "<Figure size 454.225x360 with 1 Axes>"
      ]
     },
     "metadata": {},
     "output_type": "display_data"
    }
   ],
   "source": [
    "sns.relplot(x=\"Epoch\",\n",
    "            y=\"Accuracy\",\n",
    "            hue=\"Type\",\n",
    "            kind=\"line\",\n",
    "            data=pd.DataFrame(result))"
   ]
  },
  {
   "cell_type": "markdown",
   "metadata": {},
   "source": [
    "## 83. ミニバッチ化・GPU上での学習\n",
    "問題82のコードを改変し，$B$事例ごとに損失・勾配を計算して学習を行えるようにせよ（$B$の値は適当に選べ）．また，GPU上で学習を実行せよ．"
   ]
  },
  {
   "cell_type": "markdown",
   "metadata": {},
   "source": [
    "## 84. 単語ベクトルの導入\n",
    "事前学習済みの単語ベクトル（例えば，Google Newsデータセット（約1,000億単語）での[学習済み単語ベクトル](https://drive.google.com/file/d/0B7XkCwpI5KDYNlNUTTlSS21pQmM/edit?usp=sharing)）で単語埋め込み$\\mathrm{emb}(x)$を初期化し，学習せよ．"
   ]
  },
  {
   "cell_type": "markdown",
   "metadata": {},
   "source": [
    "## 85. 双方向RNN・多層化\n",
    "順方向と逆方向のRNNの両方を用いて入力テキストをエンコードし，モデルを学習せよ．\n",
    "$$\n",
    "\\overleftarrow{h}_{T+1} = 0, \\\\\n",
    "\\overleftarrow{h}_t = \\overleftarrow{\\mathrm{RNN}}(\\mathrm{emb}(x_t), \\overleftarrow{h}_{t+1}), \\\\\n",
    "y = \\mathrm{softmax}(W^{(yh)} [\\overrightarrow{h}_T; \\overleftarrow{h}_1] + b^{(y)})\n",
    "$$\n",
    "ただし，$\\overrightarrow{h}_t \\in \\mathbb{R}^{d_h}, \\overleftarrow{h}_t \\in \\mathbb{R}^{d_h}$はそれぞれ，順方向および逆方向のRNNで求めた時刻$t$の隠れ状態ベクトル，$\\overleftarrow{\\mathrm{RNN}}(x,h)$は入力$x$と次時刻の隠れ状態$h$から前状態を計算するRNNユニット，$W^{(yh)} \\in \\mathbb{R}^{L \\times 2d_h}$は隠れ状態ベクトルからカテゴリを予測するための行列，$b^{(y)} \\in \\mathbb{R}^{L}$はバイアス項である．また，$[a; b]$はベクトル$a$と$b$の連結を表す。\n",
    "\n",
    "さらに，双方向RNNを多層化して実験せよ．"
   ]
  },
  {
   "cell_type": "markdown",
   "metadata": {},
   "source": [
    "## 86. 畳み込みニューラルネットワーク (CNN)\n",
    "ID番号で表現された単語列$\\boldsymbol{x} = (x_1, x_2, \\dots, x_T)$がある．ただし，$T$は単語列の長さ，$x_t \\in \\mathbb{R}^{V}$は単語のID番号のone-hot表記である（$V$は単語の総数である）．畳み込みニューラルネットワーク（CNN: Convolutional Neural Network）を用い，単語列$\\boldsymbol{x}$からカテゴリ$y$を予測するモデルを実装せよ．\n",
    "\n",
    "ただし，畳み込みニューラルネットワークの構成は以下の通りとする．\n",
    "+ 単語埋め込みの次元数: $d_w$\n",
    "+ 畳み込みのフィルターのサイズ: 3 トークン\n",
    "+ 畳み込みのストライド: 1 トークン\n",
    "+ 畳み込みのパディング: あり\n",
    "+ 畳み込み演算後の各時刻のベクトルの次元数: $d_h$\n",
    "+ 畳み込み演算後に最大値プーリング（max pooling）を適用し，入力文を$d_h$次元の隠れベクトルで表現\n",
    "\n",
    "すなわち，時刻$t$の特徴ベクトル$p_t \\in \\mathbb{R}^{d_h}$は次式で表される．\n",
    "$$\n",
    "p_t = g(W^{(px)} [\\mathrm{emb}(x_{t-1}); \\mathrm{emb}(x_t); \\mathrm{emb}(x_{t+1})] + b^{(p)})\n",
    "$$\n",
    "ただし，$W^{(px)} \\in \\mathbb{R}^{d_h \\times 3d_w}, b^{(p)} \\in \\mathbb{R}^{d_h}$はCNNのパラメータ，$g$は活性化関数（例えば$\\tanh$やReLUなど），$[a; b; c]$はベクトル$a, b, c$の連結である．なお，行列$W^{(px)}$の列数が$3d_w$になるのは，3個のトークンの単語埋め込みを連結したものに対して，線形変換を行うためである．\n",
    "\n",
    "最大値プーリングでは，特徴ベクトルの次元毎に全時刻における最大値を取り，入力文書の特徴ベクトル$c \\in \\mathbb{R}^{d_h}$を求める．$c[i]$でベクトル$c$の$i$番目の次元の値を表すことにすると，最大値プーリングは次式で表される．\n",
    "$$\n",
    "c[i] = \\max_{1 \\leq t \\leq T} p_t[i]\n",
    "$$\n",
    "最後に，入力文書の特徴ベクトル$c$に行列$W^{(yc)} \\in \\mathbb{R}^{L \\times d_h}$とバイアス項$b^{(y)} \\in \\mathbb{R}^{L}$による線形変換とソフトマックス関数を適用し，カテゴリ$y$を予測する．\n",
    "$$\n",
    "y = \\mathrm{softmax}(W^{(yc)} c + b^{(y)})\n",
    "$$\n",
    "なお，この問題ではモデルの学習を行わず，ランダムに初期化された重み行列で$y$を計算するだけでよい．"
   ]
  },
  {
   "cell_type": "markdown",
   "metadata": {},
   "source": [
    "## 87. 確率的勾配降下法によるCNNの学習\n",
    "確率的勾配降下法（SGD: Stochastic Gradient Descent）を用いて，問題86で構築したモデルを学習せよ．訓練データ上の損失と正解率，評価データ上の損失と正解率を表示しながらモデルを学習し，適当な基準（例えば10エポックなど）で終了させよ．"
   ]
  },
  {
   "cell_type": "markdown",
   "metadata": {},
   "source": [
    "## 88. パラメータチューニング\n",
    "問題85や問題87のコードを改変し，ニューラルネットワークの形状やハイパーパラメータを調整しながら，高性能なカテゴリ分類器を構築せよ．"
   ]
  },
  {
   "cell_type": "markdown",
   "metadata": {},
   "source": [
    "## 89. 事前学習済み言語モデルからの転移学習\n",
    "事前学習済み言語モデル（例えば[BERT](https://github.com/google-research/bert)など）を出発点として，ニュース記事見出しをカテゴリに分類するモデルを構築せよ．"
   ]
  }
 ],
 "metadata": {
  "kernelspec": {
   "display_name": "Python 3",
   "language": "python",
   "name": "python3"
  },
  "language_info": {
   "codemirror_mode": {
    "name": "ipython",
    "version": 3
   },
   "file_extension": ".py",
   "mimetype": "text/x-python",
   "name": "python",
   "nbconvert_exporter": "python",
   "pygments_lexer": "ipython3",
   "version": "3.8.2"
  }
 },
 "nbformat": 4,
 "nbformat_minor": 4
}
