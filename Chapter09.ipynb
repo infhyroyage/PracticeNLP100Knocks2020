{
 "cells": [
  {
   "cell_type": "markdown",
   "metadata": {},
   "source": [
    "# 第9章: RNN, CNN"
   ]
  },
  {
   "cell_type": "markdown",
   "metadata": {},
   "source": [
    "## 80. ID番号への変換\n",
    "問題51で構築した学習データ中の単語にユニークなID番号を付与したい．学習データ中で最も頻出する単語に`1`，2番目に頻出する単語に`2`，……といった方法で，学習データ中で2回以上出現する単語にID番号を付与せよ．そして，与えられた単語列に対して，ID番号の列を返す関数を実装せよ．ただし，出現頻度が2回未満の単語のID番号はすべて`0`とせよ．"
   ]
  },
  {
   "cell_type": "code",
   "execution_count": 1,
   "metadata": {},
   "outputs": [
    {
     "name": "stdout",
     "output_type": "stream",
     "text": [
      "Output/Chapter06/test.feature.txt   Output/Chapter06/valid.feature.txt\r\n",
      "Output/Chapter06/train.feature.txt\r\n"
     ]
    }
   ],
   "source": [
    "!ls Output/Chapter06/*.feature.txt"
   ]
  },
  {
   "cell_type": "code",
   "execution_count": 2,
   "metadata": {},
   "outputs": [],
   "source": [
    "from operator import itemgetter"
   ]
  },
  {
   "cell_type": "code",
   "execution_count": 3,
   "metadata": {},
   "outputs": [],
   "source": [
    "def create_word2count():\n",
    "    word2count = {}\n",
    "    once_words = set()\n",
    "\n",
    "    def _create_word2count_file(f):\n",
    "        for line in f:\n",
    "            words = line.replace(\"\\n\", \"\").split(\"\\t\")[1].split()\n",
    "            for word in words:\n",
    "                if word in word2count:\n",
    "                    word2count[word] += 1\n",
    "                elif word in once_words:\n",
    "                    word2count[word] = 2\n",
    "                    once_words.remove(word)\n",
    "                else:\n",
    "                    once_words.add(word)\n",
    "\n",
    "    with open(\"Output/Chapter06/train.feature.txt\") as f:\n",
    "        _create_word2count_file(f)\n",
    "\n",
    "    with open(\"Output/Chapter06/valid.feature.txt\") as f:\n",
    "        _create_word2count_file(f)\n",
    "\n",
    "    with open(\"Output/Chapter06/test.feature.txt\") as f:\n",
    "        _create_word2count_file(f)\n",
    "\n",
    "    word2count_sorted = sorted(word2count.items(), reverse=True, key=itemgetter(1,0))\n",
    "    return {k: v for k, v in word2count_sorted}"
   ]
  },
  {
   "cell_type": "code",
   "execution_count": 4,
   "metadata": {},
   "outputs": [],
   "source": [
    "word2count = create_word2count()"
   ]
  },
  {
   "cell_type": "code",
   "execution_count": 5,
   "metadata": {},
   "outputs": [],
   "source": [
    "def sentence2ids(sentence: str):\n",
    "    return [list(word2count.keys()).index(word) + 1 if word in word2count else 0\n",
    "            for word in sentence.split()]"
   ]
  },
  {
   "cell_type": "code",
   "execution_count": 6,
   "metadata": {},
   "outputs": [
    {
     "data": {
      "text/plain": [
       "[3, 0, 999, 2390, 5, 6330, 1098, 163]"
      ]
     },
     "execution_count": 6,
     "metadata": {},
     "output_type": "execute_result"
    }
   ],
   "source": [
    "# Test\n",
    "sentence2ids(\"updat 2-at&t threaten sit US spectrum auction rule\")"
   ]
  },
  {
   "cell_type": "markdown",
   "metadata": {},
   "source": [
    "## 81. RNNによる予測\n",
    "ID番号で表現された単語列$\\boldsymbol{x} = (x_1, x_2, \\dots, x_T)$がある．ただし，$T$は単語列の長さ，$x_t \\in \\mathbb{R}^{V}$は単語のID番号のone-hot表記である（$V$は単語の総数である）．再帰型ニューラルネットワーク（RNN: Recurrent Neural Network）を用い，単語列$\\boldsymbol{x}$からカテゴリ$y$を予測するモデルとして，次式を実装せよ．\n",
    "$$\n",
    "\\overrightarrow{h}_0 = 0, \\overrightarrow{h}_t = \\overrightarrow{\\mathrm{RNN}}(\\mathrm{emb}(x_t), \\overrightarrow{h}_{t-1}), y = \\mathrm{softmax}(W^{(yh)} \\overrightarrow{h}_T + b^{(y)})\n",
    "$$\n",
    "ただし，$\\mathrm{emb}(x) \\in \\mathbb{R}^{d_w}$は単語埋め込み（単語のone-hot表記から単語ベクトルに変換する関数），$\\overrightarrow{h}_t \\in \\mathbb{R}^{d_h}$は時刻$t$の隠れ状態ベクトル，$\\overrightarrow{\\mathrm{RNN}}(x,h)$は入力$x$と前時刻の隠れ状態$h$から次状態を計算するRNNユニット，$W^{(yh)} \\in \\mathbb{R}^{L \\times d_h}$は隠れ状態ベクトルからカテゴリを予測するための行列，$b^{(y)} \\in \\mathbb{R}^{L}$はバイアス項である（$d_w, d_h, L$はそれぞれ，単語埋め込みの次元数，隠れ状態ベクトルの次元数，ラベル数である）．RNNユニット$\\overrightarrow{\\mathrm{RNN}}(x,h)$には様々な構成が考えられるが，典型例として次式が挙げられる．\n",
    "$$\n",
    "\\overrightarrow{\\mathrm{RNN}}(x,h) = g(W^{(hx)} x + W^{(hh)}h + b^{(h)})\n",
    "$$\n",
    "ただし，$W^{(hx)} \\in \\mathbb{R}^{d_h \\times d_w}，W^{(hh)} \\in \\mathbb{R}^{d_h \\times d_h}, b^{(h)} \\in \\mathbb{R}^{d_h}$はRNNユニットのパラメータ，$g$は活性化関数（例えば$\\tanh$やReLUなど）である．\n",
    "\n",
    "なお，この問題ではパラメータの学習を行わず，ランダムに初期化されたパラメータで$y$を計算するだけでよい．次元数などのハイパーパラメータは，$d_w = 300, d_h=50$など，適当な値に設定せよ（以降の問題でも同様である）．"
   ]
  },
  {
   "cell_type": "code",
   "execution_count": 7,
   "metadata": {},
   "outputs": [],
   "source": [
    "import numpy as np\n",
    "import random\n",
    "import torch"
   ]
  },
  {
   "cell_type": "code",
   "execution_count": 8,
   "metadata": {},
   "outputs": [
    {
     "data": {
      "text/plain": [
       "<torch._C.Generator at 0x7f8a97d58b30>"
      ]
     },
     "execution_count": 8,
     "metadata": {},
     "output_type": "execute_result"
    }
   ],
   "source": [
    "random.seed(81)\n",
    "np.random.seed(81)\n",
    "torch.manual_seed(81)"
   ]
  },
  {
   "cell_type": "code",
   "execution_count": 9,
   "metadata": {},
   "outputs": [
    {
     "data": {
      "text/plain": [
       "8698"
      ]
     },
     "execution_count": 9,
     "metadata": {},
     "output_type": "execute_result"
    }
   ],
   "source": [
    "labels = [\"b\", \"t\", \"e\", \"m\"]\n",
    "V = len(word2count) + 1 # +1は出現回数1回のID番号0の分を追加している\n",
    "d_w = 300\n",
    "d_h = 50\n",
    "V"
   ]
  },
  {
   "cell_type": "code",
   "execution_count": 10,
   "metadata": {},
   "outputs": [],
   "source": [
    "class NewsAggregatorDataset81(torch.utils.data.Dataset):\n",
    "    def __init__(self, type_str: str):\n",
    "        if type_str not in [\"train\", \"valid\", \"test\"]:\n",
    "            raise ValueError(\"Invalid type_str:%s\" % type_str)\n",
    "\n",
    "        in_path = \"Output/Chapter06/%s.feature.txt\" % type_str\n",
    "        self.x_data, self.y_data = [], []\n",
    "\n",
    "        with open(in_path) as f:\n",
    "            for line in f:\n",
    "                elements = line.replace(\"\\n\", \"\").split(\"\\t\")\n",
    "                self.x_data.append(torch.tensor(sentence2ids(elements[1]),\n",
    "                                                dtype=torch.int64))\n",
    "                self.y_data.append(torch.tensor(labels.index(elements[0]),\n",
    "                                                dtype=torch.int64))\n",
    "\n",
    "    def __len__(self):\n",
    "        return len(self.y_data)\n",
    "\n",
    "    def __getitem__(self, idx):\n",
    "        return self.x_data[idx], self.y_data[idx]"
   ]
  },
  {
   "cell_type": "code",
   "execution_count": 11,
   "metadata": {},
   "outputs": [
    {
     "name": "stdout",
     "output_type": "stream",
     "text": [
      "CPU times: user 9.64 s, sys: 28.6 ms, total: 9.67 s\n",
      "Wall time: 9.65 s\n"
     ]
    }
   ],
   "source": [
    "%%time\n",
    "dataset81_train = NewsAggregatorDataset81(\"train\")\n",
    "dataset81_valid = NewsAggregatorDataset81(\"valid\")\n",
    "dataset81_test = NewsAggregatorDataset81(\"test\")"
   ]
  },
  {
   "cell_type": "code",
   "execution_count": 12,
   "metadata": {},
   "outputs": [],
   "source": [
    "class Network81(torch.nn.Module):\n",
    "    def __init__(self):\n",
    "        super(Network81, self).__init__()\n",
    "\n",
    "        # (batch,T,V) -> (batch,T,d_w)\n",
    "        self.emb = torch.nn.Embedding(num_embeddings=V,\n",
    "                                      embedding_dim=d_w)\n",
    "        # (batch,T,d_w), (batch,1,d_h) -> (batch,T,d_h), (batch,1,d_h)\n",
    "        self.rnn = torch.nn.RNN(input_size=d_w,\n",
    "                                hidden_size=d_h,\n",
    "                                batch_first=True)\n",
    "        # (batch,d_h) -> (batch,4)\n",
    "        self.affine = torch.nn.Linear(in_features=d_h,\n",
    "                                      out_features=4)\n",
    "        self.log_softmax = torch.nn.LogSoftmax(dim=-1)\n",
    "\n",
    "    def forward(self, x, h0):\n",
    "        # (batch,T) -> (batch,T,d_w)\n",
    "        x = self.emb(x)\n",
    "        # (batch,T,d_w), (1,batch,d_h) -> (batch,T,d_h), (1,batch,d_h)\n",
    "        _, hn = self.rnn(x, h0)\n",
    "        # (1,batch,d_h) -> (batch,d_h)\n",
    "        hn = torch.squeeze(hn, 0)\n",
    "        # (batch,d_h) -> (batch,4)\n",
    "        x = self.affine(hn)\n",
    "        return self.log_softmax(x)"
   ]
  },
  {
   "cell_type": "code",
   "execution_count": 13,
   "metadata": {},
   "outputs": [],
   "source": [
    "network81 = Network81()"
   ]
  },
  {
   "cell_type": "code",
   "execution_count": 16,
   "metadata": {
    "scrolled": true
   },
   "outputs": [
    {
     "name": "stdout",
     "output_type": "stream",
     "text": [
      "tensor([[0.3053, 0.2050, 0.3143, 0.1754]], grad_fn=<ExpBackward>)\n"
     ]
    }
   ],
   "source": [
    "for x_in, _ in torch.utils.data.DataLoader(dataset81_test, batch_size=1):\n",
    "    h0 = torch.zeros(1, 1, d_h)\n",
    "    x_out = network81(x_in, h0)\n",
    "    y = torch.exp(x_out)\n",
    "    print(y)\n",
    "    break"
   ]
  },
  {
   "cell_type": "markdown",
   "metadata": {},
   "source": [
    "## 82. 確率的勾配降下法による学習\n",
    "確率的勾配降下法（SGD: Stochastic Gradient Descent）を用いて，問題81で構築したモデルを学習せよ．訓練データ上の損失と正解率，評価データ上の損失と正解率を表示しながらモデルを学習し，適当な基準（例えば10エポックなど）で終了させよ．"
   ]
  },
  {
   "cell_type": "code",
   "execution_count": 17,
   "metadata": {},
   "outputs": [],
   "source": [
    "import matplotlib.pyplot as plt\n",
    "import pandas as pd\n",
    "import seaborn as sns"
   ]
  },
  {
   "cell_type": "code",
   "execution_count": 18,
   "metadata": {},
   "outputs": [
    {
     "data": {
      "text/plain": [
       "<torch._C.Generator at 0x7f8a97d58b30>"
      ]
     },
     "execution_count": 18,
     "metadata": {},
     "output_type": "execute_result"
    }
   ],
   "source": [
    "random.seed(82)\n",
    "np.random.seed(82)\n",
    "torch.manual_seed(82)"
   ]
  },
  {
   "cell_type": "code",
   "execution_count": 19,
   "metadata": {},
   "outputs": [],
   "source": [
    "%matplotlib inline"
   ]
  },
  {
   "cell_type": "code",
   "execution_count": 20,
   "metadata": {},
   "outputs": [],
   "source": [
    "sns.set(style=\"darkgrid\", context=\"notebook\", palette=\"muted\")"
   ]
  },
  {
   "cell_type": "code",
   "execution_count": 21,
   "metadata": {},
   "outputs": [],
   "source": [
    "network82, epoch, lr = Network81(), 10, 0.05\n",
    "loader82_train = torch.utils.data.DataLoader(dataset81_train,\n",
    "                                             batch_size=1,\n",
    "                                             shuffle=True)\n",
    "loader82_valid = torch.utils.data.DataLoader(dataset81_valid,\n",
    "                                             batch_size=1,\n",
    "                                             shuffle=True)"
   ]
  },
  {
   "cell_type": "code",
   "execution_count": 22,
   "metadata": {},
   "outputs": [
    {
     "name": "stdout",
     "output_type": "stream",
     "text": [
      "Epoch:1/10,Loss:1677.313,Training Accuracy:53.00%,Validation Accuracy:62.50%\n",
      "Epoch:2/10,Loss:1832.675,Training Accuracy:57.66%,Validation Accuracy:59.51%\n",
      "Epoch:3/10,Loss:2100.950,Training Accuracy:60.35%,Validation Accuracy:42.22%\n",
      "Epoch:4/10,Loss:1578.757,Training Accuracy:61.42%,Validation Accuracy:63.55%\n",
      "Epoch:5/10,Loss:1690.090,Training Accuracy:61.39%,Validation Accuracy:60.55%\n",
      "Epoch:6/10,Loss:1792.233,Training Accuracy:62.51%,Validation Accuracy:59.06%\n",
      "Epoch:7/10,Loss:1791.270,Training Accuracy:60.12%,Validation Accuracy:63.17%\n",
      "Epoch:8/10,Loss:1939.560,Training Accuracy:59.01%,Validation Accuracy:58.83%\n",
      "Epoch:9/10,Loss:1784.198,Training Accuracy:59.59%,Validation Accuracy:53.07%\n",
      "Epoch:10/10,Loss:1907.828,Training Accuracy:59.37%,Validation Accuracy:51.80%\n",
      "CPU times: user 9min 21s, sys: 4.08 s, total: 9min 25s\n",
      "Wall time: 9min 23s\n"
     ]
    }
   ],
   "source": [
    "%%time\n",
    "result82 = {\"Epoch\" : [],\n",
    "            \"Type\" : [],\n",
    "            \"Loss\" : [],\n",
    "            \"Accuracy\" : []}\n",
    "\n",
    "for e in range(1, epoch+1):\n",
    "    criterion = torch.nn.NLLLoss()\n",
    "    optimizer = torch.optim.SGD(network82.parameters(), lr=lr)\n",
    "    loss_sum, correct_sum = 0.0, 0\n",
    "\n",
    "    for x_in, y in loader82_train:\n",
    "        network82.zero_grad()\n",
    "        h0 = torch.zeros(1, 1, d_h)\n",
    "        x_out = network82(x_in, h0)\n",
    "        loss = criterion(x_out, y)\n",
    "        loss.backward()\n",
    "        optimizer.step()\n",
    "\n",
    "        loss_sum += loss.item() * x_in.shape[0]\n",
    "        x_pred = torch.argmax(x_out, dim=1)\n",
    "        correct_sum += int(torch.sum(x_pred==y))\n",
    "\n",
    "    accuracy_train = 100.0 * correct_sum / len(dataset81_train)\n",
    "    result82[\"Epoch\"].append(e)\n",
    "    result82[\"Type\"].append(\"Training\")\n",
    "    result82[\"Loss\"].append(loss_sum)\n",
    "    result82[\"Accuracy\"].append(accuracy_train)\n",
    "\n",
    "    loss_sum, correct_sum = 0.0, 0\n",
    "\n",
    "    for x_in, y in loader82_valid:\n",
    "        network82.zero_grad()\n",
    "        h0 = torch.zeros(1, 1, d_h)\n",
    "        x_out = network82(x_in, h0)\n",
    "        loss = criterion(x_out, y)\n",
    "\n",
    "        loss_sum += loss.item() * x_in.shape[0]\n",
    "        x_pred = torch.argmax(x_out, dim=1)\n",
    "        correct_sum += int(torch.sum(x_pred==y))\n",
    "\n",
    "    accuracy_valid = 100.0 * correct_sum / len(dataset81_valid)\n",
    "    result82[\"Epoch\"].append(e)\n",
    "    result82[\"Type\"].append(\"Validation\")\n",
    "    result82[\"Loss\"].append(loss_sum)\n",
    "    result82[\"Accuracy\"].append(accuracy_valid)\n",
    "\n",
    "    args = (e, epoch, loss_sum, accuracy_train, accuracy_valid)\n",
    "    print_str = \"Epoch:%d/%d,Loss:%.3f,Training Accuracy:%.2f%%,Validation Accuracy:%.2f%%\"\n",
    "    print(print_str % args)"
   ]
  },
  {
   "cell_type": "code",
   "execution_count": 23,
   "metadata": {
    "scrolled": true
   },
   "outputs": [
    {
     "data": {
      "text/plain": [
       "<seaborn.axisgrid.FacetGrid at 0x7f8a375f9610>"
      ]
     },
     "execution_count": 23,
     "metadata": {},
     "output_type": "execute_result"
    },
    {
     "data": {
      "image/png": "[encoded data removed]",
      "text/plain": [
       "<Figure size 454.225x360 with 1 Axes>"
      ]
     },
     "metadata": {},
     "output_type": "display_data"
    }
   ],
   "source": [
    "sns.relplot(x=\"Epoch\",\n",
    "            y=\"Loss\",\n",
    "            hue=\"Type\",\n",
    "            kind=\"line\",\n",
    "            data=pd.DataFrame(result82))"
   ]
  },
  {
   "cell_type": "code",
   "execution_count": 24,
   "metadata": {},
   "outputs": [
    {
     "data": {
      "text/plain": [
       "<seaborn.axisgrid.FacetGrid at 0x7f8a2d658850>"
      ]
     },
     "execution_count": 24,
     "metadata": {},
     "output_type": "execute_result"
    },
    {
     "data": {
      "image/png": "[encoded data removed]",
      "text/plain": [
       "<Figure size 454.225x360 with 1 Axes>"
      ]
     },
     "metadata": {},
     "output_type": "display_data"
    }
   ],
   "source": [
    "sns.relplot(x=\"Epoch\",\n",
    "            y=\"Accuracy\",\n",
    "            hue=\"Type\",\n",
    "            kind=\"line\",\n",
    "            data=pd.DataFrame(result82))"
   ]
  },
  {
   "cell_type": "markdown",
   "metadata": {},
   "source": [
    "## 83. ミニバッチ化・GPU上での学習\n",
    "問題82のコードを改変し，$B$事例ごとに損失・勾配を計算して学習を行えるようにせよ（$B$の値は適当に選べ）．また，GPU上で学習を実行せよ．"
   ]
  },
  {
   "cell_type": "code",
   "execution_count": 25,
   "metadata": {},
   "outputs": [
    {
     "data": {
      "text/plain": [
       "True"
      ]
     },
     "execution_count": 25,
     "metadata": {},
     "output_type": "execute_result"
    }
   ],
   "source": [
    "torch.cuda.is_available()"
   ]
  },
  {
   "cell_type": "code",
   "execution_count": 26,
   "metadata": {},
   "outputs": [],
   "source": [
    "random.seed(83)\n",
    "np.random.seed(83)\n",
    "torch.manual_seed(83)\n",
    "if torch.cuda.is_available():\n",
    "    torch.cuda.manual_seed(83)\n",
    "    torch.backends.cudnn.deterministic = True\n",
    "    torch.backends.cudnn.benchmark = False"
   ]
  },
  {
   "cell_type": "code",
   "execution_count": 27,
   "metadata": {},
   "outputs": [],
   "source": [
    "def news_aggregator_collate_fn(batch):\n",
    "    x_batch = torch.nn.utils.rnn.pad_sequence([b[0] for b in batch],\n",
    "                                              batch_first=True)\n",
    "    y_batch = torch.tensor([b[1] for b in batch], dtype=torch.int64)\n",
    "\n",
    "    return x_batch, y_batch"
   ]
  },
  {
   "cell_type": "code",
   "execution_count": 28,
   "metadata": {},
   "outputs": [
    {
     "data": {
      "text/plain": [
       "device(type='cuda', index=0)"
      ]
     },
     "execution_count": 28,
     "metadata": {},
     "output_type": "execute_result"
    }
   ],
   "source": [
    "device = torch.device(\"cuda:0\")\n",
    "device"
   ]
  },
  {
   "cell_type": "code",
   "execution_count": 29,
   "metadata": {},
   "outputs": [],
   "source": [
    "network83, epoch, batch_size, lr = Network81().to(device), 30, 32, 0.05\n",
    "loader83_train = torch.utils.data.DataLoader(dataset81_train,\n",
    "                                             batch_size=batch_size,\n",
    "                                             collate_fn=news_aggregator_collate_fn,\n",
    "                                             shuffle=True)\n",
    "loader83_valid = torch.utils.data.DataLoader(dataset81_valid,\n",
    "                                             batch_size=1,\n",
    "                                             shuffle=True)"
   ]
  },
  {
   "cell_type": "code",
   "execution_count": 30,
   "metadata": {
    "scrolled": true
   },
   "outputs": [
    {
     "name": "stdout",
     "output_type": "stream",
     "text": [
      "Epoch:1/30,Loss:1801.138,Training Accuracy:46.13%,Validation Accuracy:34.88%\n",
      "Epoch:2/30,Loss:1793.971,Training Accuracy:50.86%,Validation Accuracy:36.23%\n",
      "Epoch:3/30,Loss:1734.103,Training Accuracy:51.43%,Validation Accuracy:41.54%\n",
      "Epoch:4/30,Loss:1750.406,Training Accuracy:53.84%,Validation Accuracy:43.04%\n",
      "Epoch:5/30,Loss:1756.773,Training Accuracy:47.81%,Validation Accuracy:50.30%\n",
      "Epoch:6/30,Loss:1458.255,Training Accuracy:51.57%,Validation Accuracy:62.65%\n",
      "Epoch:7/30,Loss:1495.398,Training Accuracy:53.25%,Validation Accuracy:57.63%\n",
      "Epoch:8/30,Loss:1527.637,Training Accuracy:48.63%,Validation Accuracy:56.66%\n",
      "Epoch:9/30,Loss:1465.028,Training Accuracy:51.18%,Validation Accuracy:61.15%\n",
      "Epoch:10/30,Loss:1522.287,Training Accuracy:54.65%,Validation Accuracy:58.98%\n",
      "Epoch:11/30,Loss:1408.543,Training Accuracy:45.96%,Validation Accuracy:64.90%\n",
      "Epoch:12/30,Loss:1793.147,Training Accuracy:51.17%,Validation Accuracy:48.73%\n",
      "Epoch:13/30,Loss:1727.668,Training Accuracy:48.24%,Validation Accuracy:52.99%\n",
      "Epoch:14/30,Loss:1709.835,Training Accuracy:49.82%,Validation Accuracy:54.34%\n",
      "Epoch:15/30,Loss:1645.206,Training Accuracy:48.03%,Validation Accuracy:55.99%\n",
      "Epoch:16/30,Loss:1587.811,Training Accuracy:49.48%,Validation Accuracy:57.93%\n",
      "Epoch:17/30,Loss:1431.917,Training Accuracy:54.42%,Validation Accuracy:63.10%\n",
      "Epoch:18/30,Loss:1430.981,Training Accuracy:52.70%,Validation Accuracy:60.55%\n",
      "Epoch:19/30,Loss:1576.162,Training Accuracy:54.61%,Validation Accuracy:61.75%\n",
      "Epoch:20/30,Loss:1505.631,Training Accuracy:58.77%,Validation Accuracy:58.01%\n",
      "Epoch:21/30,Loss:1987.043,Training Accuracy:46.92%,Validation Accuracy:40.04%\n",
      "Epoch:22/30,Loss:2026.776,Training Accuracy:47.44%,Validation Accuracy:40.42%\n",
      "Epoch:23/30,Loss:2183.855,Training Accuracy:48.33%,Validation Accuracy:40.42%\n",
      "Epoch:24/30,Loss:2241.184,Training Accuracy:48.70%,Validation Accuracy:39.67%\n",
      "Epoch:25/30,Loss:2225.237,Training Accuracy:50.51%,Validation Accuracy:40.34%\n",
      "Epoch:26/30,Loss:2202.334,Training Accuracy:51.28%,Validation Accuracy:40.19%\n",
      "Epoch:27/30,Loss:2184.815,Training Accuracy:51.09%,Validation Accuracy:40.42%\n",
      "Epoch:28/30,Loss:2225.262,Training Accuracy:51.07%,Validation Accuracy:40.49%\n",
      "Epoch:29/30,Loss:2241.038,Training Accuracy:51.85%,Validation Accuracy:40.72%\n",
      "Epoch:30/30,Loss:2173.557,Training Accuracy:53.00%,Validation Accuracy:41.54%\n",
      "CPU times: user 57.8 s, sys: 1.06 s, total: 58.8 s\n",
      "Wall time: 58.6 s\n"
     ]
    }
   ],
   "source": [
    "%%time\n",
    "result83 = {\"Epoch\" : [],\n",
    "            \"Type\" : [],\n",
    "            \"Loss\" : [],\n",
    "            \"Accuracy\" : []}\n",
    "\n",
    "for e in range(1, epoch+1):\n",
    "    criterion = torch.nn.NLLLoss()\n",
    "    optimizer = torch.optim.SGD(network83.parameters(), lr=lr)\n",
    "    loss_sum, correct_sum = 0.0, 0\n",
    "\n",
    "    for x_in, y in loader83_train:\n",
    "        network83.zero_grad()\n",
    "        h0 = torch.zeros(1, x_in.shape[0], d_h).to(device)\n",
    "        x_out = network83(x_in.to(device), h0)\n",
    "        loss = criterion(x_out, y.to(device))\n",
    "        loss.backward()\n",
    "        optimizer.step()\n",
    "\n",
    "        loss_sum += loss.item() * x_in.shape[0]\n",
    "        x_pred = torch.argmax(x_out, dim=1)\n",
    "        correct_sum += int(torch.sum(x_pred==y.to(device)))\n",
    "\n",
    "    accuracy_train = 100.0 * correct_sum / len(dataset81_train)\n",
    "    result83[\"Epoch\"].append(e)\n",
    "    result83[\"Type\"].append(\"Training\")\n",
    "    result83[\"Loss\"].append(loss_sum)\n",
    "    result83[\"Accuracy\"].append(accuracy_train)\n",
    "\n",
    "    loss_sum, correct_sum = 0.0, 0\n",
    "\n",
    "    for x_in, y in loader83_valid:\n",
    "        network83.zero_grad()\n",
    "        h0 = torch.zeros(1, 1, d_h).to(device)\n",
    "        x_out = network83(x_in.to(device), h0)\n",
    "        loss = criterion(x_out, y.to(device))\n",
    "\n",
    "        loss_sum += loss.item() * x_in.shape[0]\n",
    "        x_pred = torch.argmax(x_out, dim=1)\n",
    "        correct_sum += int(torch.sum(x_pred==y.to(device)))\n",
    "\n",
    "    accuracy_valid = 100.0 * correct_sum / len(dataset81_valid)\n",
    "    result83[\"Epoch\"].append(e)\n",
    "    result83[\"Type\"].append(\"Validation\")\n",
    "    result83[\"Loss\"].append(loss_sum)\n",
    "    result83[\"Accuracy\"].append(accuracy_valid)\n",
    "\n",
    "    args = (e, epoch, loss_sum, accuracy_train, accuracy_valid)\n",
    "    print_str = \"Epoch:%d/%d,Loss:%.3f,Training Accuracy:%.2f%%,Validation Accuracy:%.2f%%\"\n",
    "    print(print_str % args)"
   ]
  },
  {
   "cell_type": "code",
   "execution_count": 31,
   "metadata": {
    "scrolled": true
   },
   "outputs": [
    {
     "data": {
      "text/plain": [
       "<seaborn.axisgrid.FacetGrid at 0x7f8a2d688880>"
      ]
     },
     "execution_count": 31,
     "metadata": {},
     "output_type": "execute_result"
    },
    {
     "data": {
      "image/png": "[encoded data removed]",
      "text/plain": [
       "<Figure size 454.225x360 with 1 Axes>"
      ]
     },
     "metadata": {},
     "output_type": "display_data"
    }
   ],
   "source": [
    "sns.relplot(x=\"Epoch\",\n",
    "            y=\"Loss\",\n",
    "            hue=\"Type\",\n",
    "            kind=\"line\",\n",
    "            data=pd.DataFrame(result83))"
   ]
  },
  {
   "cell_type": "code",
   "execution_count": 32,
   "metadata": {},
   "outputs": [
    {
     "data": {
      "text/plain": [
       "<seaborn.axisgrid.FacetGrid at 0x7f8a36b8c850>"
      ]
     },
     "execution_count": 32,
     "metadata": {},
     "output_type": "execute_result"
    },
    {
     "data": {
      "image/png": "[encoded data removed]",
      "text/plain": [
       "<Figure size 454.225x360 with 1 Axes>"
      ]
     },
     "metadata": {},
     "output_type": "display_data"
    }
   ],
   "source": [
    "sns.relplot(x=\"Epoch\",\n",
    "            y=\"Accuracy\",\n",
    "            hue=\"Type\",\n",
    "            kind=\"line\",\n",
    "            data=pd.DataFrame(result83))"
   ]
  },
  {
   "cell_type": "markdown",
   "metadata": {},
   "source": [
    "## 84. 単語ベクトルの導入\n",
    "事前学習済みの単語ベクトル（例えば，Google Newsデータセット（約1,000億単語）での[学習済み単語ベクトル](https://drive.google.com/file/d/0B7XkCwpI5KDYNlNUTTlSS21pQmM/edit?usp=sharing)）で単語埋め込み$\\mathrm{emb}(x)$を初期化し，学習せよ．"
   ]
  },
  {
   "cell_type": "code",
   "execution_count": 1,
   "metadata": {},
   "outputs": [
    {
     "name": "stdout",
     "output_type": "stream",
     "text": [
      "Input/GoogleNews-vectors-negative300.bin\r\n"
     ]
    }
   ],
   "source": [
    "!ls Input/GoogleNews-vectors-negative300.bin"
   ]
  },
  {
   "cell_type": "code",
   "execution_count": 14,
   "metadata": {},
   "outputs": [
    {
     "name": "stdout",
     "output_type": "stream",
     "text": [
      "Output/Chapter06/test.txt\r\n",
      "Output/Chapter06/train.txt\r\n",
      "Output/Chapter06/valid.txt\r\n"
     ]
    }
   ],
   "source": [
    "!ls Output/Chapter06/*.txt | grep -v feature"
   ]
  },
  {
   "cell_type": "code",
   "execution_count": 2,
   "metadata": {},
   "outputs": [],
   "source": [
    "from gensim.models.keyedvectors import KeyedVectors"
   ]
  },
  {
   "cell_type": "code",
   "execution_count": 3,
   "metadata": {},
   "outputs": [
    {
     "name": "stdout",
     "output_type": "stream",
     "text": [
      "CPU times: user 17.1 s, sys: 4.09 s, total: 21.2 s\n",
      "Wall time: 31.1 s\n"
     ]
    }
   ],
   "source": [
    "%%time\n",
    "wv = KeyedVectors.load_word2vec_format(\"Input/GoogleNews-vectors-negative300.bin\", binary=True)"
   ]
  },
  {
   "cell_type": "code",
   "execution_count": 34,
   "metadata": {},
   "outputs": [],
   "source": [
    "random.seed(84)\n",
    "np.random.seed(84)\n",
    "torch.manual_seed(84)\n",
    "if torch.cuda.is_available():\n",
    "    torch.cuda.manual_seed(84)\n",
    "    torch.backends.cudnn.deterministic = True\n",
    "    torch.backends.cudnn.benchmark = False"
   ]
  },
  {
   "cell_type": "code",
   "execution_count": 43,
   "metadata": {},
   "outputs": [],
   "source": [
    "class NewsAggregatorDataset84(torch.utils.data.Dataset):\n",
    "    def __init__(self, type_str: str):\n",
    "        if type_str not in [\"train\", \"valid\", \"test\"]:\n",
    "            raise ValueError(\"Invalid type_str:%s\" % type_str)\n",
    "\n",
    "        in_path = \"Output/Chapter06/%s.txt\" % type_str\n",
    "        self.x_data, self.y_data = [], []\n",
    "\n",
    "        with open(in_path) as f:\n",
    "            for line in f:\n",
    "                elements = line.replace(\"\\n\", \"\").split(\"\\t\")\n",
    "                self.x_data.append(torch.tensor([wv[word] if word in wv else np.zeros(300)\n",
    "                                                 for word in elements[1].split()],\n",
    "                                                dtype=torch.float32))\n",
    "                self.y_data.append(torch.tensor(labels.index(elements[0]),\n",
    "                                                dtype=torch.int64))\n",
    "\n",
    "    def __len__(self):\n",
    "        return len(self.y_data)\n",
    "\n",
    "    def __getitem__(self, idx):\n",
    "        return self.x_data[idx], self.y_data[idx]"
   ]
  },
  {
   "cell_type": "code",
   "execution_count": 44,
   "metadata": {},
   "outputs": [
    {
     "name": "stdout",
     "output_type": "stream",
     "text": [
      "CPU times: user 4.52 s, sys: 5.92 ms, total: 4.52 s\n",
      "Wall time: 4.52 s\n"
     ]
    }
   ],
   "source": [
    "%%time\n",
    "dataset84_train = NewsAggregatorDataset84(\"train\")\n",
    "dataset84_valid = NewsAggregatorDataset84(\"valid\")\n",
    "dataset84_test = NewsAggregatorDataset84(\"test\")"
   ]
  },
  {
   "cell_type": "code",
   "execution_count": 45,
   "metadata": {},
   "outputs": [],
   "source": [
    "class Network84(torch.nn.Module):\n",
    "    def __init__(self):\n",
    "        super(Network84, self).__init__()\n",
    "\n",
    "        # (batch,T,d_w), (batch,1,d_h) -> (batch,T,d_h), (batch,1,d_h)\n",
    "        self.rnn = torch.nn.RNN(input_size=d_w,\n",
    "                                hidden_size=d_h,\n",
    "                                batch_first=True)\n",
    "        # (batch,d_h) -> (batch,4)\n",
    "        self.affine = torch.nn.Linear(in_features=d_h,\n",
    "                                      out_features=4)\n",
    "        self.log_softmax = torch.nn.LogSoftmax(dim=-1)\n",
    "\n",
    "    def forward(self, x, h0):\n",
    "        # (batch,T,d_w), (1,batch,d_h) -> (batch,T,d_h), (1,batch,d_h)\n",
    "        _, hn = self.rnn(x, h0)\n",
    "        # (1,batch,d_h) -> (batch,d_h)\n",
    "        hn = torch.squeeze(hn, 0)\n",
    "        # (batch,d_h) -> (batch,4)\n",
    "        x = self.affine(hn)\n",
    "        return self.log_softmax(x)"
   ]
  },
  {
   "cell_type": "code",
   "execution_count": 48,
   "metadata": {},
   "outputs": [],
   "source": [
    "network84, epoch, batch_size, lr = Network84().to(device), 30, 32, 0.05\n",
    "loader84_train = torch.utils.data.DataLoader(dataset84_train,\n",
    "                                             batch_size=batch_size,\n",
    "                                             collate_fn=news_aggregator_collate_fn,\n",
    "                                             shuffle=True)\n",
    "loader84_valid = torch.utils.data.DataLoader(dataset84_valid,\n",
    "                                             batch_size=1,\n",
    "                                             shuffle=True)"
   ]
  },
  {
   "cell_type": "code",
   "execution_count": 49,
   "metadata": {
    "scrolled": true
   },
   "outputs": [
    {
     "name": "stdout",
     "output_type": "stream",
     "text": [
      "Epoch:1/30,Loss:4408.282,Training Accuracy:38.01%,Validation Accuracy:39.30%\n",
      "Epoch:2/30,Loss:17044.000,Training Accuracy:34.15%,Validation Accuracy:39.30%\n",
      "Epoch:3/30,Loss:49398.310,Training Accuracy:35.70%,Validation Accuracy:12.28%\n",
      "Epoch:4/30,Loss:57748.871,Training Accuracy:34.92%,Validation Accuracy:42.66%\n",
      "Epoch:5/30,Loss:24319.877,Training Accuracy:34.98%,Validation Accuracy:42.66%\n",
      "Epoch:6/30,Loss:22766.143,Training Accuracy:34.63%,Validation Accuracy:42.66%\n",
      "Epoch:7/30,Loss:41736.304,Training Accuracy:34.85%,Validation Accuracy:39.30%\n",
      "Epoch:8/30,Loss:83783.026,Training Accuracy:34.83%,Validation Accuracy:42.66%\n",
      "Epoch:9/30,Loss:75968.223,Training Accuracy:35.06%,Validation Accuracy:12.20%\n",
      "Epoch:10/30,Loss:55372.136,Training Accuracy:35.26%,Validation Accuracy:39.30%\n",
      "Epoch:11/30,Loss:46965.002,Training Accuracy:35.37%,Validation Accuracy:39.30%\n",
      "Epoch:12/30,Loss:35066.731,Training Accuracy:35.39%,Validation Accuracy:39.30%\n",
      "Epoch:13/30,Loss:11337.847,Training Accuracy:35.41%,Validation Accuracy:42.66%\n",
      "Epoch:14/30,Loss:23786.979,Training Accuracy:35.30%,Validation Accuracy:42.66%\n",
      "Epoch:15/30,Loss:29373.094,Training Accuracy:34.73%,Validation Accuracy:42.66%\n",
      "Epoch:16/30,Loss:43030.685,Training Accuracy:35.16%,Validation Accuracy:42.66%\n",
      "Epoch:17/30,Loss:65693.709,Training Accuracy:34.01%,Validation Accuracy:12.28%\n",
      "Epoch:18/30,Loss:70813.927,Training Accuracy:35.11%,Validation Accuracy:42.66%\n",
      "Epoch:19/30,Loss:55720.222,Training Accuracy:35.43%,Validation Accuracy:39.30%\n",
      "Epoch:20/30,Loss:58570.965,Training Accuracy:34.16%,Validation Accuracy:42.66%\n",
      "Epoch:21/30,Loss:73823.098,Training Accuracy:35.05%,Validation Accuracy:42.66%\n",
      "Epoch:22/30,Loss:44905.666,Training Accuracy:35.39%,Validation Accuracy:39.30%\n",
      "Epoch:23/30,Loss:42611.756,Training Accuracy:36.14%,Validation Accuracy:12.20%\n",
      "Epoch:24/30,Loss:33373.515,Training Accuracy:34.93%,Validation Accuracy:39.30%\n",
      "Epoch:25/30,Loss:17785.349,Training Accuracy:35.31%,Validation Accuracy:42.66%\n",
      "Epoch:26/30,Loss:22036.732,Training Accuracy:34.92%,Validation Accuracy:39.30%\n",
      "Epoch:27/30,Loss:36830.426,Training Accuracy:34.94%,Validation Accuracy:5.84%\n",
      "Epoch:28/30,Loss:51975.259,Training Accuracy:35.61%,Validation Accuracy:42.66%\n",
      "Epoch:29/30,Loss:40356.583,Training Accuracy:35.55%,Validation Accuracy:39.30%\n",
      "Epoch:30/30,Loss:21657.642,Training Accuracy:34.98%,Validation Accuracy:42.66%\n",
      "CPU times: user 57.4 s, sys: 1.13 s, total: 58.5 s\n",
      "Wall time: 58.7 s\n"
     ]
    }
   ],
   "source": [
    "%%time\n",
    "result_84 = {\"Epoch\" : [],\n",
    "             \"Type\" : [],\n",
    "             \"Loss\" : [],\n",
    "             \"Accuracy\" : []}\n",
    "\n",
    "for e in range(1, epoch+1):\n",
    "    criterion = torch.nn.NLLLoss()\n",
    "    optimizer = torch.optim.SGD(network84.parameters(), lr=lr)\n",
    "    loss_sum, correct_sum = 0.0, 0\n",
    "\n",
    "    for x_in, y in loader84_train:\n",
    "        network.zero_grad()\n",
    "        h0 = torch.zeros(1, x_in.shape[0], d_h).to(device)\n",
    "        x_out = network84(x_in.to(device), h0)\n",
    "        loss = criterion(x_out, y.to(device))\n",
    "        loss.backward()\n",
    "        optimizer.step()\n",
    "\n",
    "        loss_sum += loss.item() * x_in.shape[0]\n",
    "        x_pred = torch.argmax(x_out, dim=1)\n",
    "        correct_sum += int(torch.sum(x_pred==y.to(device)))\n",
    "\n",
    "    accuracy_train = 100.0 * correct_sum / len(dataset84_train)\n",
    "    result_84[\"Epoch\"].append(e)\n",
    "    result_84[\"Type\"].append(\"Training\")\n",
    "    result_84[\"Loss\"].append(loss_sum)\n",
    "    result_84[\"Accuracy\"].append(accuracy_train)\n",
    "\n",
    "    loss_sum, correct_sum = 0.0, 0\n",
    "\n",
    "    for x_in, y in loader84_valid:\n",
    "        network84.zero_grad()\n",
    "        h0 = torch.zeros(1, 1, d_h).to(device)\n",
    "        x_out = network84(x_in.to(device), h0)\n",
    "        loss = criterion(x_out, y.to(device))\n",
    "\n",
    "        loss_sum += loss.item() * x_in.shape[0]\n",
    "        x_pred = torch.argmax(x_out, dim=1)\n",
    "        correct_sum += int(torch.sum(x_pred==y.to(device)))\n",
    "\n",
    "    accuracy_valid = 100.0 * correct_sum / len(dataset84_valid)\n",
    "    result_84[\"Epoch\"].append(e)\n",
    "    result_84[\"Type\"].append(\"Validation\")\n",
    "    result_84[\"Loss\"].append(loss_sum)\n",
    "    result_84[\"Accuracy\"].append(accuracy_valid)\n",
    "\n",
    "    args = (e, epoch, loss_sum, accuracy_train, accuracy_valid)\n",
    "    print_str = \"Epoch:%d/%d,Loss:%.3f,Training Accuracy:%.2f%%,Validation Accuracy:%.2f%%\"\n",
    "    print(print_str % args)"
   ]
  },
  {
   "cell_type": "code",
   "execution_count": 56,
   "metadata": {
    "scrolled": true
   },
   "outputs": [
    {
     "data": {
      "text/plain": [
       "<seaborn.axisgrid.FacetGrid at 0x7fa87a079e20>"
      ]
     },
     "execution_count": 56,
     "metadata": {},
     "output_type": "execute_result"
    },
    {
     "data": {
      "image/png": "[encoded data removed]",
      "text/plain": [
       "<Figure size 454.225x360 with 1 Axes>"
      ]
     },
     "metadata": {},
     "output_type": "display_data"
    }
   ],
   "source": [
    "sns.relplot(x=\"Epoch\",\n",
    "            y=\"Loss\",\n",
    "            hue=\"Type\",\n",
    "            kind=\"line\",\n",
    "            data=pd.DataFrame(result_84))"
   ]
  },
  {
   "cell_type": "code",
   "execution_count": 57,
   "metadata": {},
   "outputs": [
    {
     "data": {
      "text/plain": [
       "<seaborn.axisgrid.FacetGrid at 0x7fa8518ea280>"
      ]
     },
     "execution_count": 57,
     "metadata": {},
     "output_type": "execute_result"
    },
    {
     "data": {
      "image/png": "[encoded data removed]",
      "text/plain": [
       "<Figure size 454.225x360 with 1 Axes>"
      ]
     },
     "metadata": {},
     "output_type": "display_data"
    }
   ],
   "source": [
    "sns.relplot(x=\"Epoch\",\n",
    "            y=\"Accuracy\",\n",
    "            hue=\"Type\",\n",
    "            kind=\"line\",\n",
    "            data=pd.DataFrame(result_84))"
   ]
  },
  {
   "cell_type": "markdown",
   "metadata": {},
   "source": [
    "## 85. 双方向RNN・多層化\n",
    "順方向と逆方向のRNNの両方を用いて入力テキストをエンコードし，モデルを学習せよ．\n",
    "$$\n",
    "\\overleftarrow{h}_{T+1} = 0, \\overleftarrow{h}_t = \\overleftarrow{\\mathrm{RNN}}(\\mathrm{emb}(x_t), \\overleftarrow{h}_{t+1}), y = \\mathrm{softmax}(W^{(yh)} [\\overrightarrow{h}_T; \\overleftarrow{h}_1] + b^{(y)})\n",
    "$$\n",
    "ただし，$\\overrightarrow{h}_t \\in \\mathbb{R}^{d_h}, \\overleftarrow{h}_t \\in \\mathbb{R}^{d_h}$はそれぞれ，順方向および逆方向のRNNで求めた時刻$t$の隠れ状態ベクトル，$\\overleftarrow{\\mathrm{RNN}}(x,h)$は入力$x$と次時刻の隠れ状態$h$から前状態を計算するRNNユニット，$W^{(yh)} \\in \\mathbb{R}^{L \\times 2d_h}$は隠れ状態ベクトルからカテゴリを予測するための行列，$b^{(y)} \\in \\mathbb{R}^{L}$はバイアス項である．また，$[a; b]$はベクトル$a$と$b$の連結を表す。\n",
    "\n",
    "さらに，双方向RNNを多層化して実験せよ．"
   ]
  },
  {
   "cell_type": "markdown",
   "metadata": {},
   "source": [
    "## 86. 畳み込みニューラルネットワーク (CNN)\n",
    "ID番号で表現された単語列$\\boldsymbol{x} = (x_1, x_2, \\dots, x_T)$がある．ただし，$T$は単語列の長さ，$x_t \\in \\mathbb{R}^{V}$は単語のID番号のone-hot表記である（$V$は単語の総数である）．畳み込みニューラルネットワーク（CNN: Convolutional Neural Network）を用い，単語列$\\boldsymbol{x}$からカテゴリ$y$を予測するモデルを実装せよ．\n",
    "\n",
    "ただし，畳み込みニューラルネットワークの構成は以下の通りとする．\n",
    "+ 単語埋め込みの次元数: $d_w$\n",
    "+ 畳み込みのフィルターのサイズ: 3 トークン\n",
    "+ 畳み込みのストライド: 1 トークン\n",
    "+ 畳み込みのパディング: あり\n",
    "+ 畳み込み演算後の各時刻のベクトルの次元数: $d_h$\n",
    "+ 畳み込み演算後に最大値プーリング（max pooling）を適用し，入力文を$d_h$次元の隠れベクトルで表現\n",
    "\n",
    "すなわち，時刻$t$の特徴ベクトル$p_t \\in \\mathbb{R}^{d_h}$は次式で表される．\n",
    "$$\n",
    "p_t = g(W^{(px)} [\\mathrm{emb}(x_{t-1}); \\mathrm{emb}(x_t); \\mathrm{emb}(x_{t+1})] + b^{(p)})\n",
    "$$\n",
    "ただし，$W^{(px)} \\in \\mathbb{R}^{d_h \\times 3d_w}, b^{(p)} \\in \\mathbb{R}^{d_h}$はCNNのパラメータ，$g$は活性化関数（例えば$\\tanh$やReLUなど），$[a; b; c]$はベクトル$a, b, c$の連結である．なお，行列$W^{(px)}$の列数が$3d_w$になるのは，3個のトークンの単語埋め込みを連結したものに対して，線形変換を行うためである．\n",
    "\n",
    "最大値プーリングでは，特徴ベクトルの次元毎に全時刻における最大値を取り，入力文書の特徴ベクトル$c \\in \\mathbb{R}^{d_h}$を求める．$c[i]$でベクトル$c$の$i$番目の次元の値を表すことにすると，最大値プーリングは次式で表される．\n",
    "$$\n",
    "c[i] = \\max_{1 \\leq t \\leq T} p_t[i]\n",
    "$$\n",
    "最後に，入力文書の特徴ベクトル$c$に行列$W^{(yc)} \\in \\mathbb{R}^{L \\times d_h}$とバイアス項$b^{(y)} \\in \\mathbb{R}^{L}$による線形変換とソフトマックス関数を適用し，カテゴリ$y$を予測する．\n",
    "$$\n",
    "y = \\mathrm{softmax}(W^{(yc)} c + b^{(y)})\n",
    "$$\n",
    "なお，この問題ではモデルの学習を行わず，ランダムに初期化された重み行列で$y$を計算するだけでよい．"
   ]
  },
  {
   "cell_type": "markdown",
   "metadata": {},
   "source": [
    "## 87. 確率的勾配降下法によるCNNの学習\n",
    "確率的勾配降下法（SGD: Stochastic Gradient Descent）を用いて，問題86で構築したモデルを学習せよ．訓練データ上の損失と正解率，評価データ上の損失と正解率を表示しながらモデルを学習し，適当な基準（例えば10エポックなど）で終了させよ．"
   ]
  },
  {
   "cell_type": "markdown",
   "metadata": {},
   "source": [
    "## 88. パラメータチューニング\n",
    "問題85や問題87のコードを改変し，ニューラルネットワークの形状やハイパーパラメータを調整しながら，高性能なカテゴリ分類器を構築せよ．"
   ]
  },
  {
   "cell_type": "markdown",
   "metadata": {},
   "source": [
    "## 89. 事前学習済み言語モデルからの転移学習\n",
    "事前学習済み言語モデル（例えば[BERT](https://github.com/google-research/bert)など）を出発点として，ニュース記事見出しをカテゴリに分類するモデルを構築せよ．"
   ]
  }
 ],
 "metadata": {
  "kernelspec": {
   "display_name": "Python 3",
   "language": "python",
   "name": "python3"
  },
  "language_info": {
   "codemirror_mode": {
    "name": "ipython",
    "version": 3
   },
   "file_extension": ".py",
   "mimetype": "text/x-python",
   "name": "python",
   "nbconvert_exporter": "python",
   "pygments_lexer": "ipython3",
   "version": "3.8.2"
  }
 },
 "nbformat": 4,
 "nbformat_minor": 4
}
