{
 "cells": [
  {
   "cell_type": "markdown",
   "metadata": {},
   "source": [
    "# [第9章: RNN, CNN](https://nlp100.github.io/ja/ch09.html)"
   ]
  },
  {
   "cell_type": "markdown",
   "metadata": {},
   "source": [
    "## [80. ID番号への変換](https://nlp100.github.io/ja/ch09.html#80-id%E7%95%AA%E5%8F%B7%E3%81%B8%E3%81%AE%E5%A4%89%E6%8F%9B)\n",
    "問題51で構築した学習データ中の単語にユニークなID番号を付与したい．学習データ中で最も頻出する単語に`1`，2番目に頻出する単語に`2`，……といった方法で，学習データ中で2回以上出現する単語にID番号を付与せよ．そして，与えられた単語列に対して，ID番号の列を返す関数を実装せよ．ただし，出現頻度が2回未満の単語のID番号はすべて`0`とせよ．"
   ]
  },
  {
   "cell_type": "code",
   "execution_count": 1,
   "metadata": {},
   "outputs": [
    {
     "name": "stdout",
     "output_type": "stream",
     "text": [
      "Output/Chapter06/test.feature.txt   Output/Chapter06/valid.feature.txt\r\n",
      "Output/Chapter06/train.feature.txt\r\n"
     ]
    }
   ],
   "source": [
    "!ls Output/Chapter06/*.feature.txt"
   ]
  },
  {
   "cell_type": "code",
   "execution_count": 2,
   "metadata": {},
   "outputs": [],
   "source": [
    "from operator import itemgetter"
   ]
  },
  {
   "cell_type": "code",
   "execution_count": 3,
   "metadata": {},
   "outputs": [],
   "source": [
    "def create_word2count():\n",
    "    word2count = {}\n",
    "    once_words = set()\n",
    "\n",
    "    def _create_word2count_file(f):\n",
    "        for line in f:\n",
    "            words = line.replace(\"\\n\", \"\").split(\"\\t\")[1].split()\n",
    "            for word in words:\n",
    "                if word in word2count:\n",
    "                    word2count[word] += 1\n",
    "                elif word in once_words:\n",
    "                    word2count[word] = 2\n",
    "                    once_words.remove(word)\n",
    "                else:\n",
    "                    once_words.add(word)\n",
    "\n",
    "    with open(\"Output/Chapter06/train.feature.txt\") as f:\n",
    "        _create_word2count_file(f)\n",
    "\n",
    "    with open(\"Output/Chapter06/valid.feature.txt\") as f:\n",
    "        _create_word2count_file(f)\n",
    "\n",
    "    with open(\"Output/Chapter06/test.feature.txt\") as f:\n",
    "        _create_word2count_file(f)\n",
    "\n",
    "    word2count_sorted = sorted(word2count.items(), reverse=True, key=itemgetter(1,0))\n",
    "    return {k: v for k, v in word2count_sorted}"
   ]
  },
  {
   "cell_type": "code",
   "execution_count": 4,
   "metadata": {},
   "outputs": [],
   "source": [
    "word2count = create_word2count()"
   ]
  },
  {
   "cell_type": "code",
   "execution_count": 5,
   "metadata": {},
   "outputs": [],
   "source": [
    "def sentence2ids(sentence: str):\n",
    "    return [list(word2count.keys()).index(word) + 1 if word in word2count else 0\n",
    "            for word in sentence.split()]"
   ]
  },
  {
   "cell_type": "code",
   "execution_count": 6,
   "metadata": {},
   "outputs": [
    {
     "data": {
      "text/plain": [
       "[3, 0, 999, 2390, 5, 6330, 1098, 163]"
      ]
     },
     "execution_count": 6,
     "metadata": {},
     "output_type": "execute_result"
    }
   ],
   "source": [
    "# Test\n",
    "sentence2ids(\"updat 2-at&t threaten sit US spectrum auction rule\")"
   ]
  },
  {
   "cell_type": "markdown",
   "metadata": {},
   "source": [
    "## [81. RNNによる予測](https://nlp100.github.io/ja/ch09.html#81-rnn%E3%81%AB%E3%82%88%E3%82%8B%E4%BA%88%E6%B8%AC)\n",
    "ID番号で表現された単語列$\\boldsymbol{x} = (x_1, x_2, \\dots, x_T)$がある．ただし，$T$は単語列の長さ，$x_t \\in \\mathbb{R}^{V}$は単語のID番号のone-hot表記である（$V$は単語の総数である）．再帰型ニューラルネットワーク（RNN: Recurrent Neural Network）を用い，単語列$\\boldsymbol{x}$からカテゴリ$y$を予測するモデルとして，次式を実装せよ．\n",
    "$$\n",
    "\\overrightarrow{h}_0 = 0, \\overrightarrow{h}_t = \\overrightarrow{\\mathrm{RNN}}(\\mathrm{emb}(x_t), \\overrightarrow{h}_{t-1}), y = \\mathrm{softmax}(W^{(yh)} \\overrightarrow{h}_T + b^{(y)})\n",
    "$$\n",
    "ただし，$\\mathrm{emb}(x) \\in \\mathbb{R}^{d_w}$は単語埋め込み（単語のone-hot表記から単語ベクトルに変換する関数），$\\overrightarrow{h}_t \\in \\mathbb{R}^{d_h}$は時刻$t$の隠れ状態ベクトル，$\\overrightarrow{\\mathrm{RNN}}(x,h)$は入力$x$と前時刻の隠れ状態$h$から次状態を計算するRNNユニット，$W^{(yh)} \\in \\mathbb{R}^{L \\times d_h}$は隠れ状態ベクトルからカテゴリを予測するための行列，$b^{(y)} \\in \\mathbb{R}^{L}$はバイアス項である（$d_w, d_h, L$はそれぞれ，単語埋め込みの次元数，隠れ状態ベクトルの次元数，ラベル数である）．RNNユニット$\\overrightarrow{\\mathrm{RNN}}(x,h)$には様々な構成が考えられるが，典型例として次式が挙げられる．\n",
    "$$\n",
    "\\overrightarrow{\\mathrm{RNN}}(x,h) = g(W^{(hx)} x + W^{(hh)}h + b^{(h)})\n",
    "$$\n",
    "ただし，$W^{(hx)} \\in \\mathbb{R}^{d_h \\times d_w}，W^{(hh)} \\in \\mathbb{R}^{d_h \\times d_h}, b^{(h)} \\in \\mathbb{R}^{d_h}$はRNNユニットのパラメータ，$g$は活性化関数（例えば$\\tanh$やReLUなど）である．\n",
    "\n",
    "なお，この問題ではパラメータの学習を行わず，ランダムに初期化されたパラメータで$y$を計算するだけでよい．次元数などのハイパーパラメータは，$d_w = 300, d_h=50$など，適当な値に設定せよ（以降の問題でも同様である）．"
   ]
  },
  {
   "cell_type": "code",
   "execution_count": 7,
   "metadata": {},
   "outputs": [],
   "source": [
    "import numpy as np\n",
    "import random\n",
    "import torch"
   ]
  },
  {
   "cell_type": "code",
   "execution_count": 8,
   "metadata": {},
   "outputs": [
    {
     "data": {
      "text/plain": [
       "<torch._C.Generator at 0x7f99f8197b30>"
      ]
     },
     "execution_count": 8,
     "metadata": {},
     "output_type": "execute_result"
    }
   ],
   "source": [
    "random.seed(81)\n",
    "np.random.seed(81)\n",
    "torch.manual_seed(81)"
   ]
  },
  {
   "cell_type": "code",
   "execution_count": 9,
   "metadata": {},
   "outputs": [
    {
     "data": {
      "text/plain": [
       "8698"
      ]
     },
     "execution_count": 9,
     "metadata": {},
     "output_type": "execute_result"
    }
   ],
   "source": [
    "labels = [\"b\", \"t\", \"e\", \"m\"]\n",
    "V = len(word2count) + 1 # +1は出現回数1回のID番号0の分を追加している\n",
    "d_w = 300\n",
    "d_h = 50\n",
    "V"
   ]
  },
  {
   "cell_type": "code",
   "execution_count": 10,
   "metadata": {},
   "outputs": [],
   "source": [
    "class NewsAggregatorDataset81(torch.utils.data.Dataset):\n",
    "    def __init__(self, type_str: str):\n",
    "        if type_str not in [\"train\", \"valid\", \"test\"]:\n",
    "            raise ValueError(\"Invalid type_str:%s\" % type_str)\n",
    "\n",
    "        in_path = \"Output/Chapter06/%s.feature.txt\" % type_str\n",
    "        self.x_data, self.y_data = [], []\n",
    "\n",
    "        with open(in_path) as f:\n",
    "            for line in f:\n",
    "                elements = line.replace(\"\\n\", \"\").split(\"\\t\")\n",
    "                self.x_data.append(torch.tensor(sentence2ids(elements[1]),\n",
    "                                                dtype=torch.int64))\n",
    "                self.y_data.append(torch.tensor(labels.index(elements[0]),\n",
    "                                                dtype=torch.int64))\n",
    "\n",
    "    def __len__(self):\n",
    "        return len(self.y_data)\n",
    "\n",
    "    def __getitem__(self, idx):\n",
    "        return self.x_data[idx], self.y_data[idx]"
   ]
  },
  {
   "cell_type": "code",
   "execution_count": 11,
   "metadata": {},
   "outputs": [
    {
     "name": "stdout",
     "output_type": "stream",
     "text": [
      "CPU times: user 9.96 s, sys: 18.3 ms, total: 9.98 s\n",
      "Wall time: 9.95 s\n"
     ]
    }
   ],
   "source": [
    "%%time\n",
    "dataset81_train = NewsAggregatorDataset81(\"train\")\n",
    "dataset81_valid = NewsAggregatorDataset81(\"valid\")\n",
    "dataset81_test = NewsAggregatorDataset81(\"test\")"
   ]
  },
  {
   "cell_type": "code",
   "execution_count": 12,
   "metadata": {},
   "outputs": [],
   "source": [
    "class Network81(torch.nn.Module):\n",
    "    def __init__(self):\n",
    "        super(Network81, self).__init__()\n",
    "\n",
    "        # (batch,T,V) -> (batch,T,d_w)\n",
    "        self.emb = torch.nn.Embedding(num_embeddings=V,\n",
    "                                      embedding_dim=d_w)\n",
    "        # (batch,T,d_w), (1,batch,d_h) -> (batch,T,d_h), (1,batch,d_h)\n",
    "        self.rnn = torch.nn.RNN(input_size=d_w,\n",
    "                                hidden_size=d_h,\n",
    "                                batch_first=True)\n",
    "        # (batch,d_h) -> (batch,4)\n",
    "        self.affine = torch.nn.Linear(in_features=d_h,\n",
    "                                      out_features=4)\n",
    "        self.log_softmax = torch.nn.LogSoftmax(dim=-1)\n",
    "\n",
    "    def forward(self, x, h0):\n",
    "        # (batch,T) -> (batch,T,d_w)\n",
    "        x = self.emb(x)\n",
    "        # (batch,T,d_w), (1,batch,d_h) -> (batch,T,d_h), (1,batch,d_h)\n",
    "        _, hn = self.rnn(x, h0)\n",
    "        # (1,batch,d_h) -> (batch,d_h)\n",
    "        hn = torch.squeeze(hn, 0)\n",
    "        # (batch,d_h) -> (batch,4)\n",
    "        x = self.affine(hn)\n",
    "        return self.log_softmax(x)"
   ]
  },
  {
   "cell_type": "code",
   "execution_count": 13,
   "metadata": {},
   "outputs": [],
   "source": [
    "network81 = Network81()"
   ]
  },
  {
   "cell_type": "code",
   "execution_count": 14,
   "metadata": {
    "scrolled": true
   },
   "outputs": [
    {
     "name": "stdout",
     "output_type": "stream",
     "text": [
      "tensor([[0.3053, 0.2050, 0.3143, 0.1754]], grad_fn=<ExpBackward>)\n"
     ]
    }
   ],
   "source": [
    "for x_in, _ in torch.utils.data.DataLoader(dataset81_test, batch_size=1):\n",
    "    h0 = torch.zeros(1, 1, d_h)\n",
    "    x_out = network81(x_in, h0)\n",
    "    y = torch.exp(x_out)\n",
    "    print(y)\n",
    "    break"
   ]
  },
  {
   "cell_type": "markdown",
   "metadata": {},
   "source": [
    "## [82. 確率的勾配降下法による学習](https://nlp100.github.io/ja/ch09.html#82-%E7%A2%BA%E7%8E%87%E7%9A%84%E5%8B%BE%E9%85%8D%E9%99%8D%E4%B8%8B%E6%B3%95%E3%81%AB%E3%82%88%E3%82%8B%E5%AD%A6%E7%BF%92)\n",
    "確率的勾配降下法（SGD: Stochastic Gradient Descent）を用いて，問題81で構築したモデルを学習せよ．訓練データ上の損失と正解率，評価データ上の損失と正解率を表示しながらモデルを学習し，適当な基準（例えば10エポックなど）で終了させよ．"
   ]
  },
  {
   "cell_type": "code",
   "execution_count": 15,
   "metadata": {},
   "outputs": [],
   "source": [
    "import matplotlib.pyplot as plt\n",
    "import pandas as pd\n",
    "import seaborn as sns"
   ]
  },
  {
   "cell_type": "code",
   "execution_count": 16,
   "metadata": {},
   "outputs": [
    {
     "data": {
      "text/plain": [
       "<torch._C.Generator at 0x7f99f8197b30>"
      ]
     },
     "execution_count": 16,
     "metadata": {},
     "output_type": "execute_result"
    }
   ],
   "source": [
    "random.seed(82)\n",
    "np.random.seed(82)\n",
    "torch.manual_seed(82)"
   ]
  },
  {
   "cell_type": "code",
   "execution_count": 17,
   "metadata": {},
   "outputs": [],
   "source": [
    "%matplotlib inline"
   ]
  },
  {
   "cell_type": "code",
   "execution_count": 18,
   "metadata": {},
   "outputs": [],
   "source": [
    "sns.set(style=\"darkgrid\", context=\"notebook\", palette=\"muted\")"
   ]
  },
  {
   "cell_type": "code",
   "execution_count": 19,
   "metadata": {},
   "outputs": [],
   "source": [
    "network82, epoch, lr = Network81(), 10, 0.05\n",
    "loader82_train = torch.utils.data.DataLoader(dataset81_train,\n",
    "                                             batch_size=1,\n",
    "                                             shuffle=True)\n",
    "loader82_valid = torch.utils.data.DataLoader(dataset81_valid,\n",
    "                                             batch_size=1,\n",
    "                                             shuffle=True)"
   ]
  },
  {
   "cell_type": "code",
   "execution_count": 20,
   "metadata": {},
   "outputs": [
    {
     "name": "stdout",
     "output_type": "stream",
     "text": [
      "Epoch:1/10,Loss:1677.313,Training Accuracy:53.00%,Validation Accuracy:62.50%\n",
      "Epoch:2/10,Loss:1832.675,Training Accuracy:57.66%,Validation Accuracy:59.51%\n",
      "Epoch:3/10,Loss:2100.950,Training Accuracy:60.35%,Validation Accuracy:42.22%\n",
      "Epoch:4/10,Loss:1578.757,Training Accuracy:61.42%,Validation Accuracy:63.55%\n",
      "Epoch:5/10,Loss:1690.090,Training Accuracy:61.39%,Validation Accuracy:60.55%\n",
      "Epoch:6/10,Loss:1792.233,Training Accuracy:62.51%,Validation Accuracy:59.06%\n",
      "Epoch:7/10,Loss:1791.270,Training Accuracy:60.12%,Validation Accuracy:63.17%\n",
      "Epoch:8/10,Loss:1939.560,Training Accuracy:59.01%,Validation Accuracy:58.83%\n",
      "Epoch:9/10,Loss:1784.198,Training Accuracy:59.59%,Validation Accuracy:53.07%\n",
      "Epoch:10/10,Loss:1907.828,Training Accuracy:59.37%,Validation Accuracy:51.80%\n",
      "CPU times: user 9min 54s, sys: 4.7 s, total: 9min 59s\n",
      "Wall time: 9min 56s\n"
     ]
    }
   ],
   "source": [
    "%%time\n",
    "result82 = {\"Epoch\" : [],\n",
    "            \"Type\" : [],\n",
    "            \"Loss\" : [],\n",
    "            \"Accuracy\" : []}\n",
    "\n",
    "for e in range(1, epoch+1):\n",
    "    criterion = torch.nn.NLLLoss()\n",
    "    optimizer = torch.optim.SGD(network82.parameters(), lr=lr)\n",
    "    loss_sum, correct_sum = 0.0, 0\n",
    "\n",
    "    for x_in, y in loader82_train:\n",
    "        network82.zero_grad()\n",
    "        h0 = torch.zeros(1, 1, d_h)\n",
    "        x_out = network82(x_in, h0)\n",
    "        loss = criterion(x_out, y)\n",
    "        loss.backward()\n",
    "        optimizer.step()\n",
    "\n",
    "        loss_sum += loss.item() * x_in.shape[0]\n",
    "        x_pred = torch.argmax(x_out, dim=1)\n",
    "        correct_sum += int(torch.sum(x_pred==y))\n",
    "\n",
    "    accuracy_train = 100.0 * correct_sum / len(dataset81_train)\n",
    "    result82[\"Epoch\"].append(e)\n",
    "    result82[\"Type\"].append(\"Training\")\n",
    "    result82[\"Loss\"].append(loss_sum)\n",
    "    result82[\"Accuracy\"].append(accuracy_train)\n",
    "\n",
    "    loss_sum, correct_sum = 0.0, 0\n",
    "\n",
    "    for x_in, y in loader82_valid:\n",
    "        network82.zero_grad()\n",
    "        h0 = torch.zeros(1, 1, d_h)\n",
    "        x_out = network82(x_in, h0)\n",
    "        loss = criterion(x_out, y)\n",
    "\n",
    "        loss_sum += loss.item() * x_in.shape[0]\n",
    "        x_pred = torch.argmax(x_out, dim=1)\n",
    "        correct_sum += int(torch.sum(x_pred==y))\n",
    "\n",
    "    accuracy_valid = 100.0 * correct_sum / len(dataset81_valid)\n",
    "    result82[\"Epoch\"].append(e)\n",
    "    result82[\"Type\"].append(\"Validation\")\n",
    "    result82[\"Loss\"].append(loss_sum)\n",
    "    result82[\"Accuracy\"].append(accuracy_valid)\n",
    "\n",
    "    args = (e, epoch, loss_sum, accuracy_train, accuracy_valid)\n",
    "    print_str = \"Epoch:%d/%d,Loss:%.3f,Training Accuracy:%.2f%%,Validation Accuracy:%.2f%%\"\n",
    "    print(print_str % args)"
   ]
  },
  {
   "cell_type": "code",
   "execution_count": 21,
   "metadata": {
    "scrolled": true
   },
   "outputs": [
    {
     "data": {
      "text/plain": [
       "<seaborn.axisgrid.FacetGrid at 0x7f9986cef400>"
      ]
     },
     "execution_count": 21,
     "metadata": {},
     "output_type": "execute_result"
    },
    {
     "data": {
      "image/png": "[encoded data removed]",
      "text/plain": [
       "<Figure size 454.225x360 with 1 Axes>"
      ]
     },
     "metadata": {},
     "output_type": "display_data"
    }
   ],
   "source": [
    "sns.relplot(x=\"Epoch\",\n",
    "            y=\"Loss\",\n",
    "            hue=\"Type\",\n",
    "            kind=\"line\",\n",
    "            data=pd.DataFrame(result82))"
   ]
  },
  {
   "cell_type": "code",
   "execution_count": 22,
   "metadata": {},
   "outputs": [
    {
     "data": {
      "text/plain": [
       "<seaborn.axisgrid.FacetGrid at 0x7f997cdc32b0>"
      ]
     },
     "execution_count": 22,
     "metadata": {},
     "output_type": "execute_result"
    },
    {
     "data": {
      "image/png": "[encoded data removed]",
      "text/plain": [
       "<Figure size 454.225x360 with 1 Axes>"
      ]
     },
     "metadata": {},
     "output_type": "display_data"
    }
   ],
   "source": [
    "sns.relplot(x=\"Epoch\",\n",
    "            y=\"Accuracy\",\n",
    "            hue=\"Type\",\n",
    "            kind=\"line\",\n",
    "            data=pd.DataFrame(result82))"
   ]
  },
  {
   "cell_type": "markdown",
   "metadata": {},
   "source": [
    "## [83. ミニバッチ化・GPU上での学習](https://nlp100.github.io/ja/ch09.html#83-%E3%83%9F%E3%83%8B%E3%83%90%E3%83%83%E3%83%81%E5%8C%96gpu%E4%B8%8A%E3%81%A7%E3%81%AE%E5%AD%A6%E7%BF%92)\n",
    "問題82のコードを改変し，$B$事例ごとに損失・勾配を計算して学習を行えるようにせよ（$B$の値は適当に選べ）．また，GPU上で学習を実行せよ．"
   ]
  },
  {
   "cell_type": "code",
   "execution_count": 23,
   "metadata": {},
   "outputs": [
    {
     "data": {
      "text/plain": [
       "True"
      ]
     },
     "execution_count": 23,
     "metadata": {},
     "output_type": "execute_result"
    }
   ],
   "source": [
    "torch.cuda.is_available()"
   ]
  },
  {
   "cell_type": "code",
   "execution_count": 24,
   "metadata": {},
   "outputs": [],
   "source": [
    "random.seed(83)\n",
    "np.random.seed(83)\n",
    "torch.manual_seed(83)\n",
    "if torch.cuda.is_available():\n",
    "    torch.cuda.manual_seed(83)\n",
    "    torch.backends.cudnn.deterministic = True\n",
    "    torch.backends.cudnn.benchmark = False"
   ]
  },
  {
   "cell_type": "code",
   "execution_count": 25,
   "metadata": {},
   "outputs": [],
   "source": [
    "def news_aggregator_collate_fn(batch):\n",
    "    x_batch = torch.nn.utils.rnn.pad_sequence([b[0] for b in batch],\n",
    "                                              batch_first=True)\n",
    "    y_batch = torch.tensor([b[1] for b in batch], dtype=torch.int64)\n",
    "\n",
    "    return x_batch, y_batch"
   ]
  },
  {
   "cell_type": "code",
   "execution_count": 26,
   "metadata": {},
   "outputs": [
    {
     "data": {
      "text/plain": [
       "device(type='cuda', index=0)"
      ]
     },
     "execution_count": 26,
     "metadata": {},
     "output_type": "execute_result"
    }
   ],
   "source": [
    "device = torch.device(\"cuda:0\")\n",
    "device"
   ]
  },
  {
   "cell_type": "code",
   "execution_count": 27,
   "metadata": {},
   "outputs": [],
   "source": [
    "network83, epoch, batch_size, lr = Network81().to(device), 30, 32, 0.05\n",
    "loader83_train = torch.utils.data.DataLoader(dataset81_train,\n",
    "                                             batch_size=batch_size,\n",
    "                                             collate_fn=news_aggregator_collate_fn,\n",
    "                                             shuffle=True)\n",
    "loader83_valid = torch.utils.data.DataLoader(dataset81_valid,\n",
    "                                             batch_size=1,\n",
    "                                             shuffle=True)"
   ]
  },
  {
   "cell_type": "code",
   "execution_count": 28,
   "metadata": {
    "scrolled": true
   },
   "outputs": [
    {
     "name": "stdout",
     "output_type": "stream",
     "text": [
      "Epoch:1/30,Loss:1801.138,Training Accuracy:46.13%,Validation Accuracy:34.88%\n",
      "Epoch:2/30,Loss:1793.971,Training Accuracy:50.86%,Validation Accuracy:36.23%\n",
      "Epoch:3/30,Loss:1734.103,Training Accuracy:51.43%,Validation Accuracy:41.54%\n",
      "Epoch:4/30,Loss:1750.406,Training Accuracy:53.84%,Validation Accuracy:43.04%\n",
      "Epoch:5/30,Loss:1756.773,Training Accuracy:47.81%,Validation Accuracy:50.30%\n",
      "Epoch:6/30,Loss:1458.255,Training Accuracy:51.57%,Validation Accuracy:62.65%\n",
      "Epoch:7/30,Loss:1495.398,Training Accuracy:53.25%,Validation Accuracy:57.63%\n",
      "Epoch:8/30,Loss:1527.637,Training Accuracy:48.63%,Validation Accuracy:56.66%\n",
      "Epoch:9/30,Loss:1465.028,Training Accuracy:51.18%,Validation Accuracy:61.15%\n",
      "Epoch:10/30,Loss:1522.287,Training Accuracy:54.65%,Validation Accuracy:58.98%\n",
      "Epoch:11/30,Loss:1408.543,Training Accuracy:45.96%,Validation Accuracy:64.90%\n",
      "Epoch:12/30,Loss:1793.147,Training Accuracy:51.17%,Validation Accuracy:48.73%\n",
      "Epoch:13/30,Loss:1727.668,Training Accuracy:48.24%,Validation Accuracy:52.99%\n",
      "Epoch:14/30,Loss:1709.835,Training Accuracy:49.82%,Validation Accuracy:54.34%\n",
      "Epoch:15/30,Loss:1645.206,Training Accuracy:48.03%,Validation Accuracy:55.99%\n",
      "Epoch:16/30,Loss:1587.811,Training Accuracy:49.48%,Validation Accuracy:57.93%\n",
      "Epoch:17/30,Loss:1431.917,Training Accuracy:54.42%,Validation Accuracy:63.10%\n",
      "Epoch:18/30,Loss:1430.981,Training Accuracy:52.70%,Validation Accuracy:60.55%\n",
      "Epoch:19/30,Loss:1576.162,Training Accuracy:54.61%,Validation Accuracy:61.75%\n",
      "Epoch:20/30,Loss:1505.631,Training Accuracy:58.77%,Validation Accuracy:58.01%\n",
      "Epoch:21/30,Loss:1987.043,Training Accuracy:46.92%,Validation Accuracy:40.04%\n",
      "Epoch:22/30,Loss:2026.776,Training Accuracy:47.44%,Validation Accuracy:40.42%\n",
      "Epoch:23/30,Loss:2183.855,Training Accuracy:48.33%,Validation Accuracy:40.42%\n",
      "Epoch:24/30,Loss:2241.184,Training Accuracy:48.70%,Validation Accuracy:39.67%\n",
      "Epoch:25/30,Loss:2225.237,Training Accuracy:50.51%,Validation Accuracy:40.34%\n",
      "Epoch:26/30,Loss:2202.334,Training Accuracy:51.28%,Validation Accuracy:40.19%\n",
      "Epoch:27/30,Loss:2184.815,Training Accuracy:51.09%,Validation Accuracy:40.42%\n",
      "Epoch:28/30,Loss:2225.262,Training Accuracy:51.07%,Validation Accuracy:40.49%\n",
      "Epoch:29/30,Loss:2241.038,Training Accuracy:51.85%,Validation Accuracy:40.72%\n",
      "Epoch:30/30,Loss:2173.557,Training Accuracy:53.00%,Validation Accuracy:41.54%\n",
      "CPU times: user 1min 5s, sys: 1.22 s, total: 1min 6s\n",
      "Wall time: 1min 6s\n"
     ]
    }
   ],
   "source": [
    "%%time\n",
    "result83 = {\"Epoch\" : [],\n",
    "            \"Type\" : [],\n",
    "            \"Loss\" : [],\n",
    "            \"Accuracy\" : []}\n",
    "\n",
    "for e in range(1, epoch+1):\n",
    "    criterion = torch.nn.NLLLoss()\n",
    "    optimizer = torch.optim.SGD(network83.parameters(), lr=lr)\n",
    "    loss_sum, correct_sum = 0.0, 0\n",
    "\n",
    "    for x_in, y in loader83_train:\n",
    "        network83.zero_grad()\n",
    "        h0 = torch.zeros(1, x_in.shape[0], d_h).to(device)\n",
    "        x_out = network83(x_in.to(device), h0)\n",
    "        loss = criterion(x_out, y.to(device))\n",
    "        loss.backward()\n",
    "        optimizer.step()\n",
    "\n",
    "        loss_sum += loss.item() * x_in.shape[0]\n",
    "        x_pred = torch.argmax(x_out, dim=1)\n",
    "        correct_sum += int(torch.sum(x_pred==y.to(device)))\n",
    "\n",
    "    accuracy_train = 100.0 * correct_sum / len(dataset81_train)\n",
    "    result83[\"Epoch\"].append(e)\n",
    "    result83[\"Type\"].append(\"Training\")\n",
    "    result83[\"Loss\"].append(loss_sum)\n",
    "    result83[\"Accuracy\"].append(accuracy_train)\n",
    "\n",
    "    loss_sum, correct_sum = 0.0, 0\n",
    "\n",
    "    for x_in, y in loader83_valid:\n",
    "        network83.zero_grad()\n",
    "        h0 = torch.zeros(1, 1, d_h).to(device)\n",
    "        x_out = network83(x_in.to(device), h0)\n",
    "        loss = criterion(x_out, y.to(device))\n",
    "\n",
    "        loss_sum += loss.item() * x_in.shape[0]\n",
    "        x_pred = torch.argmax(x_out, dim=1)\n",
    "        correct_sum += int(torch.sum(x_pred==y.to(device)))\n",
    "\n",
    "    accuracy_valid = 100.0 * correct_sum / len(dataset81_valid)\n",
    "    result83[\"Epoch\"].append(e)\n",
    "    result83[\"Type\"].append(\"Validation\")\n",
    "    result83[\"Loss\"].append(loss_sum)\n",
    "    result83[\"Accuracy\"].append(accuracy_valid)\n",
    "\n",
    "    args = (e, epoch, loss_sum, accuracy_train, accuracy_valid)\n",
    "    print_str = \"Epoch:%d/%d,Loss:%.3f,Training Accuracy:%.2f%%,Validation Accuracy:%.2f%%\"\n",
    "    print(print_str % args)"
   ]
  },
  {
   "cell_type": "code",
   "execution_count": 29,
   "metadata": {
    "scrolled": true
   },
   "outputs": [
    {
     "data": {
      "text/plain": [
       "<seaborn.axisgrid.FacetGrid at 0x7f9986cde1c0>"
      ]
     },
     "execution_count": 29,
     "metadata": {},
     "output_type": "execute_result"
    },
    {
     "data": {
      "image/png": "[encoded data removed]",
      "text/plain": [
       "<Figure size 454.225x360 with 1 Axes>"
      ]
     },
     "metadata": {},
     "output_type": "display_data"
    }
   ],
   "source": [
    "sns.relplot(x=\"Epoch\",\n",
    "            y=\"Loss\",\n",
    "            hue=\"Type\",\n",
    "            kind=\"line\",\n",
    "            data=pd.DataFrame(result83))"
   ]
  },
  {
   "cell_type": "code",
   "execution_count": 30,
   "metadata": {},
   "outputs": [
    {
     "data": {
      "text/plain": [
       "<seaborn.axisgrid.FacetGrid at 0x7f997c4afe50>"
      ]
     },
     "execution_count": 30,
     "metadata": {},
     "output_type": "execute_result"
    },
    {
     "data": {
      "image/png": "[encoded data removed]",
      "text/plain": [
       "<Figure size 454.225x360 with 1 Axes>"
      ]
     },
     "metadata": {},
     "output_type": "display_data"
    }
   ],
   "source": [
    "sns.relplot(x=\"Epoch\",\n",
    "            y=\"Accuracy\",\n",
    "            hue=\"Type\",\n",
    "            kind=\"line\",\n",
    "            data=pd.DataFrame(result83))"
   ]
  },
  {
   "cell_type": "markdown",
   "metadata": {},
   "source": [
    "## [84. 単語ベクトルの導入](https://nlp100.github.io/ja/ch09.html#84-%E5%8D%98%E8%AA%9E%E3%83%99%E3%82%AF%E3%83%88%E3%83%AB%E3%81%AE%E5%B0%8E%E5%85%A5)\n",
    "事前学習済みの単語ベクトル（例えば，Google Newsデータセット（約1,000億単語）での[学習済み単語ベクトル](https://drive.google.com/file/d/0B7XkCwpI5KDYNlNUTTlSS21pQmM/edit?usp=sharing)）で単語埋め込み$\\mathrm{emb}(x)$を初期化し，学習せよ．"
   ]
  },
  {
   "cell_type": "code",
   "execution_count": 31,
   "metadata": {},
   "outputs": [
    {
     "name": "stdout",
     "output_type": "stream",
     "text": [
      "Input/GoogleNews-vectors-negative300.bin\r\n"
     ]
    }
   ],
   "source": [
    "!ls Input/GoogleNews-vectors-negative300.bin"
   ]
  },
  {
   "cell_type": "code",
   "execution_count": 32,
   "metadata": {},
   "outputs": [
    {
     "name": "stdout",
     "output_type": "stream",
     "text": [
      "Output/Chapter06/test.txt\r\n",
      "Output/Chapter06/train.txt\r\n",
      "Output/Chapter06/valid.txt\r\n"
     ]
    }
   ],
   "source": [
    "!ls Output/Chapter06/*.txt | grep -v feature"
   ]
  },
  {
   "cell_type": "code",
   "execution_count": 33,
   "metadata": {},
   "outputs": [],
   "source": [
    "from gensim.models.keyedvectors import KeyedVectors"
   ]
  },
  {
   "cell_type": "code",
   "execution_count": 34,
   "metadata": {},
   "outputs": [
    {
     "name": "stdout",
     "output_type": "stream",
     "text": [
      "CPU times: user 19.5 s, sys: 3.59 s, total: 23 s\n",
      "Wall time: 33.8 s\n"
     ]
    }
   ],
   "source": [
    "%%time\n",
    "wv = KeyedVectors.load_word2vec_format(\"Input/GoogleNews-vectors-negative300.bin\", binary=True)"
   ]
  },
  {
   "cell_type": "code",
   "execution_count": 35,
   "metadata": {},
   "outputs": [],
   "source": [
    "random.seed(84)\n",
    "np.random.seed(84)\n",
    "torch.manual_seed(84)\n",
    "if torch.cuda.is_available():\n",
    "    torch.cuda.manual_seed(84)\n",
    "    torch.backends.cudnn.deterministic = True\n",
    "    torch.backends.cudnn.benchmark = False"
   ]
  },
  {
   "cell_type": "code",
   "execution_count": 36,
   "metadata": {},
   "outputs": [],
   "source": [
    "class NewsAggregatorDataset84(torch.utils.data.Dataset):\n",
    "    def __init__(self, type_str: str):\n",
    "        if type_str not in [\"train\", \"valid\", \"test\"]:\n",
    "            raise ValueError(\"Invalid type_str:%s\" % type_str)\n",
    "\n",
    "        in_path = \"Output/Chapter06/%s.txt\" % type_str\n",
    "        self.x_data, self.y_data = [], []\n",
    "\n",
    "        with open(in_path) as f:\n",
    "            for line in f:\n",
    "                elements = line.replace(\"\\n\", \"\").split(\"\\t\")\n",
    "                self.x_data.append(torch.tensor([wv[word] if word in wv else np.zeros(300)\n",
    "                                                 for word in elements[1].split()],\n",
    "                                                dtype=torch.float32))\n",
    "                self.y_data.append(torch.tensor(labels.index(elements[0]),\n",
    "                                                dtype=torch.int64))\n",
    "\n",
    "    def __len__(self):\n",
    "        return len(self.y_data)\n",
    "\n",
    "    def __getitem__(self, idx):\n",
    "        return self.x_data[idx], self.y_data[idx]"
   ]
  },
  {
   "cell_type": "code",
   "execution_count": 37,
   "metadata": {},
   "outputs": [
    {
     "name": "stdout",
     "output_type": "stream",
     "text": [
      "CPU times: user 5.57 s, sys: 129 ms, total: 5.7 s\n",
      "Wall time: 5.75 s\n"
     ]
    }
   ],
   "source": [
    "%%time\n",
    "dataset84_train = NewsAggregatorDataset84(\"train\")\n",
    "dataset84_valid = NewsAggregatorDataset84(\"valid\")\n",
    "dataset84_test = NewsAggregatorDataset84(\"test\")"
   ]
  },
  {
   "cell_type": "code",
   "execution_count": 38,
   "metadata": {},
   "outputs": [],
   "source": [
    "class Network84(torch.nn.Module):\n",
    "    def __init__(self):\n",
    "        super(Network84, self).__init__()\n",
    "\n",
    "        # (batch,T,d_w), (1,batch,d_h) -> (batch,T,d_h), (1,batch,d_h)\n",
    "        self.rnn = torch.nn.RNN(input_size=d_w,\n",
    "                                hidden_size=d_h,\n",
    "                                batch_first=True)\n",
    "        # (batch,d_h) -> (batch,4)\n",
    "        self.affine = torch.nn.Linear(in_features=d_h,\n",
    "                                      out_features=4)\n",
    "        self.log_softmax = torch.nn.LogSoftmax(dim=-1)\n",
    "\n",
    "    def forward(self, x, h0):\n",
    "        # (batch,T,d_w), (1,batch,d_h) -> (batch,T,d_h), (1,batch,d_h)\n",
    "        _, hn = self.rnn(x, h0)\n",
    "        # (1,batch,d_h) -> (batch,d_h)\n",
    "        hn = torch.squeeze(hn, 0)\n",
    "        # (batch,d_h) -> (batch,4)\n",
    "        x = self.affine(hn)\n",
    "        return self.log_softmax(x)"
   ]
  },
  {
   "cell_type": "code",
   "execution_count": 39,
   "metadata": {},
   "outputs": [],
   "source": [
    "network84, epoch, batch_size, lr = Network84().to(device), 30, 32, 0.05\n",
    "loader84_train = torch.utils.data.DataLoader(dataset84_train,\n",
    "                                             batch_size=batch_size,\n",
    "                                             collate_fn=news_aggregator_collate_fn,\n",
    "                                             shuffle=True)\n",
    "loader84_valid = torch.utils.data.DataLoader(dataset84_valid,\n",
    "                                             batch_size=1,\n",
    "                                             shuffle=True)"
   ]
  },
  {
   "cell_type": "code",
   "execution_count": 40,
   "metadata": {
    "scrolled": true
   },
   "outputs": [
    {
     "ename": "NameError",
     "evalue": "name 'network' is not defined",
     "output_type": "error",
     "traceback": [
      "\u001b[0;31m---------------------------------------------------------------------------\u001b[0m",
      "\u001b[0;31mNameError\u001b[0m                                 Traceback (most recent call last)",
      "\u001b[0;32m<timed exec>\u001b[0m in \u001b[0;36m<module>\u001b[0;34m\u001b[0m\n",
      "\u001b[0;31mNameError\u001b[0m: name 'network' is not defined"
     ]
    }
   ],
   "source": [
    "%%time\n",
    "result_84 = {\"Epoch\" : [],\n",
    "             \"Type\" : [],\n",
    "             \"Loss\" : [],\n",
    "             \"Accuracy\" : []}\n",
    "\n",
    "for e in range(1, epoch+1):\n",
    "    criterion = torch.nn.NLLLoss()\n",
    "    optimizer = torch.optim.SGD(network84.parameters(), lr=lr)\n",
    "    loss_sum, correct_sum = 0.0, 0\n",
    "\n",
    "    for x_in, y in loader84_train:\n",
    "        network.zero_grad()\n",
    "        h0 = torch.zeros(1, x_in.shape[0], d_h).to(device)\n",
    "        x_out = network84(x_in.to(device), h0)\n",
    "        loss = criterion(x_out, y.to(device))\n",
    "        loss.backward()\n",
    "        optimizer.step()\n",
    "\n",
    "        loss_sum += loss.item() * x_in.shape[0]\n",
    "        x_pred = torch.argmax(x_out, dim=1)\n",
    "        correct_sum += int(torch.sum(x_pred==y.to(device)))\n",
    "\n",
    "    accuracy_train = 100.0 * correct_sum / len(dataset84_train)\n",
    "    result_84[\"Epoch\"].append(e)\n",
    "    result_84[\"Type\"].append(\"Training\")\n",
    "    result_84[\"Loss\"].append(loss_sum)\n",
    "    result_84[\"Accuracy\"].append(accuracy_train)\n",
    "\n",
    "    loss_sum, correct_sum = 0.0, 0\n",
    "\n",
    "    for x_in, y in loader84_valid:\n",
    "        network84.zero_grad()\n",
    "        h0 = torch.zeros(1, 1, d_h).to(device)\n",
    "        x_out = network84(x_in.to(device), h0)\n",
    "        loss = criterion(x_out, y.to(device))\n",
    "\n",
    "        loss_sum += loss.item() * x_in.shape[0]\n",
    "        x_pred = torch.argmax(x_out, dim=1)\n",
    "        correct_sum += int(torch.sum(x_pred==y.to(device)))\n",
    "\n",
    "    accuracy_valid = 100.0 * correct_sum / len(dataset84_valid)\n",
    "    result_84[\"Epoch\"].append(e)\n",
    "    result_84[\"Type\"].append(\"Validation\")\n",
    "    result_84[\"Loss\"].append(loss_sum)\n",
    "    result_84[\"Accuracy\"].append(accuracy_valid)\n",
    "\n",
    "    args = (e, epoch, loss_sum, accuracy_train, accuracy_valid)\n",
    "    print_str = \"Epoch:%d/%d,Loss:%.3f,Training Accuracy:%.2f%%,Validation Accuracy:%.2f%%\"\n",
    "    print(print_str % args)"
   ]
  },
  {
   "cell_type": "code",
   "execution_count": 41,
   "metadata": {
    "scrolled": true
   },
   "outputs": [
    {
     "data": {
      "text/plain": [
       "<seaborn.axisgrid.FacetGrid at 0x7f982106a910>"
      ]
     },
     "execution_count": 41,
     "metadata": {},
     "output_type": "execute_result"
    },
    {
     "data": {
      "image/png": "[encoded data removed]",
      "text/plain": [
       "<Figure size 424.975x360 with 1 Axes>"
      ]
     },
     "metadata": {},
     "output_type": "display_data"
    }
   ],
   "source": [
    "sns.relplot(x=\"Epoch\",\n",
    "            y=\"Loss\",\n",
    "            hue=\"Type\",\n",
    "            kind=\"line\",\n",
    "            data=pd.DataFrame(result_84))"
   ]
  },
  {
   "cell_type": "code",
   "execution_count": 42,
   "metadata": {},
   "outputs": [
    {
     "data": {
      "text/plain": [
       "<seaborn.axisgrid.FacetGrid at 0x7f997c4329a0>"
      ]
     },
     "execution_count": 42,
     "metadata": {},
     "output_type": "execute_result"
    },
    {
     "data": {
      "image/png": "[encoded data removed]",
      "text/plain": [
       "<Figure size 424.975x360 with 1 Axes>"
      ]
     },
     "metadata": {},
     "output_type": "display_data"
    }
   ],
   "source": [
    "sns.relplot(x=\"Epoch\",\n",
    "            y=\"Accuracy\",\n",
    "            hue=\"Type\",\n",
    "            kind=\"line\",\n",
    "            data=pd.DataFrame(result_84))"
   ]
  },
  {
   "cell_type": "markdown",
   "metadata": {},
   "source": [
    "## [85. 双方向RNN・多層化](https://nlp100.github.io/ja/ch09.html#85-%E5%8F%8C%E6%96%B9%E5%90%91rnn%E5%A4%9A%E5%B1%A4%E5%8C%96)\n",
    "順方向と逆方向のRNNの両方を用いて入力テキストをエンコードし，モデルを学習せよ．\n",
    "$$\n",
    "\\overleftarrow{h}_{T+1} = 0, \\overleftarrow{h}_t = \\overleftarrow{\\mathrm{RNN}}(\\mathrm{emb}(x_t), \\overleftarrow{h}_{t+1}), y = \\mathrm{softmax}(W^{(yh)} [\\overrightarrow{h}_T; \\overleftarrow{h}_1] + b^{(y)})\n",
    "$$\n",
    "ただし，$\\overrightarrow{h}_t \\in \\mathbb{R}^{d_h}, \\overleftarrow{h}_t \\in \\mathbb{R}^{d_h}$はそれぞれ，順方向および逆方向のRNNで求めた時刻$t$の隠れ状態ベクトル，$\\overleftarrow{\\mathrm{RNN}}(x,h)$は入力$x$と次時刻の隠れ状態$h$から前状態を計算するRNNユニット，$W^{(yh)} \\in \\mathbb{R}^{L \\times 2d_h}$は隠れ状態ベクトルからカテゴリを予測するための行列，$b^{(y)} \\in \\mathbb{R}^{L}$はバイアス項である．また，$[a; b]$はベクトル$a$と$b$の連結を表す。\n",
    "\n",
    "さらに，双方向RNNを多層化して実験せよ．"
   ]
  },
  {
   "cell_type": "code",
   "execution_count": 43,
   "metadata": {},
   "outputs": [],
   "source": [
    "random.seed(85)\n",
    "np.random.seed(85)\n",
    "torch.manual_seed(85)\n",
    "if torch.cuda.is_available():\n",
    "    torch.cuda.manual_seed(85)\n",
    "    torch.backends.cudnn.deterministic = True\n",
    "    torch.backends.cudnn.benchmark = False"
   ]
  },
  {
   "cell_type": "code",
   "execution_count": 44,
   "metadata": {},
   "outputs": [],
   "source": [
    "V = len(word2count) + 1 # +1は出現回数1回のID番号0の分を追加している\n",
    "d_w = 300\n",
    "d_h = 100\n",
    "num_layers = 3"
   ]
  },
  {
   "cell_type": "code",
   "execution_count": 45,
   "metadata": {},
   "outputs": [],
   "source": [
    "class Network85(torch.nn.Module):\n",
    "    def __init__(self):\n",
    "        super(Network85, self).__init__()\n",
    "\n",
    "        # (batch,T,V) -> (batch,T,d_w)\n",
    "        self.emb = torch.nn.Embedding(num_embeddings=V,\n",
    "                                      embedding_dim=d_w)\n",
    "        # (batch,T,d_w), (2*num_layers,batch,d_h) -> (batch,T,2*d_h), (2*num_layers,batch,d_h)\n",
    "        self.rnn = torch.nn.RNN(input_size=d_w,\n",
    "                                hidden_size=d_h,\n",
    "                                num_layers=num_layers,\n",
    "                                batch_first=True,\n",
    "                                bidirectional=True)\n",
    "        # (batch,2*d_h) -> (batch,4)\n",
    "        self.affine = torch.nn.Linear(in_features=2*d_h,\n",
    "                                      out_features=4)\n",
    "        self.log_softmax = torch.nn.LogSoftmax(dim=-1)\n",
    "\n",
    "    def forward(self, x, h0):\n",
    "        # (batch,T) -> (batch,T,d_w)\n",
    "        x = self.emb(x)\n",
    "        # (batch,T,d_w), (2*num_layers,batch,d_h) -> (batch,T,2*d_h), (2*num_layers,batch,d_h)\n",
    "        _, hn = self.rnn(x, h0)\n",
    "        # (2*num_layers,batch,d_h) -> (num_layers,2,batch,d_h) -> (2,batch,d_h)\n",
    "        x = hn.view(num_layers, 2, h0.shape[1], d_h)[-1]\n",
    "        # (2,batch,d_h) -> (batch,2*d_h)\n",
    "        x = torch.cat([x[0], x[1]], 1)\n",
    "        # (batch,2*d_h) -> (batch,4)\n",
    "        x = self.affine(x)\n",
    "        return self.log_softmax(x)"
   ]
  },
  {
   "cell_type": "code",
   "execution_count": 46,
   "metadata": {},
   "outputs": [],
   "source": [
    "network85, epoch, batch_size, lr = Network85().to(device), 20, 32, 0.05\n",
    "loader85_train = torch.utils.data.DataLoader(dataset81_train,\n",
    "                                             batch_size=batch_size,\n",
    "                                             collate_fn=news_aggregator_collate_fn,\n",
    "                                             shuffle=True)\n",
    "loader85_valid = torch.utils.data.DataLoader(dataset81_valid,\n",
    "                                             batch_size=1,\n",
    "                                             shuffle=True)"
   ]
  },
  {
   "cell_type": "code",
   "execution_count": 47,
   "metadata": {
    "scrolled": true
   },
   "outputs": [
    {
     "name": "stdout",
     "output_type": "stream",
     "text": [
      "Epoch:1/20,Loss:1130.964,Training Accuracy:63.05%,Validation Accuracy:68.64%\n",
      "Epoch:2/20,Loss:1033.783,Training Accuracy:74.42%,Validation Accuracy:72.53%\n",
      "Epoch:3/20,Loss:969.592,Training Accuracy:79.49%,Validation Accuracy:73.65%\n",
      "Epoch:4/20,Loss:929.028,Training Accuracy:83.94%,Validation Accuracy:75.15%\n",
      "Epoch:5/20,Loss:839.920,Training Accuracy:88.06%,Validation Accuracy:79.12%\n",
      "Epoch:6/20,Loss:920.432,Training Accuracy:91.16%,Validation Accuracy:78.29%\n",
      "Epoch:7/20,Loss:1153.881,Training Accuracy:93.72%,Validation Accuracy:77.54%\n",
      "Epoch:8/20,Loss:988.316,Training Accuracy:95.50%,Validation Accuracy:79.49%\n",
      "Epoch:9/20,Loss:1177.335,Training Accuracy:97.01%,Validation Accuracy:79.04%\n",
      "Epoch:10/20,Loss:1136.745,Training Accuracy:97.79%,Validation Accuracy:80.76%\n",
      "Epoch:11/20,Loss:1241.870,Training Accuracy:98.65%,Validation Accuracy:80.54%\n",
      "Epoch:12/20,Loss:1211.865,Training Accuracy:99.36%,Validation Accuracy:81.59%\n",
      "Epoch:13/20,Loss:1198.443,Training Accuracy:99.82%,Validation Accuracy:82.41%\n",
      "Epoch:14/20,Loss:1255.465,Training Accuracy:99.91%,Validation Accuracy:81.89%\n",
      "Epoch:15/20,Loss:1271.050,Training Accuracy:99.94%,Validation Accuracy:82.41%\n",
      "Epoch:16/20,Loss:1330.498,Training Accuracy:99.95%,Validation Accuracy:82.19%\n",
      "Epoch:17/20,Loss:1303.708,Training Accuracy:99.94%,Validation Accuracy:82.41%\n",
      "Epoch:18/20,Loss:1303.501,Training Accuracy:99.96%,Validation Accuracy:82.41%\n",
      "Epoch:19/20,Loss:1309.746,Training Accuracy:99.95%,Validation Accuracy:82.11%\n",
      "Epoch:20/20,Loss:1307.744,Training Accuracy:99.95%,Validation Accuracy:82.78%\n",
      "CPU times: user 1min 41s, sys: 2.1 s, total: 1min 44s\n",
      "Wall time: 1min 44s\n"
     ]
    }
   ],
   "source": [
    "%%time\n",
    "result85 = {\"Epoch\" : [],\n",
    "            \"Type\" : [],\n",
    "            \"Loss\" : [],\n",
    "            \"Accuracy\" : []}\n",
    "\n",
    "for e in range(1, epoch+1):\n",
    "    criterion = torch.nn.NLLLoss()\n",
    "    optimizer = torch.optim.SGD(network85.parameters(), lr=lr)\n",
    "    loss_sum, correct_sum = 0.0, 0\n",
    "\n",
    "    for x_in, y in loader85_train:\n",
    "        network85.zero_grad()\n",
    "        h0 = torch.zeros(6, x_in.shape[0], d_h).to(device)\n",
    "        x_out = network85(x_in.to(device), h0)\n",
    "        loss = criterion(x_out, y.to(device))\n",
    "        loss.backward()\n",
    "        optimizer.step()\n",
    "\n",
    "        loss_sum += loss.item() * x_in.shape[0]\n",
    "        x_pred = torch.argmax(x_out, dim=1)\n",
    "        correct_sum += int(torch.sum(x_pred==y.to(device)))\n",
    "\n",
    "    accuracy_train = 100.0 * correct_sum / len(dataset81_train)\n",
    "    result85[\"Epoch\"].append(e)\n",
    "    result85[\"Type\"].append(\"Training\")\n",
    "    result85[\"Loss\"].append(loss_sum)\n",
    "    result85[\"Accuracy\"].append(accuracy_train)\n",
    "\n",
    "    loss_sum, correct_sum = 0.0, 0\n",
    "\n",
    "    for x_in, y in loader85_valid:\n",
    "        network85.zero_grad()\n",
    "        h0 = torch.zeros(6, 1, d_h).to(device)\n",
    "        x_out = network85(x_in.to(device), h0)\n",
    "        loss = criterion(x_out, y.to(device))\n",
    "\n",
    "        loss_sum += loss.item() * x_in.shape[0]\n",
    "        x_pred = torch.argmax(x_out, dim=1)\n",
    "        correct_sum += int(torch.sum(x_pred==y.to(device)))\n",
    "\n",
    "    accuracy_valid = 100.0 * correct_sum / len(dataset81_valid)\n",
    "    result85[\"Epoch\"].append(e)\n",
    "    result85[\"Type\"].append(\"Validation\")\n",
    "    result85[\"Loss\"].append(loss_sum)\n",
    "    result85[\"Accuracy\"].append(accuracy_valid)\n",
    "\n",
    "    args = (e, epoch, loss_sum, accuracy_train, accuracy_valid)\n",
    "    print_str = \"Epoch:%d/%d,Loss:%.3f,Training Accuracy:%.2f%%,Validation Accuracy:%.2f%%\"\n",
    "    print(print_str % args)"
   ]
  },
  {
   "cell_type": "code",
   "execution_count": 48,
   "metadata": {
    "scrolled": true
   },
   "outputs": [
    {
     "data": {
      "text/plain": [
       "<seaborn.axisgrid.FacetGrid at 0x7f997c3bdcd0>"
      ]
     },
     "execution_count": 48,
     "metadata": {},
     "output_type": "execute_result"
    },
    {
     "data": {
      "image/png": "[encoded data removed]",
      "text/plain": [
       "<Figure size 454.225x360 with 1 Axes>"
      ]
     },
     "metadata": {},
     "output_type": "display_data"
    }
   ],
   "source": [
    "sns.relplot(x=\"Epoch\",\n",
    "            y=\"Loss\",\n",
    "            hue=\"Type\",\n",
    "            kind=\"line\",\n",
    "            data=pd.DataFrame(result85))"
   ]
  },
  {
   "cell_type": "code",
   "execution_count": 49,
   "metadata": {},
   "outputs": [
    {
     "data": {
      "text/plain": [
       "<seaborn.axisgrid.FacetGrid at 0x7f9820d16280>"
      ]
     },
     "execution_count": 49,
     "metadata": {},
     "output_type": "execute_result"
    },
    {
     "data": {
      "image/png": "[encoded data removed]",
      "text/plain": [
       "<Figure size 454.225x360 with 1 Axes>"
      ]
     },
     "metadata": {},
     "output_type": "display_data"
    }
   ],
   "source": [
    "sns.relplot(x=\"Epoch\",\n",
    "            y=\"Accuracy\",\n",
    "            hue=\"Type\",\n",
    "            kind=\"line\",\n",
    "            data=pd.DataFrame(result85))"
   ]
  },
  {
   "cell_type": "markdown",
   "metadata": {},
   "source": [
    "## [86. 畳み込みニューラルネットワーク (CNN)](https://nlp100.github.io/ja/ch09.html#86-%E7%95%B3%E3%81%BF%E8%BE%BC%E3%81%BF%E3%83%8B%E3%83%A5%E3%83%BC%E3%83%A9%E3%83%AB%E3%83%8D%E3%83%83%E3%83%88%E3%83%AF%E3%83%BC%E3%82%AF-cnn)\n",
    "ID番号で表現された単語列$\\boldsymbol{x} = (x_1, x_2, \\dots, x_T)$がある．ただし，$T$は単語列の長さ，$x_t \\in \\mathbb{R}^{V}$は単語のID番号のone-hot表記である（$V$は単語の総数である）．畳み込みニューラルネットワーク（CNN: Convolutional Neural Network）を用い，単語列$\\boldsymbol{x}$からカテゴリ$y$を予測するモデルを実装せよ．\n",
    "\n",
    "ただし，畳み込みニューラルネットワークの構成は以下の通りとする．\n",
    "+ 単語埋め込みの次元数: $d_w$\n",
    "+ 畳み込みのフィルターのサイズ: 3 トークン\n",
    "+ 畳み込みのストライド: 1 トークン\n",
    "+ 畳み込みのパディング: あり\n",
    "+ 畳み込み演算後の各時刻のベクトルの次元数: $d_h$\n",
    "+ 畳み込み演算後に最大値プーリング（max pooling）を適用し，入力文を$d_h$次元の隠れベクトルで表現\n",
    "\n",
    "すなわち，時刻$t$の特徴ベクトル$p_t \\in \\mathbb{R}^{d_h}$は次式で表される．\n",
    "$$\n",
    "p_t = g(W^{(px)} [\\mathrm{emb}(x_{t-1}); \\mathrm{emb}(x_t); \\mathrm{emb}(x_{t+1})] + b^{(p)})\n",
    "$$\n",
    "ただし，$W^{(px)} \\in \\mathbb{R}^{d_h \\times 3d_w}, b^{(p)} \\in \\mathbb{R}^{d_h}$はCNNのパラメータ，$g$は活性化関数（例えば$\\tanh$やReLUなど），$[a; b; c]$はベクトル$a, b, c$の連結である．なお，行列$W^{(px)}$の列数が$3d_w$になるのは，3個のトークンの単語埋め込みを連結したものに対して，線形変換を行うためである．\n",
    "\n",
    "最大値プーリングでは，特徴ベクトルの次元毎に全時刻における最大値を取り，入力文書の特徴ベクトル$c \\in \\mathbb{R}^{d_h}$を求める．$c[i]$でベクトル$c$の$i$番目の次元の値を表すことにすると，最大値プーリングは次式で表される．\n",
    "$$\n",
    "c[i] = \\max_{1 \\leq t \\leq T} p_t[i]\n",
    "$$\n",
    "最後に，入力文書の特徴ベクトル$c$に行列$W^{(yc)} \\in \\mathbb{R}^{L \\times d_h}$とバイアス項$b^{(y)} \\in \\mathbb{R}^{L}$による線形変換とソフトマックス関数を適用し，カテゴリ$y$を予測する．\n",
    "$$\n",
    "y = \\mathrm{softmax}(W^{(yc)} c + b^{(y)})\n",
    "$$\n",
    "なお，この問題ではモデルの学習を行わず，ランダムに初期化された重み行列で$y$を計算するだけでよい．"
   ]
  },
  {
   "cell_type": "code",
   "execution_count": 50,
   "metadata": {},
   "outputs": [],
   "source": [
    "class Network86(torch.nn.Module):\n",
    "    def __init__(self):\n",
    "        super(Network86, self).__init__()\n",
    "\n",
    "        # (batch,T,V) -> (batch,T,d_w)\n",
    "        self.emb = torch.nn.Embedding(num_embeddings=V,\n",
    "                                      embedding_dim=d_w)\n",
    "        # (batch,d_w,T) -> (batch,d_h,T)\n",
    "        self.conv = torch.nn.Conv1d(in_channels=d_w,\n",
    "                                    out_channels=d_h,\n",
    "                                    kernel_size=3,\n",
    "                                    stride=1,\n",
    "                                    padding=1,\n",
    "                                    dilation=1,\n",
    "                                    bias=True)\n",
    "        self.tanh = torch.nn.Tanh()\n",
    "        # (batch,d_h) -> (batch,4)\n",
    "        self.affine = torch.nn.Linear(in_features=d_h,\n",
    "                                      out_features=4)\n",
    "        self.log_softmax = torch.nn.LogSoftmax(dim=-1)\n",
    "\n",
    "    def forward(self, x):\n",
    "        # (batch,T) -> (batch,T,d_w)\n",
    "        x = self.emb(x)\n",
    "        # (batch,T,d_w) -> (batch,d_w,T)\n",
    "        x = x.permute(0, 2, 1)\n",
    "        # (batch,d_w,T) -> (batch,d_h,T)\n",
    "        x = self.conv(x)\n",
    "        x = self.tanh(x)\n",
    "        # (batch,d_h,T) -> (batch,d_h)\n",
    "        x = x.max(2)[0]\n",
    "        # (batch,d_h) -> (batch,4)\n",
    "        x = self.affine(x)\n",
    "        return self.log_softmax(x)"
   ]
  },
  {
   "cell_type": "code",
   "execution_count": 51,
   "metadata": {},
   "outputs": [],
   "source": [
    "network86 = Network86()"
   ]
  },
  {
   "cell_type": "code",
   "execution_count": 52,
   "metadata": {
    "scrolled": true
   },
   "outputs": [
    {
     "name": "stdout",
     "output_type": "stream",
     "text": [
      "tensor([[0.1985, 0.2858, 0.2242, 0.2915]], grad_fn=<ExpBackward>)\n"
     ]
    }
   ],
   "source": [
    "for x_in, _ in torch.utils.data.DataLoader(dataset81_test, batch_size=1):\n",
    "    x_out = network86(x_in)\n",
    "    y = torch.exp(x_out)\n",
    "    print(y)\n",
    "    break"
   ]
  },
  {
   "cell_type": "markdown",
   "metadata": {},
   "source": [
    "## [87. 確率的勾配降下法によるCNNの学習](https://nlp100.github.io/ja/ch09.html#87-%E7%A2%BA%E7%8E%87%E7%9A%84%E5%8B%BE%E9%85%8D%E9%99%8D%E4%B8%8B%E6%B3%95%E3%81%AB%E3%82%88%E3%82%8Bcnn%E3%81%AE%E5%AD%A6%E7%BF%92)\n",
    "確率的勾配降下法（SGD: Stochastic Gradient Descent）を用いて，問題86で構築したモデルを学習せよ．訓練データ上の損失と正解率，評価データ上の損失と正解率を表示しながらモデルを学習し，適当な基準（例えば10エポックなど）で終了させよ．"
   ]
  },
  {
   "cell_type": "code",
   "execution_count": 53,
   "metadata": {},
   "outputs": [],
   "source": [
    "random.seed(87)\n",
    "np.random.seed(87)\n",
    "torch.manual_seed(87)\n",
    "if torch.cuda.is_available():\n",
    "    torch.cuda.manual_seed(87)\n",
    "    torch.backends.cudnn.deterministic = True\n",
    "    torch.backends.cudnn.benchmark = False"
   ]
  },
  {
   "cell_type": "code",
   "execution_count": 54,
   "metadata": {},
   "outputs": [],
   "source": [
    "network87, epoch, batch_size, lr = Network86().to(device), 10, 32, 0.05\n",
    "loader87_train = torch.utils.data.DataLoader(dataset81_train,\n",
    "                                             batch_size=batch_size,\n",
    "                                             collate_fn=news_aggregator_collate_fn,\n",
    "                                             shuffle=True)\n",
    "loader87_valid = torch.utils.data.DataLoader(dataset81_valid,\n",
    "                                             batch_size=1,\n",
    "                                             shuffle=True)"
   ]
  },
  {
   "cell_type": "code",
   "execution_count": 55,
   "metadata": {
    "scrolled": true
   },
   "outputs": [
    {
     "name": "stdout",
     "output_type": "stream",
     "text": [
      "Epoch:1/10,Loss:1031.112,Training Accuracy:67.16%,Validation Accuracy:72.23%\n",
      "Epoch:2/10,Loss:861.830,Training Accuracy:79.21%,Validation Accuracy:75.82%\n",
      "Epoch:3/10,Loss:770.474,Training Accuracy:88.87%,Validation Accuracy:79.12%\n",
      "Epoch:4/10,Loss:743.997,Training Accuracy:94.92%,Validation Accuracy:79.72%\n",
      "Epoch:5/10,Loss:723.246,Training Accuracy:98.55%,Validation Accuracy:81.21%\n",
      "Epoch:6/10,Loss:736.243,Training Accuracy:99.76%,Validation Accuracy:80.84%\n",
      "Epoch:7/10,Loss:740.977,Training Accuracy:99.91%,Validation Accuracy:81.44%\n",
      "Epoch:8/10,Loss:751.087,Training Accuracy:99.93%,Validation Accuracy:81.44%\n",
      "Epoch:9/10,Loss:765.326,Training Accuracy:99.93%,Validation Accuracy:81.06%\n",
      "Epoch:10/10,Loss:772.096,Training Accuracy:99.96%,Validation Accuracy:81.21%\n",
      "CPU times: user 16.8 s, sys: 185 ms, total: 17 s\n",
      "Wall time: 17.1 s\n"
     ]
    }
   ],
   "source": [
    "%%time\n",
    "result87 = {\"Epoch\" : [],\n",
    "            \"Type\" : [],\n",
    "            \"Loss\" : [],\n",
    "            \"Accuracy\" : []}\n",
    "\n",
    "for e in range(1, epoch+1):\n",
    "    criterion = torch.nn.NLLLoss()\n",
    "    optimizer = torch.optim.SGD(network87.parameters(), lr=lr)\n",
    "    loss_sum, correct_sum = 0.0, 0\n",
    "\n",
    "    for x_in, y in loader87_train:\n",
    "        network87.zero_grad()\n",
    "        x_out = network87(x_in.to(device))\n",
    "        loss = criterion(x_out, y.to(device))\n",
    "        loss.backward()\n",
    "        optimizer.step()\n",
    "\n",
    "        loss_sum += loss.item() * x_in.shape[0]\n",
    "        x_pred = torch.argmax(x_out, dim=1)\n",
    "        correct_sum += int(torch.sum(x_pred==y.to(device)))\n",
    "\n",
    "    accuracy_train = 100.0 * correct_sum / len(dataset81_train)\n",
    "    result87[\"Epoch\"].append(e)\n",
    "    result87[\"Type\"].append(\"Training\")\n",
    "    result87[\"Loss\"].append(loss_sum)\n",
    "    result87[\"Accuracy\"].append(accuracy_train)\n",
    "\n",
    "    loss_sum, correct_sum = 0.0, 0\n",
    "\n",
    "    for x_in, y in loader87_valid:\n",
    "        network87.zero_grad()\n",
    "        x_out = network87(x_in.to(device))\n",
    "        loss = criterion(x_out, y.to(device))\n",
    "\n",
    "        loss_sum += loss.item() * x_in.shape[0]\n",
    "        x_pred = torch.argmax(x_out, dim=1)\n",
    "        correct_sum += int(torch.sum(x_pred==y.to(device)))\n",
    "\n",
    "    accuracy_valid = 100.0 * correct_sum / len(dataset81_valid)\n",
    "    result87[\"Epoch\"].append(e)\n",
    "    result87[\"Type\"].append(\"Validation\")\n",
    "    result87[\"Loss\"].append(loss_sum)\n",
    "    result87[\"Accuracy\"].append(accuracy_valid)\n",
    "\n",
    "    args = (e, epoch, loss_sum, accuracy_train, accuracy_valid)\n",
    "    print_str = \"Epoch:%d/%d,Loss:%.3f,Training Accuracy:%.2f%%,Validation Accuracy:%.2f%%\"\n",
    "    print(print_str % args)"
   ]
  },
  {
   "cell_type": "code",
   "execution_count": 56,
   "metadata": {
    "scrolled": true
   },
   "outputs": [
    {
     "data": {
      "text/plain": [
       "<seaborn.axisgrid.FacetGrid at 0x7f9820cf6490>"
      ]
     },
     "execution_count": 56,
     "metadata": {},
     "output_type": "execute_result"
    },
    {
     "data": {
      "image/png": "[encoded data removed]",
      "text/plain": [
       "<Figure size 454.225x360 with 1 Axes>"
      ]
     },
     "metadata": {},
     "output_type": "display_data"
    }
   ],
   "source": [
    "sns.relplot(x=\"Epoch\",\n",
    "            y=\"Loss\",\n",
    "            hue=\"Type\",\n",
    "            kind=\"line\",\n",
    "            data=pd.DataFrame(result87))"
   ]
  },
  {
   "cell_type": "code",
   "execution_count": 57,
   "metadata": {},
   "outputs": [
    {
     "data": {
      "text/plain": [
       "<seaborn.axisgrid.FacetGrid at 0x7f9820bd4d60>"
      ]
     },
     "execution_count": 57,
     "metadata": {},
     "output_type": "execute_result"
    },
    {
     "data": {
      "image/png": "[encoded data removed]",
      "text/plain": [
       "<Figure size 454.225x360 with 1 Axes>"
      ]
     },
     "metadata": {},
     "output_type": "display_data"
    }
   ],
   "source": [
    "sns.relplot(x=\"Epoch\",\n",
    "            y=\"Accuracy\",\n",
    "            hue=\"Type\",\n",
    "            kind=\"line\",\n",
    "            data=pd.DataFrame(result87))"
   ]
  },
  {
   "cell_type": "markdown",
   "metadata": {},
   "source": [
    "## [88. パラメータチューニング](https://nlp100.github.io/ja/ch09.html#88-%E3%83%91%E3%83%A9%E3%83%A1%E3%83%BC%E3%82%BF%E3%83%81%E3%83%A5%E3%83%BC%E3%83%8B%E3%83%B3%E3%82%B0)\n",
    "問題85や問題87のコードを改変し，ニューラルネットワークの形状やハイパーパラメータを調整しながら，高性能なカテゴリ分類器を構築せよ．"
   ]
  },
  {
   "cell_type": "code",
   "execution_count": 58,
   "metadata": {},
   "outputs": [],
   "source": [
    "random.seed(88)\n",
    "np.random.seed(88)\n",
    "torch.manual_seed(88)\n",
    "if torch.cuda.is_available():\n",
    "    torch.cuda.manual_seed(88)\n",
    "    torch.backends.cudnn.deterministic = True\n",
    "    torch.backends.cudnn.benchmark = False"
   ]
  },
  {
   "cell_type": "code",
   "execution_count": 59,
   "metadata": {},
   "outputs": [],
   "source": [
    "V = len(word2count) + 1 # +1は出現回数1回のID番号0の分を追加している\n",
    "d_w = 300\n",
    "d_h = 100\n",
    "num_layers = 3\n",
    "dropout_prob = 0.2"
   ]
  },
  {
   "cell_type": "code",
   "execution_count": 60,
   "metadata": {},
   "outputs": [],
   "source": [
    "class Network88(torch.nn.Module):\n",
    "    def __init__(self):\n",
    "        super(Network88, self).__init__()\n",
    "\n",
    "        # (batch,T,V) -> (batch,T,d_w)\n",
    "        self.emb = torch.nn.Embedding(num_embeddings=V,\n",
    "                                      embedding_dim=d_w)\n",
    "        # (batch,T,d_w), ((2*num_layers,batch,d_h),(2*num_layers,batch,d_h))\n",
    "        # -> (batch,T,2*d_h), ((2*num_layers,batch,d_h),(2*num_layers,batch,d_h))\n",
    "        self.lstm = torch.nn.LSTM(input_size=d_w,\n",
    "                                  hidden_size=d_h,\n",
    "                                  num_layers=num_layers,\n",
    "                                  batch_first=True,\n",
    "                                  dropout=dropout_prob,\n",
    "                                  bidirectional=True)\n",
    "        # (batch,2*d_h) -> (batch,4)\n",
    "        self.affine = torch.nn.Linear(in_features=2*d_h,\n",
    "                                      out_features=4)\n",
    "        self.log_softmax = torch.nn.LogSoftmax(dim=-1)\n",
    "\n",
    "    def forward(self, x, hc):\n",
    "        # (batch,T) -> (batch,T,d_w)\n",
    "        x = self.emb(x)\n",
    "        # (batch,T,d_w), ((2*num_layers,batch,d_h),(2*num_layers,batch,d_h))\n",
    "        # -> (batch,T,2*d_h), ((2*num_layers,batch,d_h),(2*num_layers,batch,d_h))\n",
    "        _, (hn, _) = self.lstm(x, hc)\n",
    "        # (2*num_layers,batch,d_h) -> (num_layers,2,batch,d_h) -> (2,batch,d_h)\n",
    "        x = hn.view(num_layers, 2, h0.shape[1], d_h)[-1]\n",
    "        # (2,batch,d_h) -> (batch,2*d_h)\n",
    "        x = torch.cat([x[0], x[1]], 1)\n",
    "        # (batch,2*d_h) -> (batch,4)\n",
    "        x = self.affine(x)\n",
    "        return self.log_softmax(x)"
   ]
  },
  {
   "cell_type": "code",
   "execution_count": 61,
   "metadata": {},
   "outputs": [],
   "source": [
    "network88, epoch, batch_size = Network88().to(device), 10, 32\n",
    "loader88_train = torch.utils.data.DataLoader(dataset81_train,\n",
    "                                             batch_size=batch_size,\n",
    "                                             collate_fn=news_aggregator_collate_fn,\n",
    "                                             shuffle=True)\n",
    "loader88_valid = torch.utils.data.DataLoader(dataset81_valid,\n",
    "                                             batch_size=1,\n",
    "                                             shuffle=True)"
   ]
  },
  {
   "cell_type": "code",
   "execution_count": 62,
   "metadata": {
    "scrolled": true
   },
   "outputs": [
    {
     "name": "stdout",
     "output_type": "stream",
     "text": [
      "Epoch:1/10,Loss:666.166,Training Accuracy:74.13%,Validation Accuracy:82.41%\n",
      "Epoch:2/10,Loss:558.064,Training Accuracy:88.60%,Validation Accuracy:85.63%\n",
      "Epoch:3/10,Loss:561.923,Training Accuracy:94.87%,Validation Accuracy:86.45%\n",
      "Epoch:4/10,Loss:579.980,Training Accuracy:97.33%,Validation Accuracy:87.28%\n",
      "Epoch:5/10,Loss:609.920,Training Accuracy:98.66%,Validation Accuracy:88.70%\n",
      "Epoch:6/10,Loss:679.581,Training Accuracy:98.92%,Validation Accuracy:88.77%\n",
      "Epoch:7/10,Loss:706.356,Training Accuracy:99.33%,Validation Accuracy:88.17%\n",
      "Epoch:8/10,Loss:950.102,Training Accuracy:99.47%,Validation Accuracy:86.75%\n",
      "Epoch:9/10,Loss:883.106,Training Accuracy:99.50%,Validation Accuracy:87.87%\n",
      "Epoch:10/10,Loss:821.234,Training Accuracy:99.62%,Validation Accuracy:88.62%\n",
      "CPU times: user 1min 8s, sys: 1.17 s, total: 1min 9s\n",
      "Wall time: 1min 9s\n"
     ]
    }
   ],
   "source": [
    "%%time\n",
    "result88 = {\"Epoch\" : [],\n",
    "            \"Type\" : [],\n",
    "            \"Loss\" : [],\n",
    "            \"Accuracy\" : []}\n",
    "\n",
    "for e in range(1, epoch+1):\n",
    "    criterion = torch.nn.NLLLoss()\n",
    "    optimizer = torch.optim.Adam(network88.parameters())\n",
    "    loss_sum, correct_sum = 0.0, 0\n",
    "\n",
    "    for x_in, y in loader88_train:\n",
    "        network88.zero_grad()\n",
    "        h0 = torch.zeros(2*num_layers, x_in.shape[0], d_h).to(device)\n",
    "        c0 = torch.zeros(2*num_layers, x_in.shape[0], d_h).to(device)\n",
    "        x_out = network88(x_in.to(device), (h0,c0))\n",
    "        loss = criterion(x_out, y.to(device))\n",
    "        loss.backward()\n",
    "        optimizer.step()\n",
    "\n",
    "        loss_sum += loss.item() * x_in.shape[0]\n",
    "        x_pred = torch.argmax(x_out, dim=1)\n",
    "        correct_sum += int(torch.sum(x_pred==y.to(device)))\n",
    "\n",
    "    accuracy_train = 100.0 * correct_sum / len(dataset81_train)\n",
    "    result88[\"Epoch\"].append(e)\n",
    "    result88[\"Type\"].append(\"Training\")\n",
    "    result88[\"Loss\"].append(loss_sum)\n",
    "    result88[\"Accuracy\"].append(accuracy_train)\n",
    "\n",
    "    loss_sum, correct_sum = 0.0, 0\n",
    "\n",
    "    for x_in, y in loader88_valid:\n",
    "        network88.zero_grad()\n",
    "        h0 = torch.zeros(2*num_layers, 1, d_h).to(device)\n",
    "        c0 = torch.zeros(2*num_layers, 1, d_h).to(device)\n",
    "        x_out = network88(x_in.to(device), (h0,c0))\n",
    "        loss = criterion(x_out, y.to(device))\n",
    "\n",
    "        loss_sum += loss.item() * x_in.shape[0]\n",
    "        x_pred = torch.argmax(x_out, dim=1)\n",
    "        correct_sum += int(torch.sum(x_pred==y.to(device)))\n",
    "\n",
    "    accuracy_valid = 100.0 * correct_sum / len(dataset81_valid)\n",
    "    result88[\"Epoch\"].append(e)\n",
    "    result88[\"Type\"].append(\"Validation\")\n",
    "    result88[\"Loss\"].append(loss_sum)\n",
    "    result88[\"Accuracy\"].append(accuracy_valid)\n",
    "\n",
    "    args = (e, epoch, loss_sum, accuracy_train, accuracy_valid)\n",
    "    print_str = \"Epoch:%d/%d,Loss:%.3f,Training Accuracy:%.2f%%,Validation Accuracy:%.2f%%\"\n",
    "    print(print_str % args)"
   ]
  },
  {
   "cell_type": "code",
   "execution_count": 63,
   "metadata": {
    "scrolled": true
   },
   "outputs": [
    {
     "data": {
      "text/plain": [
       "<seaborn.axisgrid.FacetGrid at 0x7f9820bb90d0>"
      ]
     },
     "execution_count": 63,
     "metadata": {},
     "output_type": "execute_result"
    },
    {
     "data": {
      "image/png": "[encoded data removed]",
      "text/plain": [
       "<Figure size 454.225x360 with 1 Axes>"
      ]
     },
     "metadata": {},
     "output_type": "display_data"
    }
   ],
   "source": [
    "sns.relplot(x=\"Epoch\",\n",
    "            y=\"Loss\",\n",
    "            hue=\"Type\",\n",
    "            kind=\"line\",\n",
    "            data=pd.DataFrame(result88))"
   ]
  },
  {
   "cell_type": "code",
   "execution_count": 64,
   "metadata": {},
   "outputs": [
    {
     "data": {
      "text/plain": [
       "<seaborn.axisgrid.FacetGrid at 0x7f9820b39d90>"
      ]
     },
     "execution_count": 64,
     "metadata": {},
     "output_type": "execute_result"
    },
    {
     "data": {
      "image/png": "[encoded data removed]",
      "text/plain": [
       "<Figure size 454.225x360 with 1 Axes>"
      ]
     },
     "metadata": {},
     "output_type": "display_data"
    }
   ],
   "source": [
    "sns.relplot(x=\"Epoch\",\n",
    "            y=\"Accuracy\",\n",
    "            hue=\"Type\",\n",
    "            kind=\"line\",\n",
    "            data=pd.DataFrame(result88))"
   ]
  },
  {
   "cell_type": "markdown",
   "metadata": {},
   "source": [
    "## [89. 事前学習済み言語モデルからの転移学習](https://nlp100.github.io/ja/ch09.html#89-%E4%BA%8B%E5%89%8D%E5%AD%A6%E7%BF%92%E6%B8%88%E3%81%BF%E8%A8%80%E8%AA%9E%E3%83%A2%E3%83%87%E3%83%AB%E3%81%8B%E3%82%89%E3%81%AE%E8%BB%A2%E7%A7%BB%E5%AD%A6%E7%BF%92)\n",
    "事前学習済み言語モデル（例えば[BERT](https://github.com/google-research/bert)など）を出発点として，ニュース記事見出しをカテゴリに分類するモデルを構築せよ．"
   ]
  },
  {
   "cell_type": "code",
   "execution_count": 65,
   "metadata": {},
   "outputs": [],
   "source": [
    "from pytorch_transformers import BertForSequenceClassification"
   ]
  },
  {
   "cell_type": "code",
   "execution_count": 66,
   "metadata": {},
   "outputs": [],
   "source": [
    "random.seed(89)\n",
    "np.random.seed(89)\n",
    "torch.manual_seed(89)\n",
    "if torch.cuda.is_available():\n",
    "    torch.cuda.manual_seed(89)\n",
    "    torch.backends.cudnn.deterministic = True\n",
    "    torch.backends.cudnn.benchmark = False"
   ]
  },
  {
   "cell_type": "code",
   "execution_count": 67,
   "metadata": {},
   "outputs": [],
   "source": [
    "# 事前学習済の「Embedding層+BERT12層」の後に、Dropout層とAffine層を追加し、\n",
    "# Embedding層、および、Affine層のみ転移学習する\n",
    "network89 = BertForSequenceClassification.from_pretrained(\"bert-base-uncased\",\n",
    "                                                          output_attentions=False,\n",
    "                                                          output_hidden_states=False,\n",
    "                                                          num_labels=4).to(device)\n",
    "for param in network89.bert.encoder.parameters():\n",
    "    param.requires_grad = False"
   ]
  },
  {
   "cell_type": "code",
   "execution_count": 68,
   "metadata": {},
   "outputs": [],
   "source": [
    "epoch, batch_size = 5, 32\n",
    "loader89_train = torch.utils.data.DataLoader(dataset81_train,\n",
    "                                             batch_size=batch_size,\n",
    "                                             collate_fn=news_aggregator_collate_fn,\n",
    "                                             shuffle=True)\n",
    "loader89_valid = torch.utils.data.DataLoader(dataset81_valid,\n",
    "                                             batch_size=1,\n",
    "                                             shuffle=True)"
   ]
  },
  {
   "cell_type": "code",
   "execution_count": 69,
   "metadata": {
    "scrolled": true
   },
   "outputs": [
    {
     "name": "stdout",
     "output_type": "stream",
     "text": [
      "Epoch:1/5,Loss:492.133,Training Accuracy:80.26%,Validation Accuracy:87.65%\n",
      "Epoch:2/5,Loss:452.799,Training Accuracy:94.37%,Validation Accuracy:89.15%\n",
      "Epoch:3/5,Loss:720.175,Training Accuracy:97.89%,Validation Accuracy:87.35%\n",
      "Epoch:4/5,Loss:702.290,Training Accuracy:98.82%,Validation Accuracy:87.80%\n",
      "Epoch:5/5,Loss:840.976,Training Accuracy:99.34%,Validation Accuracy:87.87%\n",
      "CPU times: user 3min 42s, sys: 430 ms, total: 3min 42s\n",
      "Wall time: 3min 43s\n"
     ]
    }
   ],
   "source": [
    "%%time\n",
    "result89 = {\"Epoch\" : [],\n",
    "            \"Type\" : [],\n",
    "            \"Loss\" : [],\n",
    "            \"Accuracy\" : []}\n",
    "\n",
    "for e in range(1, epoch+1):\n",
    "    criterion = torch.nn.NLLLoss()\n",
    "    optimizer = torch.optim.Adam(network89.parameters())\n",
    "    loss_sum, correct_sum = 0.0, 0\n",
    "\n",
    "    for x_in, y in loader89_train:\n",
    "        network89.zero_grad()\n",
    "        loss, logits = network89(x_in.to(device),\n",
    "                                 labels=y.to(device),\n",
    "                                 token_type_ids=None,\n",
    "                                 attention_mask=None)\n",
    "        loss.backward()\n",
    "        optimizer.step()\n",
    "\n",
    "        loss_sum += loss.item() * x_in.shape[0]\n",
    "        x_pred = torch.argmax(logits, dim=1)\n",
    "        correct_sum += int(torch.sum(x_pred==y.to(device)))\n",
    "\n",
    "    accuracy_train = 100.0 * correct_sum / len(dataset81_train)\n",
    "    result89[\"Epoch\"].append(e)\n",
    "    result89[\"Type\"].append(\"Training\")\n",
    "    result89[\"Loss\"].append(loss_sum)\n",
    "    result89[\"Accuracy\"].append(accuracy_train)\n",
    "\n",
    "    loss_sum, correct_sum = 0.0, 0\n",
    "\n",
    "    for x_in, y in loader89_valid:\n",
    "        network89.zero_grad()\n",
    "        loss, logits = network89(x_in.to(device),\n",
    "                                 labels=y.to(device),\n",
    "                                 token_type_ids=None,\n",
    "                                 attention_mask=None)\n",
    "\n",
    "        loss_sum += loss.item() * x_in.shape[0]\n",
    "        x_pred = torch.argmax(logits, dim=1)\n",
    "        correct_sum += int(torch.sum(x_pred==y.to(device)))\n",
    "\n",
    "    accuracy_valid = 100.0 * correct_sum / len(dataset81_valid)\n",
    "    result89[\"Epoch\"].append(e)\n",
    "    result89[\"Type\"].append(\"Validation\")\n",
    "    result89[\"Loss\"].append(loss_sum)\n",
    "    result89[\"Accuracy\"].append(accuracy_valid)\n",
    "\n",
    "    args = (e, epoch, loss_sum, accuracy_train, accuracy_valid)\n",
    "    print_str = \"Epoch:%d/%d,Loss:%.3f,Training Accuracy:%.2f%%,Validation Accuracy:%.2f%%\"\n",
    "    print(print_str % args)"
   ]
  },
  {
   "cell_type": "code",
   "execution_count": 70,
   "metadata": {
    "scrolled": true
   },
   "outputs": [
    {
     "data": {
      "text/plain": [
       "<seaborn.axisgrid.FacetGrid at 0x7f97fcd94130>"
      ]
     },
     "execution_count": 70,
     "metadata": {},
     "output_type": "execute_result"
    },
    {
     "data": {
      "image/png": "[encoded data removed]",
      "text/plain": [
       "<Figure size 454.225x360 with 1 Axes>"
      ]
     },
     "metadata": {},
     "output_type": "display_data"
    }
   ],
   "source": [
    "sns.relplot(x=\"Epoch\",\n",
    "            y=\"Loss\",\n",
    "            hue=\"Type\",\n",
    "            kind=\"line\",\n",
    "            data=pd.DataFrame(result89))"
   ]
  },
  {
   "cell_type": "code",
   "execution_count": 71,
   "metadata": {},
   "outputs": [
    {
     "data": {
      "text/plain": [
       "<seaborn.axisgrid.FacetGrid at 0x7f97fd3b17c0>"
      ]
     },
     "execution_count": 71,
     "metadata": {},
     "output_type": "execute_result"
    },
    {
     "data": {
      "image/png": "[encoded data removed]",
      "text/plain": [
       "<Figure size 454.225x360 with 1 Axes>"
      ]
     },
     "metadata": {},
     "output_type": "display_data"
    }
   ],
   "source": [
    "sns.relplot(x=\"Epoch\",\n",
    "            y=\"Accuracy\",\n",
    "            hue=\"Type\",\n",
    "            kind=\"line\",\n",
    "            data=pd.DataFrame(result89))"
   ]
  }
 ],
 "metadata": {
  "kernelspec": {
   "display_name": "Python 3",
   "language": "python",
   "name": "python3"
  },
  "language_info": {
   "codemirror_mode": {
    "name": "ipython",
    "version": 3
   },
   "file_extension": ".py",
   "mimetype": "text/x-python",
   "name": "python",
   "nbconvert_exporter": "python",
   "pygments_lexer": "ipython3",
   "version": "3.8.2"
  }
 },
 "nbformat": 4,
 "nbformat_minor": 4
}
